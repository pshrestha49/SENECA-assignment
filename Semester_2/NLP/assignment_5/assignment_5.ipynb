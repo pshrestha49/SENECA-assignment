{
 "cells": [
  {
   "cell_type": "code",
   "execution_count": 1,
   "id": "7d049c12",
   "metadata": {},
   "outputs": [],
   "source": [
    "import string\n",
    "import nltk\n",
    "import pandas as pd\n",
    "from sklearn.model_selection import train_test_split\n",
    "from sklearn.feature_extraction.text import TfidfVectorizer\n",
    "from sklearn.naive_bayes import MultinomialNB\n",
    "from sklearn.metrics import accuracy_score\n",
    "from nltk.corpus import stopwords\n"
   ]
  },
  {
   "cell_type": "code",
   "execution_count": 2,
   "id": "40023cb1",
   "metadata": {},
   "outputs": [
    {
     "name": "stderr",
     "output_type": "stream",
     "text": [
      "[nltk_data] Downloading package stopwords to /home/toybot/nltk_data...\n",
      "[nltk_data]   Package stopwords is already up-to-date!\n"
     ]
    },
    {
     "data": {
      "text/plain": [
       "True"
      ]
     },
     "execution_count": 2,
     "metadata": {},
     "output_type": "execute_result"
    }
   ],
   "source": [
    "nltk.download('stopwords')\n"
   ]
  },
  {
   "cell_type": "code",
   "execution_count": 22,
   "id": "5c96604c",
   "metadata": {},
   "outputs": [],
   "source": [
    "import ast  # Safe evaluation of string to Python object\n",
    "\n",
    "with open(\"labelled.txt\", \"r\") as f:\n",
    "    labelled_sentences = [ast.literal_eval(line.strip()) for line in f.readlines()]\n",
    "\n",
    "\n",
    "\n",
    "with open(\"unlabelled.txt\", \"r\") as f:\n",
    "    unlabelled_sentences = [line.strip() for line in f.readlines()]"
   ]
  },
  {
   "cell_type": "code",
   "execution_count": 23,
   "id": "6295df0d",
   "metadata": {},
   "outputs": [
    {
     "data": {
      "text/plain": [
       "[(('MISC',\n",
       "   'The latter may also be applied to correct for an incidental large loop'),\n",
       "  ('AIMX',\n",
       "   'In this paper we apply the idea to graphical models for continuous variables'),\n",
       "  ('OWNX',\n",
       "   'We derive the loop corrected belief propagation equations for simple tractable Gaussian models, yielding a message passing scheme that, besides the correct average marginals, also yields the correct variances'),\n",
       "  ('CONT',\n",
       "   'Although related work has focused on discrete systems, our method extends it to continuous domains'),\n",
       "  ('BASE',\n",
       "   \"Previous research supports our method's effectiveness on similar tasks\"))]"
      ]
     },
     "execution_count": 23,
     "metadata": {},
     "output_type": "execute_result"
    }
   ],
   "source": [
    "labelled_sentences"
   ]
  },
  {
   "cell_type": "code",
   "execution_count": 4,
   "id": "ed8c3ec6",
   "metadata": {},
   "outputs": [],
   "source": [
    "stop_words = set(stopwords.words('english'))\n",
    "def preprocess(text):\n",
    "    text = text.lower()\n",
    "    text = text.translate(str.maketrans('', '', string.punctuation))\n",
    "    return ' '.join(word for word in text.split() if word not in stop_words)\n"
   ]
  },
  {
   "cell_type": "code",
   "execution_count": 24,
   "id": "3b259f23",
   "metadata": {},
   "outputs": [
    {
     "ename": "ValueError",
     "evalue": "too many values to unpack (expected 2)",
     "output_type": "error",
     "traceback": [
      "\u001b[0;31m---------------------------------------------------------------------------\u001b[0m",
      "\u001b[0;31mValueError\u001b[0m                                Traceback (most recent call last)",
      "Cell \u001b[0;32mIn[24], line 1\u001b[0m\n\u001b[0;32m----> 1\u001b[0m labels, texts \u001b[38;5;241m=\u001b[39m \u001b[38;5;28mzip\u001b[39m(\u001b[38;5;241m*\u001b[39mlabelled_sentences)\n\u001b[1;32m      2\u001b[0m processed_texts \u001b[38;5;241m=\u001b[39m [preprocess(sentence) \u001b[38;5;28;01mfor\u001b[39;00m sentence \u001b[38;5;129;01min\u001b[39;00m texts]\n\u001b[1;32m      3\u001b[0m processed_unlabelled \u001b[38;5;241m=\u001b[39m [preprocess(sentence) \u001b[38;5;28;01mfor\u001b[39;00m sentence \u001b[38;5;129;01min\u001b[39;00m unlabelled_sentences]\n",
      "\u001b[0;31mValueError\u001b[0m: too many values to unpack (expected 2)"
     ]
    }
   ],
   "source": [
    "labels, texts = zip(*labelled_sentences)\n",
    "processed_texts = [preprocess(sentence) for sentence in texts]\n",
    "processed_unlabelled = [preprocess(sentence) for sentence in unlabelled_sentences]\n"
   ]
  },
  {
   "cell_type": "code",
   "execution_count": null,
   "id": "aceed519",
   "metadata": {},
   "outputs": [],
   "source": []
  }
 ],
 "metadata": {
  "kernelspec": {
   "display_name": "base",
   "language": "python",
   "name": "python3"
  },
  "language_info": {
   "codemirror_mode": {
    "name": "ipython",
    "version": 3
   },
   "file_extension": ".py",
   "mimetype": "text/x-python",
   "name": "python",
   "nbconvert_exporter": "python",
   "pygments_lexer": "ipython3",
   "version": "3.12.7"
  }
 },
 "nbformat": 4,
 "nbformat_minor": 5
}
