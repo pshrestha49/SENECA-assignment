{
  "metadata": {
    "language_info": {
      "codemirror_mode": {
        "name": "python",
        "version": 3
      },
      "file_extension": ".py",
      "mimetype": "text/x-python",
      "name": "python",
      "nbconvert_exporter": "python",
      "pygments_lexer": "ipython3",
      "version": "3.8"
    },
    "kernelspec": {
      "name": "python",
      "display_name": "Python (Pyodide)",
      "language": "python"
    }
  },
  "nbformat_minor": 4,
  "nbformat": 4,
  "cells": [
    {
      "cell_type": "code",
      "source": "# AIG150 Winter 2024\n# Week 2 Sample Code \n# Asma M Paracha\n# Data can be split in multiple files to have smaller file sizes for transportation\n# You can read multiple files using a for loop and load the data into DataFrame one by one",
      "metadata": {},
      "execution_count": null,
      "outputs": []
    },
    {
      "cell_type": "code",
      "source": "import pandas as pd",
      "metadata": {
        "trusted": true
      },
      "execution_count": 1,
      "outputs": []
    },
    {
      "cell_type": "code",
      "source": "# from the current directory, find all the files with this pattern\nfrom pathlib import Path\nbillboard_data_files = (\n    Path(\".\")\n    .glob(\"billboard-*.csv\")\n)",
      "metadata": {
        "trusted": true
      },
      "execution_count": 2,
      "outputs": []
    },
    {
      "cell_type": "code",
      "source": "# create an empty list to append to\nlist_billboard_df = []",
      "metadata": {
        "trusted": true
      },
      "execution_count": 3,
      "outputs": []
    },
    {
      "cell_type": "code",
      "source": "# loop though each CSV filename\nfor csv_filename in billboard_data_files:\n# you can choose to print the filename for debugging\n    print(csv_filename)\n# load the CSV file into a dataframe\n    df = pd.read_csv(csv_filename)\n # append the dataframe to the list that will hold the dataframes\n    list_billboard_df.append(df)",
      "metadata": {
        "trusted": true
      },
      "execution_count": 4,
      "outputs": [
        {
          "name": "stdout",
          "text": "billboard-01.csv\nbillboard-02.csv\nbillboard-03.csv\nbillboard-04.csv\n",
          "output_type": "stream"
        }
      ]
    },
    {
      "cell_type": "code",
      "source": "# print the length of the dataframe\nprint(len(list_billboard_df))",
      "metadata": {
        "trusted": true
      },
      "execution_count": 5,
      "outputs": [
        {
          "name": "stdout",
          "text": "4\n",
          "output_type": "stream"
        }
      ]
    },
    {
      "cell_type": "code",
      "source": "# type of the first element\nprint(type(list_billboard_df[0]))",
      "metadata": {
        "trusted": true
      },
      "execution_count": 6,
      "outputs": [
        {
          "name": "stdout",
          "text": "<class 'pandas.core.frame.DataFrame'>\n",
          "output_type": "stream"
        }
      ]
    },
    {
      "cell_type": "code",
      "source": "# look at the first dataframe\nprint(list_billboard_df[0])",
      "metadata": {
        "trusted": true
      },
      "execution_count": 7,
      "outputs": [
        {
          "name": "stdout",
          "text": "     year            artist                    track  time date.entered  wk1  \\\n0    2000             2 Pac  Baby Don't Cry (Keep...  4:22   2000-02-26  wk1   \n1    2000           2Ge+her  The Hardest Part Of ...  3:15   2000-09-02  wk1   \n2    2000      3 Doors Down               Kryptonite  3:53   2000-04-08  wk1   \n3    2000      3 Doors Down                    Loser  4:24   2000-10-21  wk1   \n4    2000          504 Boyz            Wobble Wobble  3:35   2000-04-15  wk1   \n..    ...               ...                      ...   ...          ...  ...   \n312  2000       Yankee Grey     Another Nine Minutes  3:10   2000-04-29  wk1   \n313  2000  Yearwood, Trisha          Real Live Woman  3:55   2000-04-01  wk1   \n314  2000   Ying Yang Twins  Whistle While You Tw...  4:19   2000-03-18  wk1   \n315  2000     Zombie Nation            Kernkraft 400  3:30   2000-09-02  wk1   \n316  2000   matchbox twenty                     Bent  4:12   2000-04-29  wk1   \n\n     rating  \n0        87  \n1        91  \n2        81  \n3        76  \n4        57  \n..      ...  \n312      86  \n313      85  \n314      95  \n315      99  \n316      60  \n\n[317 rows x 7 columns]\n",
          "output_type": "stream"
        }
      ]
    },
    {
      "cell_type": "code",
      "source": "# concat all the dataframes objects in one \nbillboard_loop_concat = pd.concat(list_billboard_df)\nprint(billboard_loop_concat.shape)",
      "metadata": {
        "trusted": true
      },
      "execution_count": 8,
      "outputs": [
        {
          "name": "stdout",
          "text": "(1268, 8)\n",
          "output_type": "stream"
        }
      ]
    },
    {
      "cell_type": "code",
      "source": "",
      "metadata": {},
      "execution_count": null,
      "outputs": []
    }
  ]
}