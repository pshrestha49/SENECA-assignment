{
 "cells": [
  {
   "cell_type": "markdown",
   "metadata": {},
   "source": [
    "# Machine Learning - Lab 1\n",
    "This lab provides you with basic essentials of:\n",
    "1. Setting up your development environment (virtual environment)\n",
    "2. Python and Libraries\n"
   ]
  },
  {
   "cell_type": "markdown",
   "id": "7715ced7",
   "metadata": {},
   "source": [
    "\n",
    "# Introduction to Conda\n",
    "\n",
    "## What is Conda?\n",
    "Conda is an open-source package management system and environment management system. It simplifies the installation and management of software packages and their dependencies for Python projects.\n",
    "\n",
    "## Why use Conda?\n",
    "Conda allows you to create isolated environments for different projects, ensuring that each project has its own dependencies and packages without affecting others.\n",
    "\n",
    "## Task\n",
    "1. Install Conda by following the instructions on the official website: [Conda Installation Guide](https://docs.conda.io/projects/conda/en/latest/user-guide/install/index.html).\n",
    "2. Verify the installation by running `conda --version` in your terminal.\n",
    "\n",
    "## Assessment Question\n"
   ]
  },
  {
   "cell_type": "markdown",
   "id": "9c2f4bb7",
   "metadata": {},
   "source": [
    "# Why is it beneficial to use Conda for Python environment management, especially in machine learning and data science projects?\n",
    "\n",
    "Conda is widely used in the field of machine learning and data science projects beacuse of the following reasons:\n",
    "\n",
    "\n",
    "1. Dependency Management : Normally, in a machine learning or data science project, there are quite complex dependencies to install, like a library having a C/C++ binding-for instance, TensorFlow, PyTorch, SciPy. Conda minimizes all hassles during their installation by managing the binary dependencies of packages, thereby avoiding compilation problems.\n",
    "\n",
    "\n",
    "2. Isolation of Environments : Conda creates isolated environments, thereby avoiding issues of dependency conflict. For different projects, dependencies requires different versions and conda helps to manage those dependencies in an isolated environemnt.\n",
    "\n",
    "\n",
    "3. Ease of Use : Conda is pretty simple to use and has simple commands to manage the packages and install it.\n",
    "\n",
    "\n",
    "4. Reproducibility/Sharability : Environment configurations can be exported-for instance, via conda env export-and shared, thus making the reproduction of experiments and collaboration with others much easier.\n",
    "\n",
    "\n",
    "5. GPU Support : Conda painlessly can install GPU-accelerated libraries such as TensorFlow and PyTorch since these are painful to install with pip because of dependencies of CUDA and cuDNN.\n",
    "\n",
    "\n",
    "6. Multi-Platform Compatibility: Conda works the same in Windows, macOS, and Linux for environment management.\n",
    "\n",
    "\n",
    "7. Scalable : While working in  local environment it is easier to transfer the work from local to cloud production.\n",
    "\n"
   ]
  },
  {
   "cell_type": "markdown",
   "id": "56b6940f",
   "metadata": {},
   "source": [
    "\n",
    "# Setting up a Python Environment with Conda\n",
    "\n",
    "## Creating and Managing Environments\n",
    "Conda allows you to create separate environments for different projects, each with its own set of packages.\n",
    "\n",
    "## Task\n",
    "1. Create a new Conda environment named 'ml_lab1' with Python 3.8: `conda create --name ml_lab1 python=3.8`\n",
    "2. Activate the environment: `conda activate ml_lab1`\n",
    "3. Install NumPy, Pandas, Matplotlib, and SciPy in the environment.\n",
    "\n",
    "## Assessment Question\n"
   ]
  },
  {
   "cell_type": "markdown",
   "id": "26a50fae",
   "metadata": {},
   "source": [
    "\n",
    "## Describe the steps to create a new environment in Conda and install a specific version of Python and a few packages.\n",
    "\n",
    "1. Enter command `conda create --name ml_lab1 python=3.8`\n",
    "2. While creating conda environment, it will ask to press y to confirm\n",
    "3. Activate the conda environment using `conda activate ml_lab1`\n",
    "4. To install packages use `conda install numpy pandas matplotlib scipy`"
   ]
  },
  {
   "cell_type": "markdown",
   "id": "81701a45",
   "metadata": {},
   "source": [
    "\n",
    "# Introduction to Python Basics\n",
    "\n",
    "Python is a popular programming language for data analysis and machine learning. In this section, we'll cover basic Python syntax and data types.\n",
    "\n",
    "## Task\n",
    "Write a Python script that takes a list of numbers and returns a list containing only the even numbers.\n",
    "\n",
    "\n"
   ]
  },
  {
   "cell_type": "code",
   "execution_count": 1,
   "id": "0c35579c",
   "metadata": {},
   "outputs": [
    {
     "name": "stdout",
     "output_type": "stream",
     "text": [
      "[2, 4]\n"
     ]
    }
   ],
   "source": [
    "def get_even(num_list):\n",
    "    even_num_list = []\n",
    "    for i in num_list:\n",
    "        if type(i)==int and i%2==0:\n",
    "            even_num_list.append(i)\n",
    "    return even_num_list\n",
    "\n",
    "print(get_even([1,2,3,4,'werwer']))"
   ]
  },
  {
   "cell_type": "markdown",
   "id": "cc158494",
   "metadata": {},
   "source": [
    "## Assessment Question\n",
    "- Explain the difference between a list and a tuple in Python.\n",
    "List -- \n",
    "1. List is a mutable, unordered collection of items\n",
    "2. Syntax: defined by using a big bracket '[]'\n",
    "3. Using it slower than tuple because its mutable and overhead\n",
    "\n",
    "Tuple --\n",
    "1. Tuple is a immutable, unordered collection of items\n",
    "2. Syntac: defined by using a small bracket '()'\n",
    "3. Using it is faster than list because its immutable and no overhead\n"
   ]
  },
  {
   "cell_type": "markdown",
   "id": "c64a4156",
   "metadata": {},
   "source": [
    "\n",
    "# Working with NumPy\n",
    "\n",
    "NumPy is a fundamental package for scientific computing with Python. It provides support for large, multi-dimensional arrays and matrices, along with a large collection of high-level mathematical functions to operate on these arrays.\n",
    "\n",
    "## Task\n",
    "Create a NumPy array and perform basic array operations (addition, multiplication).\n",
    "\n",
    "\n"
   ]
  },
  {
   "cell_type": "code",
   "execution_count": 3,
   "id": "97e874b4",
   "metadata": {},
   "outputs": [
    {
     "name": "stdout",
     "output_type": "stream",
     "text": [
      "arr1 [0. 1. 2. 3. 4.]\n",
      "arr2 [5. 4. 3. 2. 1.]\n",
      "addition array [5. 5. 5. 5. 5.]\n",
      "multiplication array [0. 4. 6. 6. 4.]\n"
     ]
    }
   ],
   "source": [
    "import numpy as np\n",
    "arr1 = np.array([])\n",
    "arr2 = np.array([])\n",
    "for i in range(5):\n",
    "    arr1 = np.append(arr1,i)\n",
    "    arr2 = np.append(arr2, 5-i)\n",
    "add_arr = arr2 + arr1\n",
    "mul_arr = arr2 * arr1\n",
    "print(f'arr1 {arr1}')\n",
    "print(f'arr2 {arr2}')\n",
    "print(f'addition array {add_arr}')\n",
    "print(f'multiplication array {mul_arr}')"
   ]
  },
  {
   "cell_type": "markdown",
   "id": "d2a5aa23",
   "metadata": {},
   "source": [
    "## Assessment Question\n",
    "## What are the advantages of using NumPy arrays over standard Python lists for numerical data?\n",
    "Numpy is faster because optimized C-based is implemented whereas the list is not optimized for numerical operations \n",
    "\n",
    "Numpy consumes less memory because it is desigend only for numerical operations\n",
    "\n",
    "Numpy supports vectorized operations so theres no need for loops but list needs explicit loop for elementwise operations\n",
    "\n",
    "Numpy supports wide range of mathematical and statistical operations\n"
   ]
  },
  {
   "cell_type": "markdown",
   "id": "8a3cb3bb",
   "metadata": {},
   "source": [
    "\n",
    "# Data Manipulation with Pandas\n",
    "\n",
    "Pandas is an open-source data analysis and manipulation tool, built on top of the Python programming language.\n",
    "\n",
    "## Task\n",
    "Read a CSV file into a DataFrame, display the first few rows, and filter the data based on a condition.\n"
   ]
  },
  {
   "cell_type": "code",
   "execution_count": 10,
   "id": "81f555d5",
   "metadata": {},
   "outputs": [
    {
     "name": "stdout",
     "output_type": "stream",
     "text": [
      "   USERS  PEDESTRIANS  CARS  IN_BANK  DF_BANK  DF_SAME_ATM  DF_DIFF_ATM  \\\n",
      "0   1877          338  2180        1      0.0          4.3          0.0   \n",
      "1   1498          811  4352        0      0.5          0.5          3.7   \n",
      "2   1421          961  5526        0      5.6          2.7          2.7   \n",
      "3    -56          491  2806        1      0.0          1.4          0.0   \n",
      "4   1039          483  3119        1      0.0          1.7          1.9   \n",
      "\n",
      "     POP  AVG_INC  VIOLENT     LOCATION  \n",
      "0   3000    61000       15         MALL  \n",
      "1  17000    61000        4  RESIDENTIAL  \n",
      "2  11000    76000       19  RESIDENTIAL  \n",
      "3  15000    81000       44         MALL  \n",
      "4  10000    60000        7     BUSINESS  \n"
     ]
    },
    {
     "data": {
      "text/html": [
       "<div>\n",
       "<style scoped>\n",
       "    .dataframe tbody tr th:only-of-type {\n",
       "        vertical-align: middle;\n",
       "    }\n",
       "\n",
       "    .dataframe tbody tr th {\n",
       "        vertical-align: top;\n",
       "    }\n",
       "\n",
       "    .dataframe thead th {\n",
       "        text-align: right;\n",
       "    }\n",
       "</style>\n",
       "<table border=\"1\" class=\"dataframe\">\n",
       "  <thead>\n",
       "    <tr style=\"text-align: right;\">\n",
       "      <th></th>\n",
       "      <th>USERS</th>\n",
       "      <th>CARS</th>\n",
       "      <th>POP</th>\n",
       "    </tr>\n",
       "  </thead>\n",
       "  <tbody>\n",
       "    <tr>\n",
       "      <th>0</th>\n",
       "      <td>1877</td>\n",
       "      <td>2180</td>\n",
       "      <td>3000</td>\n",
       "    </tr>\n",
       "    <tr>\n",
       "      <th>1</th>\n",
       "      <td>1498</td>\n",
       "      <td>4352</td>\n",
       "      <td>17000</td>\n",
       "    </tr>\n",
       "    <tr>\n",
       "      <th>2</th>\n",
       "      <td>1421</td>\n",
       "      <td>5526</td>\n",
       "      <td>11000</td>\n",
       "    </tr>\n",
       "    <tr>\n",
       "      <th>3</th>\n",
       "      <td>-56</td>\n",
       "      <td>2806</td>\n",
       "      <td>15000</td>\n",
       "    </tr>\n",
       "    <tr>\n",
       "      <th>4</th>\n",
       "      <td>1039</td>\n",
       "      <td>3119</td>\n",
       "      <td>10000</td>\n",
       "    </tr>\n",
       "  </tbody>\n",
       "</table>\n",
       "</div>"
      ],
      "text/plain": [
       "   USERS  CARS    POP\n",
       "0   1877  2180   3000\n",
       "1   1498  4352  17000\n",
       "2   1421  5526  11000\n",
       "3    -56  2806  15000\n",
       "4   1039  3119  10000"
      ]
     },
     "execution_count": 10,
     "metadata": {},
     "output_type": "execute_result"
    }
   ],
   "source": [
    "import pandas as pd\n",
    "\n",
    "atm_df = pd.read_csv(\"ATM.csv\")\n",
    "print(atm_df.head())\n",
    "atm_filtered_df = atm_df.filter(items=['USERS', 'CARS', 'POP'])\n",
    "atm_filtered_df.head()"
   ]
  },
  {
   "cell_type": "markdown",
   "id": "0b3deb39",
   "metadata": {},
   "source": [
    "## Assessment Question\n",
    "- Describe how a Pandas DataFrame is different from a NumPy array.\n",
    "\n",
    "When we have to do task in tabular form or 2D format then we can use pandas dataframe. It provides much of the same functionality spreadsheet programs like Excel do and used  largely for similar kinds of tasks. \n",
    "Pandas dataframe supports labeled indexing with rows and columns. \n",
    "Has built in support for missing data (NaN)\n",
    "Pandas dataframe are slower than numpy because its flexible and metadataoverhead \n",
    "\n",
    "A NumPy array is a general-purpose n-D data structure. We can use it pretty much for any numerical computation task. if there's a more specialized data structure available then we can use numpy. \n",
    "WIth numpy elements are accesed using integer-based indexing.\n",
    "And , DataFrames use NumPy arrays internally.\n",
    "It does not handle missing data natively"
   ]
  },
  {
   "cell_type": "markdown",
   "id": "e6e65672",
   "metadata": {},
   "source": [
    "\n",
    "# Data Visualization with Matplotlib\n",
    "\n",
    "Matplotlib is a comprehensive library for creating static, animated, and interactive visualizations in Python.\n",
    "\n",
    "## Task\n",
    "Create a basic plot (line plot or bar chart) using data from a Pandas DataFrame.\n",
    "\n",
    "\n"
   ]
  },
  {
   "cell_type": "code",
   "execution_count": 13,
   "id": "bf67fdf2",
   "metadata": {},
   "outputs": [
    {
     "data": {
      "text/plain": [
       "[<matplotlib.lines.Line2D at 0x1d1485dcd10>]"
      ]
     },
     "execution_count": 13,
     "metadata": {},
     "output_type": "execute_result"
    },
    {
     "data": {
      "image/png": "[encoded data removed]",
      "text/plain": [
       "<Figure size 800x500 with 1 Axes>"
      ]
     },
     "metadata": {},
     "output_type": "display_data"
    }
   ],
   "source": [
    "import matplotlib.pyplot as plt\n",
    "\n",
    "plt.figure(figsize=(8,5))\n",
    "plt.plot(atm_df['PEDESTRIANS'], atm_df['CARS'])"
   ]
  },
  {
   "cell_type": "markdown",
   "id": "23c11981",
   "metadata": {},
   "source": [
    "## Assessment Question\n",
    "- Why is data visualization important in data analysis?\n",
    "Data visualization plays imprtant role in data analysis. Transforming raw data into visual format can be easier to interpret and analyze the data. Some of the reasons as to why data visualizations are important in data analysis are as follows:\n",
    "\n",
    "1. Visualizing data can simplify the complexity.\n",
    "2. Better at identifying patterns\n",
    "3. More clearer insights of the data which can improve the decision making \n",
    "4. Outliers can be recognized \n",
    "\n"
   ]
  },
  {
   "cell_type": "markdown",
   "id": "fb0497c6",
   "metadata": {},
   "source": [
    "\n",
    "# Basic File Operations in Python\n",
    "\n",
    "File operations are fundamental for data processing. In this section, we'll cover how to read from and write to files in Python.\n",
    "\n",
    "## Task\n",
    "Write a Python script to read a text file and count the frequency of each word in the file.\n",
    "\n",
    "\n"
   ]
  },
  {
   "cell_type": "code",
   "execution_count": 14,
   "id": "dcd8c574",
   "metadata": {},
   "outputs": [
    {
     "name": "stdout",
     "output_type": "stream",
     "text": [
      "in : 3\n",
      "the : 23\n",
      "shadows : 1\n",
      "of : 15\n",
      "forest : 1\n",
      "that : 6\n",
      "flanks : 1\n",
      "crimson : 1\n",
      "plain : 1\n",
      "by : 1\n",
      "side : 1\n",
      "lost : 1\n",
      "sea : 1\n",
      "korus : 1\n",
      "valley : 1\n",
      "dor, : 1\n",
      "beneath : 1\n",
      "hurtling : 1\n",
      "moons : 1\n",
      "mars, : 1\n",
      "speeding : 1\n",
      "their : 1\n",
      "meteoric : 1\n",
      "way : 1\n",
      "close : 1\n",
      "above : 1\n",
      "bosom : 1\n",
      "dying : 1\n",
      "planet, : 1\n",
      "i : 4\n",
      "crept : 1\n",
      "stealthily : 1\n",
      "along : 1\n",
      "trail : 1\n",
      "a : 3\n",
      "shadowy : 1\n",
      "form : 1\n",
      "hugged : 1\n",
      "darker : 1\n",
      "places : 1\n",
      "with : 3\n",
      "persistency : 1\n",
      "proclaimed : 1\n",
      "sinister : 1\n",
      "nature : 1\n",
      "its : 1\n",
      "errand. : 1\n",
      "had : 4\n",
      "phaidor's : 1\n",
      "slim : 1\n",
      "blade : 1\n",
      "found : 1\n",
      "beloved : 1\n",
      "heart? : 1\n",
      "time : 1\n",
      "only : 1\n",
      "would : 2\n",
      "reveal : 1\n",
      "truth. : 1\n",
      "half : 1\n",
      "them : 1\n",
      "passed, : 1\n",
      "or : 2\n",
      "on : 1\n",
      "morrow, : 1\n",
      "yet : 1\n",
      "vivid : 1\n",
      "my : 2\n",
      "memory, : 1\n",
      "obliterating : 1\n",
      "every : 1\n",
      "event : 1\n",
      "come : 1\n",
      "before : 2\n",
      "after, : 1\n",
      "there : 1\n",
      "remained : 1\n",
      "last : 1\n",
      "scene : 1\n",
      "gust : 1\n",
      "smoke : 1\n",
      "blinded : 1\n",
      "eyes : 1\n",
      "and : 3\n",
      "narrow : 1\n",
      "slit : 1\n",
      "given : 1\n",
      "me : 2\n",
      "sight : 1\n",
      "interior : 1\n",
      "her : 1\n",
      "cell : 1\n",
      "closed : 1\n",
      "between : 1\n",
      "princess : 1\n",
      "helium : 1\n",
      "for : 1\n",
      "long : 1\n",
      "martian : 1\n",
      "year. : 1\n",
      "as : 2\n",
      "if : 1\n",
      "it : 1\n",
      "were : 1\n",
      "yesterday, : 1\n",
      "still : 1\n",
      "saw : 2\n",
      "beautiful : 1\n",
      "face : 1\n",
      "phaidor, : 1\n",
      "daughter : 1\n",
      "matai : 1\n",
      "shang, : 1\n",
      "distorted : 1\n",
      "jealous : 1\n",
      "rage : 1\n",
      "hatred : 1\n",
      "she : 1\n",
      "sprang : 1\n",
      "forward : 2\n",
      "raised : 1\n",
      "dagger : 1\n",
      "upon : 1\n",
      "woman : 1\n",
      "loved. : 1\n",
      "red : 1\n",
      "girl, : 1\n",
      "thuvia : 1\n",
      "ptarth, : 1\n",
      "leap : 1\n",
      "to : 1\n",
      "prevent : 1\n",
      "hideous : 1\n",
      "deed. : 1\n"
     ]
    }
   ],
   "source": [
    "file_path = 'corpus5.txt'\n",
    "\n",
    "with open(file_path, 'r') as file:\n",
    "    text = file.read().lower()\n",
    "\n",
    "words_list = text.split()\n",
    "\n",
    "word_counts = {}\n",
    "\n",
    "for word in words_list:\n",
    "    if word in word_counts:\n",
    "        word_counts[word] +=1\n",
    "    else:\n",
    "        word_counts[word] = 1\n",
    "\n",
    "for word, count in word_counts.items():\n",
    "    print(f'{word} : {count}')\n"
   ]
  },
  {
   "cell_type": "markdown",
   "id": "9c87e75d",
   "metadata": {},
   "source": [
    "\n",
    "## Assessment Question\n",
    "- Discuss the different modes of opening a file in Python.\n",
    "modes --> explains\n",
    "\n",
    "‘r’\t---> Open text file for reading. Raises an I/O error if the file does not exist.\n",
    "\n",
    "‘r+’  --->\tOpen the file for reading and writing. Raises an I/O error if the file does not exist.\n",
    "\n",
    "‘w’   --->\tOpen the file for writing. Truncates the file if it already exists. Creates a new file if it does not exist.\n",
    "\n",
    "‘w+’  --->\tOpen the file for reading and writing. Truncates the file if it already exists. Creates a new file if it does not exist.\n",
    "\n",
    "‘a’   --->\tOpen the file for writing. The data being written will be inserted at the end of the file. Creates a new file if it does not exist.\n",
    "\n",
    "‘a+’  --->\tOpen the file for reading and writing. The data being written will be inserted at the end of the file. Creates a new file if it does not exist.\n",
    "\n",
    "‘rb’  --->\tOpen the file for reading in binary format. Raises an I/O error if the file does not exist.\n",
    "\n",
    "‘rb+’ --->\tOpen the file for reading and writing in binary format. Raises an I/O error if the file does not exist.\n",
    "\n",
    "‘wb’  --->\tOpen the file for writing in binary format. Truncates the file if it already exists. Creates a new file if it does not exist.\n",
    "\n",
    "‘wb+’ --->\tOpen the file for reading and writing in binary format. Truncates the file if it already exists. Creates a new file if it does not exist.\n",
    "\n",
    "‘ab’  --->\tOpen the file for appending in binary format. Inserts data at the end of the file. Creates a new file if it does not exist.\n",
    "\n",
    "‘ab+’ --->\tOpen the file for reading and appending in binary format. Inserts data at the end of the file. Creates a new file if it does not exist."
   ]
  },
  {
   "cell_type": "markdown",
   "id": "f0324bd0",
   "metadata": {},
   "source": [
    "\n",
    "# Introduction to SciPy\n",
    "\n",
    "SciPy is a Python-based ecosystem of open-source software for mathematics, science, and engineering.\n",
    "\n",
    "## Task\n",
    "Demonstrate a simple mathematical operation using SciPy, like solving a linear equation.\n",
    "\n",
    "\n"
   ]
  },
  {
   "cell_type": "code",
   "execution_count": 16,
   "id": "255f45fd",
   "metadata": {},
   "outputs": [
    {
     "name": "stdout",
     "output_type": "stream",
     "text": [
      "Solution: \n",
      " x=2.6 \n",
      " y=-1.4000000000000001\n"
     ]
    }
   ],
   "source": [
    "from scipy.linalg import solve\n",
    "\n",
    "# solving system of equations\n",
    "\n",
    "A = [[3,2], # coefficient of x and y in first equations\n",
    "            [1,-1]]     # coefficient of x and y in first equations\n",
    "\n",
    "B = [5,4] # Constants on right hand side of equations\n",
    "\n",
    "solution = solve(A, B)\n",
    "\n",
    "print(f\"Solution: \\n x={solution[0]} \\n y={solution[1]}\")"
   ]
  },
  {
   "cell_type": "markdown",
   "id": "8dcbaa56",
   "metadata": {},
   "source": [
    "## Assessment Question\n",
    "- What is the role of SciPy in scientific computing with Python?\n",
    "Role of scipy in scientific computing with python are as follows:\n",
    "\n",
    "1. Scipy efficiently handles advanced numerical operations using tools like `scipy.integrate` for integration, `scipy.optimize` optimization \n",
    "2. Scipy provides tools for filtering, fourier transform, convolution and signal analysis. All these tools is used for signal processing.\n",
    "3. Scipy provides wide range tools for probability Distributionsand hypothesis Testing which are used for making statistical analysis.\n",
    "4. Scipy makes Sparse matrix handling more easier and efficient.\n",
    "5. Scipy supports image manupulation tasks such as filtering, resizing and edge detection.\n",
    "6. Scipy enables reading adn writing of scientific data formats such as matlab and netcdf files"
   ]
  },
  {
   "cell_type": "markdown",
   "id": "9052c5f9",
   "metadata": {},
   "source": [
    "## Submission\n",
    "Submit a link to your completed Jupyter Notebook file hosted on your private GitHub repository through the submission link in Blackboard."
   ]
  }
 ],
 "metadata": {
  "kernelspec": {
   "display_name": "myenv",
   "language": "python",
   "name": "python3"
  },
  "language_info": {
   "codemirror_mode": {
    "name": "ipython",
    "version": 3
   },
   "file_extension": ".py",
   "mimetype": "text/x-python",
   "name": "python",
   "nbconvert_exporter": "python",
   "pygments_lexer": "ipython3",
   "version": "3.12.8"
  }
 },
 "nbformat": 4,
 "nbformat_minor": 5
}
