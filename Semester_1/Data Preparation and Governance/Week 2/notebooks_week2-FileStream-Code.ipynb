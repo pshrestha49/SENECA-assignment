{
  "metadata": {
    "language_info": {
      "codemirror_mode": {
        "name": "python",
        "version": 3
      },
      "file_extension": ".py",
      "mimetype": "text/x-python",
      "name": "python",
      "nbconvert_exporter": "python",
      "pygments_lexer": "ipython3",
      "version": "3.8"
    },
    "kernelspec": {
      "name": "python",
      "display_name": "Python (Pyodide)",
      "language": "python"
    }
  },
  "nbformat_minor": 4,
  "nbformat": 4,
  "cells": [
    {
      "cell_type": "code",
      "source": "# AIG150 Winter 2024\n# Week 2 Sample Code \n# Asma M Paracha\n# sample code for file streaming and sampling",
      "metadata": {},
      "execution_count": null,
      "outputs": []
    },
    {
      "cell_type": "code",
      "source": "import pandas as pd",
      "metadata": {
        "trusted": true
      },
      "execution_count": 1,
      "outputs": []
    },
    {
      "cell_type": "code",
      "source": "# reading the file as a whole\nwith open(\"colors.txt\", 'r') as open_file:\n    print('Colors.txt content:\\n' + open_file.read())",
      "metadata": {
        "trusted": true
      },
      "execution_count": 4,
      "outputs": [
        {
          "name": "stdout",
          "text": "Colors.txt content:\nColor     Value\nRed       1\nOrange    2\nYellow    3\nGreen     4\nBlue      5\nPurple    6\nBlack     7\nWhite     8\n",
          "output_type": "stream"
        }
      ]
    },
    {
      "cell_type": "code",
      "source": "# streaming data into memory\nwith open(\"colors.txt\", 'r') as open_file:\n    for observation in open_file:\n        print('Reading Data: ' + observation)",
      "metadata": {
        "trusted": true
      },
      "execution_count": 5,
      "outputs": [
        {
          "name": "stdout",
          "text": "Reading Data: Color     Value\n\nReading Data: Red       1\n\nReading Data: Orange    2\n\nReading Data: Yellow    3\n\nReading Data: Green     4\n\nReading Data: Blue      5\n\nReading Data: Purple    6\n\nReading Data: Black     7\n\nReading Data: White     8\n",
          "output_type": "stream"
        }
      ]
    },
    {
      "cell_type": "code",
      "source": "# sampling data into memory\nfrom random import random\nsample_size = 0.25\nwith open(\"colors.txt\", 'r') as open_file:\n    for j, observation in enumerate(open_file):\n        if random()<=sample_size:\n            print('Reading Line: ' + str(j) +  ' Content: ' + observation)",
      "metadata": {
        "trusted": true
      },
      "execution_count": 6,
      "outputs": [
        {
          "name": "stdout",
          "text": "Reading Line: 0 Content: Color     Value\n\nReading Line: 2 Content: Orange    2\n\nReading Line: 5 Content: Blue      5\n\nReading Line: 8 Content: White     8\n",
          "output_type": "stream"
        }
      ]
    },
    {
      "cell_type": "code",
      "source": "",
      "metadata": {},
      "execution_count": null,
      "outputs": []
    }
  ]
}