{
 "cells": [
  {
   "cell_type": "markdown",
   "id": "67f99a56",
   "metadata": {},
   "source": [
    "# Part 1"
   ]
  },
  {
   "cell_type": "markdown",
   "id": "54a2acad",
   "metadata": {},
   "source": [
    "### qn 1"
   ]
  },
  {
   "cell_type": "code",
   "execution_count": 2,
   "id": "2f2c15ea",
   "metadata": {},
   "outputs": [],
   "source": [
    "import cv2\n",
    "\n",
    "img_credit = cv2.imread(r\"Assignment3_Files/Credit.png\")\n",
    "grey_credit = cv2.cvtColor(img_credit, cv2.COLOR_BGR2GRAY)\n",
    "cv2.imshow('grey image', grey_credit)\n",
    "cv2.waitKey(0)\n",
    "cv2.destroyAllWindows()"
   ]
  },
  {
   "cell_type": "code",
   "execution_count": 6,
   "id": "86f0a2b2",
   "metadata": {},
   "outputs": [],
   "source": [
    "sobel_8_x = cv2.Sobel(grey_credit, cv2.CV_8U, 1, 0, ksize=3)\n",
    "sobel_8_y = cv2.Sobel(grey_credit, cv2.CV_8U, 0, 1, ksize=3)\n",
    "\n",
    "sobel_8_mag = cv2.addWeighted(sobel_8_x, 0.5, sobel_8_y, 0.5, 0)\n",
    "\n",
    "# sobel_8_mag = cv2.magnitude(sobel_8_x, sobel_8_y)\n",
    "\n",
    "# sobel_8_mag = cv2.convertScaleAbs(sobel_8_mag)\n",
    "\n",
    "cv2.imshow(\"Sobel Edge map\", sobel_8_mag)\n",
    "cv2.waitKey(0)\n",
    "cv2.destroyAllWindows()"
   ]
  },
  {
   "cell_type": "code",
   "execution_count": null,
   "id": "39ddba34",
   "metadata": {},
   "outputs": [],
   "source": []
  }
 ],
 "metadata": {
  "kernelspec": {
   "display_name": "gvenv",
   "language": "python",
   "name": "python3"
  },
  "language_info": {
   "codemirror_mode": {
    "name": "ipython",
    "version": 3
   },
   "file_extension": ".py",
   "mimetype": "text/x-python",
   "name": "python",
   "nbconvert_exporter": "python",
   "pygments_lexer": "ipython3",
   "version": "3.10.18"
  }
 },
 "nbformat": 4,
 "nbformat_minor": 5
}
