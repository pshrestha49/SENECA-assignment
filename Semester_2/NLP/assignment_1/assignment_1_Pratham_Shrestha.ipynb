{
 "cells": [
  {
   "cell_type": "markdown",
   "id": "bf2c2d7f",
   "metadata": {},
   "source": [
    "# Part 2"
   ]
  },
  {
   "cell_type": "code",
   "execution_count": null,
   "id": "08dce798",
   "metadata": {},
   "outputs": [
    {
     "name": "stderr",
     "output_type": "stream",
     "text": [
      "[nltk_data] Downloading collection 'book'\n",
      "[nltk_data]    | \n",
      "[nltk_data]    | Downloading package abc to\n",
      "[nltk_data]    |     C:\\Users\\W1tcher\\AppData\\Roaming\\nltk_data...\n",
      "[nltk_data]    |   Package abc is already up-to-date!\n",
      "[nltk_data]    | Downloading package brown to\n",
      "[nltk_data]    |     C:\\Users\\W1tcher\\AppData\\Roaming\\nltk_data...\n",
      "[nltk_data]    |   Package brown is already up-to-date!\n",
      "[nltk_data]    | Downloading package chat80 to\n",
      "[nltk_data]    |     C:\\Users\\W1tcher\\AppData\\Roaming\\nltk_data...\n",
      "[nltk_data]    |   Package chat80 is already up-to-date!\n",
      "[nltk_data]    | Downloading package cmudict to\n",
      "[nltk_data]    |     C:\\Users\\W1tcher\\AppData\\Roaming\\nltk_data...\n",
      "[nltk_data]    |   Package cmudict is already up-to-date!\n",
      "[nltk_data]    | Downloading package conll2000 to\n",
      "[nltk_data]    |     C:\\Users\\W1tcher\\AppData\\Roaming\\nltk_data...\n",
      "[nltk_data]    |   Package conll2000 is already up-to-date!\n",
      "[nltk_data]    | Downloading package conll2002 to\n",
      "[nltk_data]    |     C:\\Users\\W1tcher\\AppData\\Roaming\\nltk_data...\n",
      "[nltk_data]    |   Package conll2002 is already up-to-date!\n",
      "[nltk_data]    | Downloading package dependency_treebank to\n",
      "[nltk_data]    |     C:\\Users\\W1tcher\\AppData\\Roaming\\nltk_data...\n",
      "[nltk_data]    |   Package dependency_treebank is already up-to-date!\n",
      "[nltk_data]    | Downloading package genesis to\n",
      "[nltk_data]    |     C:\\Users\\W1tcher\\AppData\\Roaming\\nltk_data...\n",
      "[nltk_data]    |   Package genesis is already up-to-date!\n",
      "[nltk_data]    | Downloading package gutenberg to\n",
      "[nltk_data]    |     C:\\Users\\W1tcher\\AppData\\Roaming\\nltk_data...\n",
      "[nltk_data]    |   Package gutenberg is already up-to-date!\n",
      "[nltk_data]    | Downloading package ieer to\n",
      "[nltk_data]    |     C:\\Users\\W1tcher\\AppData\\Roaming\\nltk_data...\n",
      "[nltk_data]    |   Package ieer is already up-to-date!\n",
      "[nltk_data]    | Downloading package inaugural to\n",
      "[nltk_data]    |     C:\\Users\\W1tcher\\AppData\\Roaming\\nltk_data...\n",
      "[nltk_data]    |   Package inaugural is already up-to-date!\n",
      "[nltk_data]    | Downloading package movie_reviews to\n",
      "[nltk_data]    |     C:\\Users\\W1tcher\\AppData\\Roaming\\nltk_data...\n",
      "[nltk_data]    |   Package movie_reviews is already up-to-date!\n",
      "[nltk_data]    | Downloading package nps_chat to\n",
      "[nltk_data]    |     C:\\Users\\W1tcher\\AppData\\Roaming\\nltk_data...\n",
      "[nltk_data]    |   Package nps_chat is already up-to-date!\n",
      "[nltk_data]    | Downloading package names to\n",
      "[nltk_data]    |     C:\\Users\\W1tcher\\AppData\\Roaming\\nltk_data...\n",
      "[nltk_data]    |   Package names is already up-to-date!\n",
      "[nltk_data]    | Downloading package ppattach to\n",
      "[nltk_data]    |     C:\\Users\\W1tcher\\AppData\\Roaming\\nltk_data...\n",
      "[nltk_data]    |   Unzipping corpora\\ppattach.zip.\n",
      "[nltk_data]    | Downloading package reuters to\n",
      "[nltk_data]    |     C:\\Users\\W1tcher\\AppData\\Roaming\\nltk_data...\n",
      "[nltk_data]    | Downloading package senseval to\n",
      "[nltk_data]    |     C:\\Users\\W1tcher\\AppData\\Roaming\\nltk_data...\n",
      "[nltk_data]    |   Unzipping corpora\\senseval.zip.\n",
      "[nltk_data]    | Downloading package state_union to\n",
      "[nltk_data]    |     C:\\Users\\W1tcher\\AppData\\Roaming\\nltk_data...\n",
      "[nltk_data]    |   Unzipping corpora\\state_union.zip.\n",
      "[nltk_data]    | Downloading package stopwords to\n",
      "[nltk_data]    |     C:\\Users\\W1tcher\\AppData\\Roaming\\nltk_data...\n",
      "[nltk_data]    |   Unzipping corpora\\stopwords.zip.\n",
      "[nltk_data]    | Downloading package swadesh to\n",
      "[nltk_data]    |     C:\\Users\\W1tcher\\AppData\\Roaming\\nltk_data...\n",
      "[nltk_data]    |   Unzipping corpora\\swadesh.zip.\n",
      "[nltk_data]    | Downloading package timit to\n",
      "[nltk_data]    |     C:\\Users\\W1tcher\\AppData\\Roaming\\nltk_data...\n",
      "[nltk_data]    |   Unzipping corpora\\timit.zip.\n",
      "[nltk_data]    | Downloading package treebank to\n",
      "[nltk_data]    |     C:\\Users\\W1tcher\\AppData\\Roaming\\nltk_data...\n",
      "[nltk_data]    |   Unzipping corpora\\treebank.zip.\n",
      "[nltk_data]    | Downloading package toolbox to\n",
      "[nltk_data]    |     C:\\Users\\W1tcher\\AppData\\Roaming\\nltk_data...\n",
      "[nltk_data]    |   Unzipping corpora\\toolbox.zip.\n",
      "[nltk_data]    | Downloading package udhr to\n",
      "[nltk_data]    |     C:\\Users\\W1tcher\\AppData\\Roaming\\nltk_data...\n",
      "[nltk_data]    |   Unzipping corpora\\udhr.zip.\n",
      "[nltk_data]    | Downloading package udhr2 to\n",
      "[nltk_data]    |     C:\\Users\\W1tcher\\AppData\\Roaming\\nltk_data...\n",
      "[nltk_data]    |   Unzipping corpora\\udhr2.zip.\n",
      "[nltk_data]    | Downloading package unicode_samples to\n",
      "[nltk_data]    |     C:\\Users\\W1tcher\\AppData\\Roaming\\nltk_data...\n",
      "[nltk_data]    |   Unzipping corpora\\unicode_samples.zip.\n",
      "[nltk_data]    | Downloading package webtext to\n",
      "[nltk_data]    |     C:\\Users\\W1tcher\\AppData\\Roaming\\nltk_data...\n",
      "[nltk_data]    |   Unzipping corpora\\webtext.zip.\n",
      "[nltk_data]    | Downloading package wordnet to\n",
      "[nltk_data]    |     C:\\Users\\W1tcher\\AppData\\Roaming\\nltk_data...\n",
      "[nltk_data]    | Downloading package wordnet_ic to\n",
      "[nltk_data]    |     C:\\Users\\W1tcher\\AppData\\Roaming\\nltk_data...\n",
      "[nltk_data]    |   Unzipping corpora\\wordnet_ic.zip.\n",
      "[nltk_data]    | Downloading package words to\n",
      "[nltk_data]    |     C:\\Users\\W1tcher\\AppData\\Roaming\\nltk_data...\n",
      "[nltk_data]    |   Unzipping corpora\\words.zip.\n",
      "[nltk_data]    | Downloading package maxent_treebank_pos_tagger to\n",
      "[nltk_data]    |     C:\\Users\\W1tcher\\AppData\\Roaming\\nltk_data...\n",
      "[nltk_data]    |   Package maxent_treebank_pos_tagger is already up-\n",
      "[nltk_data]    |       to-date!\n",
      "[nltk_data]    | Downloading package maxent_ne_chunker to\n",
      "[nltk_data]    |     C:\\Users\\W1tcher\\AppData\\Roaming\\nltk_data...\n",
      "[nltk_data]    |   Package maxent_ne_chunker is already up-to-date!\n",
      "[nltk_data]    | Downloading package universal_tagset to\n",
      "[nltk_data]    |     C:\\Users\\W1tcher\\AppData\\Roaming\\nltk_data...\n",
      "[nltk_data]    |   Unzipping taggers\\universal_tagset.zip.\n",
      "[nltk_data]    | Downloading package punkt to\n",
      "[nltk_data]    |     C:\\Users\\W1tcher\\AppData\\Roaming\\nltk_data...\n",
      "[nltk_data]    |   Package punkt is already up-to-date!\n",
      "[nltk_data]    | Downloading package book_grammars to\n",
      "[nltk_data]    |     C:\\Users\\W1tcher\\AppData\\Roaming\\nltk_data...\n",
      "[nltk_data]    |   Package book_grammars is already up-to-date!\n",
      "[nltk_data]    | Downloading package city_database to\n",
      "[nltk_data]    |     C:\\Users\\W1tcher\\AppData\\Roaming\\nltk_data...\n",
      "[nltk_data]    |   Package city_database is already up-to-date!\n",
      "[nltk_data]    | Downloading package tagsets to\n",
      "[nltk_data]    |     C:\\Users\\W1tcher\\AppData\\Roaming\\nltk_data...\n",
      "[nltk_data]    |   Unzipping help\\tagsets.zip.\n",
      "[nltk_data]    | Downloading package panlex_swadesh to\n",
      "[nltk_data]    |     C:\\Users\\W1tcher\\AppData\\Roaming\\nltk_data...\n",
      "[nltk_data]    | Downloading package averaged_perceptron_tagger to\n",
      "[nltk_data]    |     C:\\Users\\W1tcher\\AppData\\Roaming\\nltk_data...\n",
      "[nltk_data]    |   Package averaged_perceptron_tagger is already up-\n",
      "[nltk_data]    |       to-date!\n",
      "[nltk_data]    | \n",
      "[nltk_data]  Done downloading collection book\n",
      "[nltk_data] Downloading package punkt to\n",
      "[nltk_data]     C:\\Users\\W1tcher\\AppData\\Roaming\\nltk_data...\n",
      "[nltk_data]   Package punkt is already up-to-date!\n",
      "[nltk_data] Downloading package averaged_perceptron_tagger to\n",
      "[nltk_data]     C:\\Users\\W1tcher\\AppData\\Roaming\\nltk_data...\n",
      "[nltk_data]   Package averaged_perceptron_tagger is already up-to-\n",
      "[nltk_data]       date!\n",
      "[nltk_data] Downloading package gutenberg to\n",
      "[nltk_data]     C:\\Users\\W1tcher\\AppData\\Roaming\\nltk_data...\n",
      "[nltk_data]   Package gutenberg is already up-to-date!\n",
      "[nltk_data] Downloading package genesis to\n",
      "[nltk_data]     C:\\Users\\W1tcher\\AppData\\Roaming\\nltk_data...\n",
      "[nltk_data]   Package genesis is already up-to-date!\n",
      "[nltk_data] Downloading package inaugural to\n",
      "[nltk_data]     C:\\Users\\W1tcher\\AppData\\Roaming\\nltk_data...\n",
      "[nltk_data]   Package inaugural is already up-to-date!\n",
      "[nltk_data] Downloading package nps_chat to\n",
      "[nltk_data]     C:\\Users\\W1tcher\\AppData\\Roaming\\nltk_data...\n",
      "[nltk_data]   Package nps_chat is already up-to-date!\n",
      "[nltk_data] Downloading package webtext to\n",
      "[nltk_data]     C:\\Users\\W1tcher\\AppData\\Roaming\\nltk_data...\n",
      "[nltk_data]   Package webtext is already up-to-date!\n",
      "[nltk_data] Downloading package treebank to\n",
      "[nltk_data]     C:\\Users\\W1tcher\\AppData\\Roaming\\nltk_data...\n",
      "[nltk_data]   Package treebank is already up-to-date!\n",
      "[nltk_data] Downloading package brown to\n",
      "[nltk_data]     C:\\Users\\W1tcher\\AppData\\Roaming\\nltk_data...\n",
      "[nltk_data]   Package brown is already up-to-date!\n"
     ]
    },
    {
     "data": {
      "text/plain": [
       "True"
      ]
     },
     "execution_count": 2,
     "metadata": {},
     "output_type": "execute_result"
    },
    {
     "ename": "",
     "evalue": "",
     "output_type": "error",
     "traceback": [
      "\u001b[1;31mThe Kernel crashed while executing code in the current cell or a previous cell. \n",
      "\u001b[1;31mPlease review the code in the cell(s) to identify a possible cause of the failure. \n",
      "\u001b[1;31mClick <a href='https://aka.ms/vscodeJupyterKernelCrash'>here</a> for more info. \n",
      "\u001b[1;31mView Jupyter <a href='command:jupyter.viewOutput'>log</a> for further details."
     ]
    }
   ],
   "source": [
    "# Question 2\n",
    "\n",
    "import nltk\n",
    "nltk.download('book')           # Downloads most of what's needed in one go\n",
    "nltk.download('punkt')          # Sentence tokenizer\n",
    "nltk.download('averaged_perceptron_tagger')  # Part-of-speech tagger\n",
    "nltk.download('gutenberg')      # Text1, Text2, Text3 (classic books)\n",
    "nltk.download('genesis')        # Text3 (book of Genesis)\n",
    "nltk.download('inaugural')      # Text4 (inaugural speeches)\n",
    "nltk.download('nps_chat')       # Text5 (online chat corpus)\n",
    "nltk.download('webtext')        # Text6 (web content corpus)\n",
    "nltk.download('treebank')       # Text7 (Wall Street Journal)\n",
    "nltk.download('brown')          # Text8 and Text9 (Brown corpus)"
   ]
  },
  {
   "cell_type": "code",
   "execution_count": null,
   "id": "013d95ca",
   "metadata": {},
   "outputs": [
    {
     "name": "stdout",
     "output_type": "stream",
     "text": [
      "*** Introductory Examples for the NLTK Book ***\n",
      "Loading text1, ..., text9 and sent1, ..., sent9\n",
      "Type the name of the text or sentence to view it.\n",
      "Type: 'texts()' or 'sents()' to list the materials.\n",
      "text1: Moby Dick by Herman Melville 1851\n",
      "text2: Sense and Sensibility by Jane Austen 1811\n",
      "text3: The Book of Genesis\n",
      "text4: Inaugural Address Corpus\n",
      "text5: Chat Corpus\n",
      "text6: Monty Python and the Holy Grail\n",
      "text7: Wall Street Journal\n",
      "text8: Personals Corpus\n",
      "text9: The Man Who Was Thursday by G . K . Chesterton 1908\n"
     ]
    }
   ],
   "source": [
    "# Question 3\n",
    "from nltk.book import * "
   ]
  },
  {
   "cell_type": "code",
   "execution_count": 3,
   "id": "be0b9520",
   "metadata": {},
   "outputs": [
    {
     "data": {
      "text/plain": [
       "<Text: Moby Dick by Herman Melville 1851>"
      ]
     },
     "execution_count": 3,
     "metadata": {},
     "output_type": "execute_result"
    }
   ],
   "source": [
    "text1"
   ]
  },
  {
   "cell_type": "code",
   "execution_count": null,
   "id": "3a8f10ac",
   "metadata": {},
   "outputs": [
    {
     "name": "stdout",
     "output_type": "stream",
     "text": [
      "Displaying 25 of 64 matches:\n",
      "ould have been able *-2 to report a profit of $ 19.3 million *U* *ICH*-3 for t\n",
      " until a more satisfactory level of profit is achieved and maintained *-1 , ''\n",
      " has reported declines in operating profit in each of the past three years , d\n",
      "mic Organizations , said *T*-1 . `` Profit may be low , but at least costs sho\n",
      "s a share . A year earlier , it had profit of $ 7.5 million *U* , or 18 cents \n",
      "ng Co. posted a 62 % rise in pretax profit to 5.276 billion yen -LRB- $ 36.9 m\n",
      "eholders into * buying him out at a profit . Mr. Pickens made considerable pol\n",
      "h trading-company venture capital . Profit , at least in the short term , is u\n",
      "hen Mr. Hahn took the reins *T*-1 . Profit from continuing operations has soar\n",
      "sade was based *-23 on greed or the profit motive . But is n't the desire for \n",
      " motive . But is n't the desire for profit the driving force behind those who \n",
      "* to close at $ 47.125 *U* . `` The profit motive of the major shareholders ha\n",
      " widely seen *-1 as sales , and not profit , oriented . `` New managers would \n",
      "and a 15 % improvement in operating profit for fiscal 1989 . `` The way that w\n",
      "imed commodities at `` considerable profit , '' the agency 's 240-page report \n",
      " lock in the difference in price as profit . Such program trades , which *T*-7\n",
      " stock typically earns a razor-thin profit of $ 25,000 *U* . *-1 To keep progr\n",
      " *-2 downward by those seeking * to profit from lower prices , namely short se\n",
      "arkets largely in New York . *-1 To profit from an index-arbitrage opportunity\n",
      " to the arbitrage trader some small profit in order *-1 to get quick and certa\n",
      " ultimate goal of any investor is a profit motive , and regulators should not \n",
      "he long term . A free market with a profit motive will attract each investor t\n",
      "y sizable mutual-fund company could profit from * offering it to small investo\n",
      " him from *-1 gaining any temporary profit . If government or private watchdog\n",
      " then use *T*-1 * to turn a healthy profit . `` This stadium shows that anythi\n"
     ]
    }
   ],
   "source": [
    "# Question 4\n",
    "text7.concordance(\"profit\") "
   ]
  },
  {
   "cell_type": "code",
   "execution_count": null,
   "id": "6ced8488",
   "metadata": {},
   "outputs": [
    {
     "name": "stdout",
     "output_type": "stream",
     "text": [
      "Displaying 8 of 8 matches:\n",
      " laughed at ; but ridicule could not shame , and seemed hardly to provoke them \n",
      "d to which you will be welcome ? For shame , Willoughby , can you wait for an i\n",
      "much to do with it .\" \" Elinor , for shame !\" said Marianne , \" money can only \n",
      "ows her own worth too well for false shame ,\" replied Edward . \" Shyness is onl\n",
      "r being going to be married .\" \" For shame , for shame , Miss Dashwood ! how ca\n",
      "g to be married .\" \" For shame , for shame , Miss Dashwood ! how can you talk s\n",
      "g I can tell you ; and it is quite a shame for such ill - natured reports to be\n",
      " when any body else is by ? Oh , for shame !-- To be sure you must know better \n"
     ]
    }
   ],
   "source": [
    "# Question 5\n",
    "text2.concordance('shame')"
   ]
  },
  {
   "cell_type": "code",
   "execution_count": null,
   "id": "2d959325",
   "metadata": {},
   "outputs": [
    {
     "name": "stdout",
     "output_type": "stream",
     "text": [
      "it billion but yield million earnings asbestos all drop gains officer\n",
      "review china result charge years director group and form\n"
     ]
    }
   ],
   "source": [
    "# Question 6\n",
    "text7.similar('profit')"
   ]
  },
  {
   "cell_type": "code",
   "execution_count": null,
   "id": "3bdc5a4f",
   "metadata": {},
   "outputs": [
    {
     "name": "stdout",
     "output_type": "stream",
     "text": [
      "very so exceedingly heartily a as good great extremely remarkably\n",
      "sweet vast amazingly\n"
     ]
    }
   ],
   "source": [
    "# Question 7\n",
    "text2.similar('monstrous') \n",
    "\n",
    "'''\n",
    "very - it emphasizes more which can nbe similar to monstrous\n",
    "so - not exactly sure how is this word similar\n",
    "excedingly - this word gives the meaning which is crosses limits which is similar to the word\n",
    "great - this word means in very large amount \n",
    "extremely - extreme is the word to define which reaches its limit which is similar to the word\n",
    "remarkably - this word means to set a new record which is sometimes can be similar to the word\n",
    "sweet - not exactly sure how is this word similar\n",
    "vast - this word also means in large amount which is similar to the word\n",
    "amazingly - this word means to do or have things in such a large quantity that amazes people which is similar to the word\n",
    "'''"
   ]
  },
  {
   "cell_type": "code",
   "execution_count": null,
   "id": "dece3a3d",
   "metadata": {},
   "outputs": [
    {
     "data": {
      "text/plain": [
       "44764"
      ]
     },
     "execution_count": 8,
     "metadata": {},
     "output_type": "execute_result"
    }
   ],
   "source": [
    "# Question 8\n",
    "len(text3)"
   ]
  },
  {
   "cell_type": "code",
   "execution_count": null,
   "id": "e2cdbf33",
   "metadata": {},
   "outputs": [
    {
     "data": {
      "text/plain": [
       "[',',\n",
       " '.',\n",
       " ';',\n",
       " 'And',\n",
       " 'God',\n",
       " 'In',\n",
       " 'and',\n",
       " 'beginning',\n",
       " 'created',\n",
       " 'darkness',\n",
       " 'earth',\n",
       " 'form',\n",
       " 'heaven',\n",
       " 'the',\n",
       " 'upon',\n",
       " 'void',\n",
       " 'was',\n",
       " 'without']"
      ]
     },
     "execution_count": 12,
     "metadata": {},
     "output_type": "execute_result"
    }
   ],
   "source": [
    "# Question 9\n",
    "sorted(set(text3[:25]))"
   ]
  },
  {
   "cell_type": "code",
   "execution_count": null,
   "id": "db4b71ae",
   "metadata": {},
   "outputs": [
    {
     "name": "stdout",
     "output_type": "stream",
     "text": [
      "king matches 10\n",
      "\n",
      "king matcher percentage\n"
     ]
    },
    {
     "data": {
      "text/plain": [
       "0.058937938350916486"
      ]
     },
     "execution_count": 23,
     "metadata": {},
     "output_type": "execute_result"
    }
   ],
   "source": [
    "# Question 10\n",
    "king_matches = text6.count('king')\n",
    "print('king matches',king_matches)\n",
    "total = len(text6)\n",
    "king_matches_perc = king_matches/total*100\n",
    "print('\\nking matcher percentage')\n",
    "king_matches_perc"
   ]
  },
  {
   "cell_type": "code",
   "execution_count": null,
   "id": "b42c0e15",
   "metadata": {},
   "outputs": [
    {
     "name": "stdout",
     "output_type": "stream",
     "text": [
      "['scene', '1', ':', '[', 'wind', ']', '[', 'clop', 'clop', 'clop', ']', 'king', 'arthur', ':', 'whoa', 'there', '!', '[', 'clop', 'clop', 'clop', ']', 'soldier', '#', '1', ':', 'halt', '!', 'who', 'goes', 'there', '?', 'arthur', ':', 'it', 'is', 'i', ',', 'arthur', ',', 'son', 'of', 'uther', 'pendragon', ',', 'from', 'the', 'castle', 'of', 'camelot', '.', 'king', 'of', 'the', 'britons', ',', 'defeator', 'of', 'the', 'saxons', ',', 'sovereign', 'of', 'all', 'england', '!', 'soldier', '#', '1', ':', 'pull', 'the', 'other', 'one', '!', 'arthur', ':', 'i', 'am', ',', '...', 'and', 'this', 'is', 'my', 'trusty', 'servant', 'patsy', '.', 'we', 'have', 'ridden', 'the', 'length', 'and', 'breadth', 'of', 'the', 'land', 'in', 'search', 'of', 'knights', 'who', 'will', 'join', 'me', 'in', 'my', 'court', 'at', 'camelot', '.', 'i', 'must', 'speak', 'with', 'your', 'lord', 'and', 'master', '.', 'soldier', '#', '1', ':', 'what', '?', 'ridden', 'on', 'a', 'horse', '?', 'arthur', ':', 'yes', '!', 'soldier', '#', '1', ':', 'you', \"'\", 're', 'using', 'coconuts', '!', 'arthur', ':', 'what', '?', 'soldier', '#', '1', ':', 'you', \"'\", 've', 'got', 'two', 'empty', 'halves', 'of', 'coconut', 'and', 'you', \"'\", 're', 'bangin', \"'\", \"'\", 'em', 'together', '.', 'arthur', ':', 'so', '?', 'we', 'have', 'ridden', 'since', 'the', 'snows', 'of', 'winter', 'covered', 'this', 'land', ',', 'through', 'the', 'kingdom', 'of', 'mercea', ',', 'through', '--', 'soldier', '#', '1', ':', 'where', \"'\", 'd', 'you', 'get', 'the', 'coconuts', '?', 'arthur', ':', 'we', 'found', 'them', '.', 'soldier', '#', '1', ':', 'found', 'them', '?', 'in', 'mercea', '?', 'the', 'coconut', \"'\", 's', 'tropical', '!', 'arthur', ':', 'what', 'do', 'you', 'mean', '?', 'soldier', '#', '1', ':', 'well', ',', 'this', 'is', 'a', 'temperate', 'zone', '.', 'arthur', ':', 'the', 'swallow', 'may', 'fly', 'south', 'with', 'the', 'sun', 'or', 'the', 'house', 'martin', 'or', 'the', 'plover', 'may', 'seek', 'warmer', 'climes', 'in', 'winter', ',', 'yet', 'these', 'are', 'not', 'strangers', 'to', 'our', 'land', '?', 'soldier', '#', '1', ':', 'are', 'you', 'suggesting', 'coconuts', 'migrate', '?', 'arthur', ':', 'not', 'at', 'all', '.', 'they', 'could', 'be', 'carried', '.', 'soldier', '#', '1', ':', 'what', '?', 'a', 'swallow', 'carrying', 'a', 'coconut', '?', 'arthur', ':', 'it', 'could', 'grip', 'it', 'by', 'the', 'husk', '!', 'soldier', '#', '1', ':', 'it', \"'\", 's', 'not', 'a', 'question', 'of', 'where', 'he', 'grips', 'it', '!', 'it', \"'\", 's', 'a', 'simple', 'question', 'of', 'weight', 'ratios', '!', 'a', 'five', 'ounce', 'bird', 'could', 'not', 'carry', 'a', 'one', 'pound', 'coconut', '.', 'arthur', ':', 'well', ',', 'it', 'doesn', \"'\", 't', 'matter', '.', 'will', 'you', 'go', 'and', 'tell', 'your', 'master', 'that', 'arthur', 'from', 'the', 'court', 'of', 'camelot', 'is', 'here', '.', 'soldier', '#', '1', ':', 'listen', '.', 'in', 'order', 'to', 'maintain', 'air', '-', 'speed', 'velocity', ',', 'a', 'swallow', 'needs', 'to', 'beat', 'its', 'wings', 'forty', '-', 'three', 'times', 'every', 'second', ',', 'right', '?', 'arthur', ':', 'please', '!', 'soldier', '#', '1', ':', 'am', 'i', 'right', '?', 'arthur', ':', 'i', \"'\", 'm', 'not', 'interested', '!', 'soldier', '#', '2', ':', 'it', 'could', 'be', 'carried', 'by', 'an', 'african', 'swallow', '!', 'soldier', '#', '1', ':', 'oh', ',', 'yeah', ',', 'an', 'african', 'swallow', 'maybe', ',', 'but', 'not', 'a', 'european', 'swallow', '.', 'that', \"'\", 's', 'my', 'point', '.', 'soldier', '#', '2', ':', 'oh', ',', 'yeah', ',', 'i', 'agree', 'with', 'that', '.', 'arthur', ':', 'will', 'you', 'ask', 'your', 'master', 'if', 'he', 'wants', 'to', 'join', 'my', 'court', 'at', 'camelot', '?!', 'soldier', '#', '1', ':', 'but', 'then', 'of', 'course', 'a', '--', 'african', 'swallows', 'are', 'non', '-', 'migratory', '.', 'soldier', '#', '2', ':', 'oh', ',', 'yeah', '...', 'soldier', '#', '1', ':', 'so', 'they', 'couldn', \"'\", 't', 'bring', 'a', 'coconut', 'back', 'anyway', '...', '[', 'clop', 'clop', 'clop', ']', 'soldier', '#', '2', ':', 'wait', 'a', 'minute', '!', 'supposing', 'two', 'swallows', 'carried', 'it', 'together', '?', 'soldier', '#', '1', ':', 'no', ',', 'they', \"'\", 'd', 'have', 'to', 'have', 'it', 'on', 'a', 'line', '.', 'soldier', '#', '2', ':', 'well', ',', 'simple', '!', 'they', \"'\", 'd', 'just', 'use', 'a', 'strand', 'of', 'creeper', '!', 'soldier', '#', '1', ':', 'what', ',', 'held', 'under', 'the', 'dorsal', 'guiding', 'feathers', '?', 'soldier', '#', '2', ':', 'well', ',', 'why', 'not', '?', 'scene', '2', ':', '[', 'thud', ']', '[', 'clang', ']', 'cart', '-', 'master', ':', 'bring', 'out', 'your', 'dead', '!', '[', 'clang', ']', 'bring', 'out', 'your', 'dead', '!', '[', 'clang', ']', 'bring', 'out', 'your', 'dead', '!', '[', 'clang', ']', 'bring', 'out', 'your', 'dead', '!', '[', 'clang', ']', 'bring', 'out', 'your', 'dead', '!', '[', 'cough', 'cough', '...]', '[', 'clang', ']', '[...', 'cough', 'cough', ']', 'bring', 'out', 'your', 'dead', '!', '[', 'clang', ']', 'bring', 'out', 'your', 'dead', '!', '[', 'clang', ']', 'bring', 'out', 'your', 'dead', '!', 'ninepence', '.', '[', 'clang', ']', 'bring', 'out', 'your', 'dead', '!', '[', 'clang', ']', 'bring', 'out', 'your', 'dead', '!', '[', 'clang', ']', 'bring', 'out', '...', '[', 'rewr', '!]', '...', 'your', 'dead', '!', '[', 'rewr', '!]', '[', 'clang', ']', 'bring', 'out', 'your', 'dead', '!', 'customer', ':', 'here', \"'\", 's', 'one', '.', 'cart', '-', 'master', ':', 'ninepence', '.', 'dead', 'person', ':', 'i', \"'\", 'm', 'not', 'dead', '!', 'cart', '-', 'master', ':', 'what', '?', 'customer', ':', 'nothing', '.', 'here', \"'\", 's', 'your', 'ninepence', '.', 'dead', 'person', ':', 'i', \"'\", 'm', 'not', 'dead', '!', 'cart', '-', 'master', ':', \"'\", 'ere', '.', 'he', 'says', 'he', \"'\", 's', 'not', 'dead', '!', 'customer', ':', 'yes', 'he', 'is', '.', 'dead', 'person', ':', 'i', \"'\", 'm', 'not', '!', 'cart', '-', 'master', ':', 'he', 'isn', \"'\", 't', '?', 'customer', ':', 'well', ',', 'he', 'will', 'be', 'soon', '.', 'he', \"'\", 's', 'very', 'ill', '.', 'dead', 'person', ':', 'i', \"'\", 'm', 'getting', 'better', '!', 'customer', ':', 'no', 'you', \"'\", 're', 'not', '.', 'you', \"'\", 'll', 'be', 'stone', 'dead', 'in', 'a', 'moment', '.', 'cart', '-', 'master', ':', 'oh', ',', 'i', 'can', \"'\", 't', 'take', 'him', 'like', 'that', '.', 'it', \"'\", 's', 'against', 'regulations', '.', 'dead', 'person', ':', 'i', 'don', \"'\", 't', 'want', 'to', 'go', 'on', 'the', 'cart', '!', 'customer', ':', 'oh', ',', 'don', \"'\", 't', 'be', 'such', 'a', 'baby', '.', 'cart', '-', 'master', ':', 'i', 'can', \"'\", 't', 'take', 'him', '.', 'dead', 'person', ':', 'i', 'feel', 'fine', '!', 'customer', ':', 'well', ',', 'do', 'us', 'a', 'favor', '.', 'cart', '-', 'master', ':', 'i', 'can', \"'\", 't', '.', 'customer', ':', 'well', ',', 'can', 'you', 'hang', 'around', 'a', 'couple', 'of', 'minutes', '?', 'he', 'won', \"'\", 't', 'be', 'long', '.', 'cart', '-', 'master', ':', 'no', ',', 'i', \"'\", 've', 'got', 'to', 'go', 'to', 'the', 'robinson', \"'\", 's', '.', 'they', \"'\", 've', 'lost', 'nine', 'today', '.', 'customer', ':', 'well', ',', 'when', \"'\", 's', 'your', 'next', 'round', '?', 'cart', '-', 'master', ':', 'thursday', '.', 'dead', 'person', ':', 'i', 'think', 'i', \"'\", 'll', 'go', 'for', 'a', 'walk', '.', 'customer', ':', 'you', \"'\", 're', 'not', 'fooling', 'anyone', 'you', 'know', '.', 'look', ',', 'isn', \"'\", 't', 'there', 'something', 'you', 'can', 'do', '?', 'dead', 'person', ':', '[', 'singing', ']', 'i', 'feel', 'happy', '...', 'i', 'feel', 'happy', '.', '[', 'whop', ']', 'customer', ':', 'ah', ',', 'thanks', 'very', 'much', '.', 'cart', '-', 'master', ':', 'not', 'at', 'all', '.', 'see', 'you', 'on', 'thursday', '.', 'customer', ':', 'right', '.', 'all', 'right', '.', '[', 'howl', ']', '[', 'clop', 'clop', 'clop', ']', 'who', \"'\", 's', 'that', 'then', '?', 'cart', '-', 'master', ':', 'i', 'dunno', '.', 'must', 'be', 'a', 'king', '.', 'customer', ':', 'why', '?', 'cart', '-', 'master', ':', 'he', 'hasn', \"'\", 't', 'got', 'shit', 'all', 'over', 'him', '.', 'scene', '3', ':', '[', 'thud', ']', '[', 'king', 'arthur', 'music', ']', '[', 'thud', 'thud', 'thud', ']', '[', 'king', 'arthur', 'music', 'stops', ']', 'arthur', ':', 'old', 'woman', '!', 'dennis', ':', 'man', '!', 'arthur', ':', 'man', '.', 'sorry', '.', 'what', 'knight', 'live', 'in', 'that', 'castle', 'over', 'there', '?', 'dennis', ':', 'i', \"'\", 'm', 'thirty', '-', 'seven', '.', 'arthur', ':', 'i', '--', 'what', '?', 'dennis', ':', 'i', \"'\", 'm', 'thirty', '-', 'seven', '.', 'i', \"'\", 'm', 'not', 'old', '.', 'arthur', ':', 'well', ',', 'i', 'can', \"'\", 't', 'just', 'call', 'you', \"'\", 'man', \"'.\", 'dennis', ':', 'well', ',', 'you', 'could', 'say', \"'\", 'dennis', \"'.\", 'arthur', ':', 'well', ',', 'i', 'didn', \"'\", 't', 'know', 'you', 'were', 'called', \"'\", 'dennis', \"'.\", 'dennis', ':', 'well', ',', 'you', 'didn', \"'\", 't', 'bother', 'to', 'find', 'out', ',', 'did', 'you', '?', 'arthur', ':', 'i', 'did', 'say', \"'\", 'sorry', \"'\", 'about', 'the', \"'\", 'old', 'woman', \"',\", 'but', 'from', 'the', 'behind', 'you', 'looked', '--', 'dennis', ':', 'what', 'i', 'object', 'to', 'is', 'that', 'you', 'automatically', 'treat', 'me', 'like', 'an', 'inferior', '!', 'arthur', ':', 'well', ',', 'i', 'am', 'king', '!', 'dennis', ':', 'oh', 'king', ',', 'eh', ',', 'very', 'nice', '.', 'and', 'how', 'd', \"'\", 'you', 'get', 'that', ',', 'eh', '?', 'by', 'exploiting', 'the', 'workers', '!', 'by', \"'\", 'anging', 'on', 'to', 'outdated', 'imperialist', 'dogma', 'which', 'perpetuates', 'the', 'economic', 'and', 'social', 'differences', 'in', 'our', 'society', '.', 'if', 'there', \"'\", 's', 'ever', 'going', 'to', 'be', 'any', 'progress', 'with', 'the', '--', 'woman', ':', 'dennis', ',', 'there', \"'\", 's', 'some', 'lovely', 'filth', 'down', 'here', '.', 'oh', '!', 'how', 'd', \"'\", 'you', 'do', '?', 'arthur', ':', 'how', 'do', 'you', 'do', ',', 'good', 'lady', '.', 'i', 'am', 'arthur', ',', 'king', 'of', 'the', 'britons', '.', 'who', \"'\", 's', 'castle', 'is', 'that', '?', 'woman', ':', 'king', 'of', 'the', 'who', '?', 'arthur', ':', 'the', 'britons', '.', 'woman', ':', 'who', 'are', 'the', 'britons', '?', 'arthur', ':', 'well', ',', 'we', 'all', 'are', '.', 'we', 'are', 'all', 'britons', ',', 'and', 'i', 'am', 'your', 'king', '.', 'woman', ':', 'i', 'didn', \"'\", 't', 'know', 'we', 'had', 'a', 'king', '.', 'i', 'thought', 'we', 'were', 'an', 'autonomous', 'collective', '.', 'dennis', ':', 'you', \"'\", 're', 'fooling', 'yourself', '.', 'we', \"'\", 're', 'living', 'in', 'a', 'dictatorship', '.', 'a', 'self', '-', 'perpetuating', 'autocracy', 'in', 'which', 'the', 'working', 'classes', '--', 'woman', ':', 'oh', ',', 'there', 'you', 'go', ',', 'bringing', 'class', 'into', 'it', 'again', '.', 'dennis', ':', 'that', \"'\", 's', 'what', 'it', \"'\", 's', 'all', 'about', '.', 'if', 'only', 'people', 'would', 'hear', 'of', '--', 'arthur', ':', 'please', ',', 'please', 'good', 'people', '.', 'i', 'am', 'in', 'haste', '.', 'who', 'lives', 'in', 'that', 'castle', '?', 'woman', ':', 'no', 'one', 'live', 'there', '.', 'arthur', ':', 'then', 'who', 'is', 'your', 'lord', '?', 'woman', ':', 'we', 'don', \"'\", 't', 'have', 'a', 'lord', '.', 'arthur', ':', 'what', '?', 'dennis', ':', 'i', 'told', 'you', '.', 'we', \"'\", 're', 'an', 'anarcho', '-', 'syndicalist', 'commune', '.', 'we', 'take', 'it', 'in', 'turns', 'to', 'act', 'as', 'a', 'sort', 'of', 'executive', 'officer', 'for', 'the', 'week', '.', 'arthur', ':', 'yes', '.', 'dennis', ':', 'but', 'all', 'the', 'decision', 'of', 'that', 'officer', 'have', 'to', 'be', 'ratified', 'at', 'a', 'special', 'bi', '-', 'weekly', 'meeting', '--', 'arthur', ':', 'yes', ',', 'i', 'see', '.', 'dennis', ':', 'by', 'a', 'simple', 'majority', 'in', 'the', 'case', 'of', 'purely', 'internal', 'affairs', ',--', 'arthur', ':', 'be', 'quiet', '!', 'dennis', ':', 'but', 'by', 'a', 'two', '-', 'thirds', 'majority', 'in', 'the', 'case', 'of', 'more', 'major', '--', 'arthur', ':', 'be', 'quiet', '!', 'i', 'order', 'you', 'to', 'be', 'quiet', '!', 'woman', ':', 'order', ',', 'eh', '?', 'who', 'does', 'he', 'think', 'he', 'is', '?', 'heh', '.', 'arthur', ':', 'i', 'am', 'your', 'king', '!', 'woman', ':', 'well', ',', 'i', 'didn', \"'\", 't', 'vote', 'for', 'you', '.', 'arthur', ':', 'you', 'don', \"'\", 't', 'vote', 'for', 'kings', '.', 'woman', ':', 'well', ',', 'how', 'did', 'you', 'become', 'king', 'then', '?', 'arthur', ':', 'the', 'lady', 'of', 'the', 'lake', ',', '...', '[', 'angels', 'sing', ']', '...', 'her', 'arm', 'clad', 'in', 'the', 'purest', 'shimmering', 'samite', ',', 'held', 'aloft', 'excalibur', 'from', 'the', 'bosom', 'of', 'the', 'water', 'signifying', 'by', 'divine', 'providence', 'that', 'i', ',', 'arthur', ',', 'was', 'to', 'carry', 'excalibur', '.', '[', 'singing', 'stops', ']', 'that', 'is', 'why', 'i', 'am', 'your', 'king', '!', 'dennis', ':', 'listen', ',', 'strange', 'women', 'lying', 'in', 'ponds', 'distributing', 'swords', 'is', 'no', 'basis', 'for', 'a', 'system', 'of', 'government', '.', 'supreme', 'executive', 'power', 'derives', 'from', 'a', 'mandate', 'from', 'the', 'masses', ',', 'not', 'from', 'some', 'farcical', 'aquatic', 'ceremony', '.', 'arthur', ':', 'be', 'quiet', '!', 'dennis', ':', 'well', ',', 'but', 'you', 'can', \"'\", 't', 'expect', 'to', 'wield', 'supreme', 'executive', 'power', 'just', \"'\", 'cause', 'some', 'watery', 'tart', 'threw', 'a', 'sword', 'at', 'you', '!', 'arthur', ':', 'shut', 'up', '!', 'dennis', ':', 'i', 'mean', ',', 'if', 'i', 'went', \"'\", 'round', 'saying', 'i', 'was', 'an', 'emperor', 'just', 'because', 'some', 'moistened', 'bint', 'had', 'lobbed', 'a', 'scimitar', 'at', 'me', ',', 'they', \"'\", 'd', 'put', 'me', 'away', '!', 'arthur', ':', 'shut', 'up', ',', 'will', 'you', '.', 'shut', 'up', '!', 'dennis', ':', 'ah', ',', 'now', 'we', 'see', 'the', 'violence', 'inherent', 'in', 'the', 'system', '.', 'arthur', ':', 'shut', 'up', '!', 'dennis', ':', 'oh', '!', 'come', 'and', 'see', 'the', 'violence', 'inherent', 'in', 'the', 'system', '!', 'help', ',', 'help', '!', 'i', \"'\", 'm', 'being', 'repressed', '!', 'arthur', ':', 'bloody', 'peasant', '!', 'dennis', ':', 'oh', ',', 'what', 'a', 'give', '-', 'away', '.', 'did', 'you', 'hear', 'that', '?', 'did', 'you', 'hear', 'that', ',', 'eh', '?', 'that', \"'\", 's', 'what', 'i', \"'\", 'm', 'on', 'about', '.', 'did', 'you', 'see', 'him', 'repressing', 'me', '?', 'you', 'saw', 'it', ',', 'didn', \"'\", 't', 'you', 'scene', '4', ':', '[', 'king', 'arthur', 'music', ']', '[', 'music', 'stops', ']', 'black', 'knight', ':', 'aaagh', '!', '[', 'king', 'arthur', 'music', ']', '[', 'music', 'stops', ']', 'black', 'knight', ':', 'aaagh', '!', 'green', 'knight', ':', 'ooh', '!', '[', 'king', 'arthur', 'music', ']', '[', 'music', 'stops', ']', '[', 'stab', ']', 'black', 'knight', ':', 'aagh', '!', 'green', 'knight', ':', 'oh', '!', '[', 'king', 'arthur', 'music', ']', 'ooh', '!', '[', 'music', 'stops', ']', 'black', 'knight', ':', 'aaagh', '!', '[', 'clang', ']', 'black', 'knight', 'and', 'green', 'knight', ':', 'agh', '!,', 'oh', '!,', 'etc', '.', 'green', 'knight', ':', 'aaaaaah', '!', 'aaaaaaaaah', '!', '[', 'woosh', ']', '[', 'black', 'knight', 'kills', 'green', 'knight', ']', '[', 'thud', ']', '[', 'scrape', ']', 'black', 'knight', ':', 'umm', '!', '[', 'clop', 'clop', 'clop', ']', 'arthur', ':', 'you', 'fight', 'with', 'the', 'strength', 'of', 'many', 'men', ',', 'sir', 'knight', '.', '[', 'pause', ']', 'i', 'am', 'arthur', ',', 'king', 'of', 'the', 'britons', '.', '[', 'pause', ']', 'i', 'seek', 'the', 'finest', 'and', 'the', 'bravest', 'knights', 'in', 'the', 'land', 'to', 'join', 'me', 'in', 'my', 'court', 'at', 'camelot', '.', '[', 'pause', ']', 'you', 'have', 'proved', 'yourself', 'worthy', '.', 'will', 'you', 'join', 'me', '?', '[', 'pause', ']', 'you', 'make', 'me', 'sad', '.', 'so', 'be', 'it', '.', 'come', ',', 'patsy', '.', 'black', 'knight', ':', 'none', 'shall', 'pass', '.', 'arthur', ':', 'what', '?', 'black', 'knight', ':', 'none', 'shall', 'pass', '.', 'arthur', ':', 'i', 'have', 'no', 'quarrel', 'with', 'you', ',', 'good', 'sir', 'knight', ',', 'but', 'i', 'must', 'cross', 'this', 'bridge', '.', 'black', 'knight', ':', 'then', 'you', 'shall', 'die', '.', 'arthur', ':', 'i', 'command', 'you', ',', 'as', 'king', 'of', 'the', 'britons', ',', 'to', 'stand', 'aside', '!', 'black', 'knight', ':', 'i', 'move', 'for', 'no', 'man', '.', 'arthur', ':', 'so', 'be', 'it', '!', 'arthur', 'and', 'black', 'knight', ':', 'aaah', '!,', 'hiyaah', '!,', 'etc', '.', '[', 'arthur', 'chops', 'the', 'black', 'knight', \"'\", 's', 'left', 'arm', 'off', ']', 'arthur', ':', 'now', 'stand', 'aside', ',', 'worthy', 'adversary', '.', 'black', 'knight', ':', \"'\", 'tis', 'but', 'a', 'scratch', '.', 'arthur', ':', 'a', 'scratch', '?', 'your', 'arm', \"'\", 's', 'off', '!', 'black', 'knight', ':', 'no', ',', 'it', 'isn', \"'\", 't', '.', 'arthur', ':', 'well', ',', 'what', \"'\", 's', 'that', 'then', '?', 'black', 'knight', ':', 'i', \"'\", 've', 'had', 'worse', '.', 'arthur', ':', 'you', 'liar', '!', 'black', 'knight', ':', 'come', 'on', ',', 'you', 'pansy', '!', '[', 'clang', ']', 'huyah', '!', '[', 'clang', ']', 'hiyaah', '!', '[', 'clang', ']', 'aaaaaaaah', '!', '[', 'arthur', 'chops', 'the', 'black', 'knight', \"'\", 's', 'right', 'arm', 'off', ']', 'arthur', ':', 'victory', 'is', 'mine', '!', '[', 'kneeling', ']', 'we', 'thank', 'thee', 'lord', ',', 'that', 'in', 'thy', 'mer', '--', 'black', 'knight', ':', 'hah', '!', '[', 'clunk', ']', 'come', 'on', 'then', '.', 'arthur', ':', 'what', '?', 'black', 'knight', ':', 'have', 'at', 'you', '!', '[', 'kick', ']', 'arthur', ':', 'eh', '.', 'you', 'are', 'indeed', 'brave', ',', 'sir', 'knight', ',', 'but', 'the', 'fight', 'is', 'mine', '.', 'black', 'knight', ':', 'oh', ',', 'had', 'enough', ',', 'eh', '?', 'arthur', ':', 'look', ',', 'you', 'stupid', 'bastard', '.', 'you', \"'\", 've', 'got', 'no', 'arms', 'left', '.', 'black', 'knight', ':', 'yes', 'i', 'have', '.', 'arthur', ':', 'look', '!', 'black', 'knight', ':', 'just', 'a', 'flesh', 'wound', '.', '[', 'kick', ']', 'arthur', ':', 'look', ',', 'stop', 'that', '.', 'black', 'knight', ':', 'chicken', '!', '[', 'kick', ']', 'chickennn', '!', 'arthur', ':', 'look', ',', 'i', \"'\", 'll', 'have', 'your', 'leg', '.', '[', 'kick', ']', 'right', '!', '[', 'whop', ']', '[', 'arthur', 'chops', 'the', 'black', 'knight', \"'\", 's', 'right', 'leg', 'off', ']', 'black', 'knight', ':', 'right', '.', 'i', \"'\", 'll', 'do', 'you', 'for', 'that', '!', 'arthur', ':', 'you', \"'\", 'll', 'what', '?', 'black', 'knight', ':', 'come', 'here', '!', 'arthur', ':', 'what', 'are', 'you', 'going', 'to', 'do', ',', 'bleed', 'on', 'me', '?', 'black', 'knight', ':', 'i', \"'\", 'm', 'invincible', '!', 'arthur', ':', 'you', \"'\", 're', 'a', 'looney', '.', 'black', 'knight', ':', 'the', 'black', 'knight', 'always', 'triumphs', '!', 'have', 'at', 'you', '!', 'come', 'on', 'then', '.', '[', 'whop', ']', '[', 'arthur', 'chops', 'the', 'black', 'knight', \"'\", 's', 'last', 'leg', 'off', ']', 'black', 'knight', ':', 'ooh', '.', 'all', 'right', ',', 'we', \"'\", 'll', 'call', 'it', 'a', 'draw', '.', 'arthur', ':', 'come', ',', 'patsy', '.', 'black', 'knight', ':', 'oh', '.', 'oh', ',', 'i', 'see', '.', 'running', 'away', ',', 'eh', '?', 'you', 'yellow', 'bastards', '!', 'come', 'back', 'here', 'and', 'take', 'what', \"'\", 's', 'coming', 'to', 'you', '.', 'i', \"'\", 'll', 'bite', 'your', 'legs', 'off', 'scene', '5', ':', 'monks', ':', '[', 'chanting', ']', 'pie', 'iesu', 'domine', ',', 'dona', 'eis', 'requiem', '.', '[', 'bonk', ']', 'pie', 'iesu', 'domine', ',', '...', '[', 'bonk', ']', '...', 'dona', 'eis', 'requiem', '.', '[', 'bonk', ']', 'pie', 'iesu', 'domine', ',', '...', '[', 'bonk', ']', '...', 'dona', 'eis', 'requiem', '.', 'crowd', ':', 'a', 'witch', '!', 'a', 'witch', '!', '[', 'bonk', ']', 'a', 'witch', '!', 'a', 'witch', '!', 'monks', ':', '[', 'chanting', ']', 'pie', 'iesu', 'domine', '...', 'crowd', ':', 'a', 'witch', '!', 'a', 'witch', '!', 'a', 'witch', '!', 'a', 'witch', '!', 'we', \"'\", 've', 'found', 'a', 'witch', '!', 'a', 'witch', '!', 'a', 'witch', '!', 'a', 'witch', '!', 'a', 'witch', '!', 'we', \"'\", 've', 'got', 'a', 'witch', '!', 'a', 'witch', '!', 'a', 'witch', '!', 'burn', 'her', '!', 'burn', 'her', '!', 'burn', 'her', '!', 'we', \"'\", 've', 'found', 'a', 'witch', '!', 'we', \"'\", 've', 'found', 'a', 'witch', '!', 'a', 'witch', '!', 'a', 'witch', '!', 'a', 'witch', '!', 'villager', '#', '1', ':', 'we', 'have', 'found', 'a', 'witch', '.', 'may', 'we', 'burn', 'her', '?', 'crowd', ':', 'burn', 'her', '!', 'burn', '!', 'burn', 'her', '!', 'burn', 'her', '!', 'bedevere', ':', 'how', 'do', 'you', 'know', 'she', 'is', 'a', 'witch', '?', 'villager', '#', '2', ':', 'she', 'looks', 'like', 'one', '.', 'crowd', ':', 'right', '!', 'yeah', '!', 'yeah', '!', 'bedevere', ':', 'bring', 'her', 'forward', '.', 'witch', ':', 'i', \"'\", 'm', 'not', 'a', 'witch', '.', 'i', \"'\", 'm', 'not', 'a', 'witch', '.', 'bedevere', ':', 'uh', ',', 'but', 'you', 'are', 'dressed', 'as', 'one', '.', 'witch', ':', 'they', 'dressed', 'me', 'up', 'like', 'this', '.', 'crowd', ':', 'augh', ',', 'we', 'didn', \"'\", 't', '!', 'we', 'didn', \"'\", 't', '...', 'witch', ':', 'and', 'this', 'isn', \"'\", 't', 'my', 'nose', '.', 'it', \"'\", 's', 'a', 'false', 'one', '.', 'bedevere', ':', 'well', '?', 'villager', '#', '1', ':', 'well', ',', 'we', 'did', 'do', 'the', 'nose', '.', 'bedevere', ':', 'the', 'nose', '?', 'villager', '#', '1', ':', 'and', 'the', 'hat', ',', 'but', 'she', 'is', 'a', 'witch', '!', 'villager', '#', '2', ':', 'yeah', '!', 'crowd', ':', 'we', 'burn', 'her', '!', 'right', '!', 'yeaaah', '!', 'yeaah', '!', 'bedevere', ':', 'did', 'you', 'dress', 'her', 'up', 'like', 'this', '?', 'villager', '#', '1', ':', 'no', '!', 'villager', '#', '2', 'and', '3', ':', 'no', '.', 'no', '.', 'villager', '#', '2', ':', 'no', '.', 'villager', '#', '1', ':', 'no', '.', 'villagers', '#', '2', 'and', '#', '3', ':', 'no', '.', 'villager', '#', '1', ':', 'yes', '.', 'villager', '#', '2', ':', 'yes', '.', 'villager', '#', '1', ':', 'yes', '.', 'yeah', ',', 'a', 'bit', '.', 'villager', '#', '3', ':', 'a', 'bit', '.', 'villagers', '#', '1', 'and', '#', '2', ':', 'a', 'bit', '.', 'villager', '#', '3', ':', 'a', 'bit', '.', 'villager', '#', '1', ':', 'she', 'has', 'got', 'a', 'wart', '.', 'random', ':', '[', 'cough', ']', 'bedevere', ':', 'what', 'makes', 'you', 'think', 'she', 'is', 'a', 'witch', '?', 'villager', '#', '3', ':', 'well', ',', 'she', 'turned', 'me', 'into', 'a', 'newt', '.', 'bedevere', ':', 'a', 'newt', '?', 'villager', '#', '3', ':', 'i', 'got', 'better', '.', 'villager', '#', '2', ':', 'burn', 'her', 'anyway', '!', 'villager', '#', '1', ':', 'burn', '!', 'crowd', ':', 'burn', 'her', '!', 'burn', '!', 'burn', 'her', '!', '...', 'bedevere', ':', 'quiet', '!', 'quiet', '!', 'quiet', '!', 'quiet', '!', 'there', 'are', 'ways', 'of', 'telling', 'whether', 'she', 'is', 'a', 'witch', '.', 'villager', '#', '1', ':', 'are', 'there', '?', 'villager', '#', '2', ':', 'ah', '?', 'villager', '#', '1', ':', 'what', 'are', 'they', '?', 'crowd', ':', 'tell', 'us', '!', 'tell', 'us', '!', '...', 'bedevere', ':', 'tell', 'me', ',', 'what', 'do', 'you', 'do', 'with', 'witches', '?', 'villager', '#', '2', ':', 'burn', '!', 'villager', '#', '1', ':', 'burn', '!', 'crowd', ':', 'burn', '!', 'burn', 'them', 'up', '!', 'burn', '!', '...', 'bedevere', ':', 'and', 'what', 'do', 'you', 'burn', 'apart', 'from', 'witches', '?', 'villager', '#', '1', ':', 'more', 'witches', '!', 'villager', '#', '3', ':', 'shh', '!', 'villager', '#', '2', ':', 'wood', '!', 'bedevere', ':', 'so', ',', 'why', 'do', 'witches', 'burn', '?', '[', 'pause', ']', 'villager', '#', '3', ':', 'b', '--...', \"'\", 'cause', 'they', \"'\", 're', 'made', 'of', '...', 'wood', '?', 'bedevere', ':', 'good', '!', 'heh', 'heh', '.', 'crowd', ':', 'oh', 'yeah', '.', 'oh', '.', 'bedevere', ':', 'so', ',', 'how', 'do', 'we', 'tell', 'whether', 'she', 'is', 'made', 'of', 'wood', '?', 'villager', '#', '1', ':', 'build', 'a', 'bridge', 'out', 'of', 'her', '.', 'bedevere', ':', 'ah', ',', 'but', 'can', 'you', 'not', 'also', 'make', 'bridges', 'out', 'of', 'stone', '?', 'villager', '#', '1', ':', 'oh', ',', 'yeah', '.', 'random', ':', 'oh', ',', 'yeah', '.', 'true', '.', 'uhh', '...', 'bedevere', ':', 'does', 'wood', 'sink', 'in', 'water', '?', 'villager', '#', '1', ':', 'no', '.', 'no', '.', 'villager', '#', '2', ':', 'no', ',', 'it', 'floats', '!', 'it', 'floats', '!', 'villager', '#', '1', ':', 'throw', 'her', 'into', 'the', 'pond', '!', 'crowd', ':', 'the', 'pond', '!', 'throw', 'her', 'into', 'the', 'pond', '!', 'bedevere', ':', 'what', 'also', 'floats', 'in', 'water', '?', 'villager', '#', '1', ':', 'bread', '!', 'villager', '#', '2', ':', 'apples', '!', 'villager', '#', '3', ':', 'uh', ',', 'very', 'small', 'rocks', '!', 'villager', '#', '1', ':', 'cider', '!', 'villager', '#', '2', ':', 'uh', ',', 'gra', '--', 'gravy', '!', 'villager', '#', '1', ':', 'cherries', '!', 'villager', '#', '2', ':', 'mud', '!', 'villager', '#', '3', ':', 'churches', '!', 'churches', '!', 'villager', '#', '2', ':', 'lead', '!', 'lead', '!', 'arthur', ':', 'a', 'duck', '!', 'crowd', ':', 'oooh', '.', 'bedevere', ':', 'exactly', '.', 'so', ',', 'logically', '...', 'villager', '#', '1', ':', 'if', '...', 'she', '...', 'weighs', '...', 'the', 'same', 'as', 'a', 'duck', ',', '...', 'she', \"'\", 's', 'made', 'of', 'wood', '.', 'bedevere', ':', 'and', 'therefore', '?', 'villager', '#', '2', ':', 'a', 'witch', '!', 'villager', '#', '1', ':', 'a', 'witch', '!', 'crowd', ':', 'a', 'witch', '!', 'a', 'witch', '!', '...', 'villager', '#', '4', ':', 'here', 'is', 'a', 'duck', '.', 'use', 'this', 'duck', '.', '[', 'quack', 'quack', 'quack', ']', 'bedevere', ':', 'we', 'shall', 'use', 'my', 'largest', 'scales', '.', 'crowd', ':', 'ohh', '!', 'ohh', '!', 'burn', 'the', 'witch', '!', 'burn', 'the', 'witch', '!', 'burn', 'her', '!', 'burn', 'her', '!', 'burn', 'her', '!', 'burn', 'her', '!', 'burn', 'her', '!', 'burn', 'her', '!', 'burn', 'her', '!', 'ahh', '!', 'ahh', '...', 'bedevere', ':', 'right', '.', 'remove', 'the', 'supports', '!', '[', 'whop', ']', '[', 'clunk', ']', '[', 'creak', ']', 'crowd', ':', 'a', 'witch', '!', 'a', 'witch', '!', 'a', 'witch', '!', 'witch', ':', 'it', \"'\", 's', 'a', 'fair', 'cop', '.', 'villager', '#', '3', ':', 'burn', 'her', '!', 'crowd', ':', 'burn', 'her', '!', 'burn', 'her', '!', 'burn', 'her', '!', 'burn', '!', 'burn', '!', '...', 'bedevere', ':', 'who', 'are', 'you', 'who', 'are', 'so', 'wise', 'in', 'the', 'ways', 'of', 'science', '?', 'arthur', ':', 'i', 'am', 'arthur', ',', 'king', 'of', 'the', 'britons', '.', 'bedevere', ':', 'my', 'liege', '!', 'arthur', ':', 'good', 'sir', 'knight', ',', 'will', 'you', 'come', 'with', 'me', 'to', 'camelot', ',', 'and', 'join', 'us', 'at', 'the', 'round', 'table', '?', 'bedevere', ':', 'my', 'liege', '!', 'i', 'would', 'be', 'honored', '.', 'arthur', ':', 'what', 'is', 'your', 'name', '?', 'bedevere', ':', 'bedevere', ',', 'my', 'liege', '.', 'arthur', ':', 'then', 'i', 'dub', 'you', 'sir', 'bedevere', ',', 'knight', 'of', 'the', 'round', 'table', 'narrator', ':', 'the', 'wise', 'sir', 'bedevere', 'was', 'the', 'first', 'to', 'join', 'king', 'arthur', \"'\", 's', 'knights', ',', 'but', 'other', 'illustrious', 'names', 'were', 'soon', 'to', 'follow', ':', 'sir', 'lancelot', 'the', 'brave', ';', 'sir', 'gallahad', 'the', 'pure', ';', 'and', 'sir', 'robin', 'the', '-', 'not', '-', 'quite', '-', 'so', '-', 'brave', '-', 'as', '-', 'sir', '-', 'lancelot', ',', 'who', 'had', 'nearly', 'fought', 'the', 'dragon', 'of', 'angnor', ',', 'who', 'had', 'nearly', 'stood', 'up', 'to', 'the', 'vicious', 'chicken', 'of', 'bristol', ',', 'and', 'who', 'had', 'personally', 'wet', 'himself', 'at', 'the', 'battle', 'of', 'badon', 'hill', ';', 'and', 'the', 'aptly', 'named', 'sir', 'not', '-', 'appearing', '-', 'in', '-', 'this', '-', 'film', '.', 'together', 'they', 'formed', 'a', 'band', 'whose', 'names', 'and', 'deeds', 'were', 'to', 'be', 'retold', 'throughout', 'the', 'centuries', ':', 'the', 'knights', 'of', 'the', 'round', 'table', 'scene', '6', ':', '[', 'clop', 'clop', 'clop', ']', 'sir', 'bedevere', ':', 'and', 'that', ',', 'my', 'liege', ',', 'is', 'how', 'we', 'know', 'the', 'earth', 'to', 'be', 'banana', '-', 'shaped', '.', 'arthur', ':', 'this', 'new', 'learning', 'amazes', 'me', ',', 'sir', 'bedevere', '.', 'explain', 'again', 'how', 'sheep', \"'\", 's', 'bladders', 'may', 'be', 'employed', 'to', 'prevent', 'earthquakes', '.', 'bedevere', ':', 'oh', ',', 'certainly', ',', 'sir', '.', 'sir', 'launcelot', ':', 'look', ',', 'my', 'liege', '!', '[', 'trumpets', ']', 'arthur', ':', 'camelot', '!', 'sir', 'galahad', ':', 'camelot', '!', 'launcelot', ':', 'camelot', '!', 'patsy', ':', 'it', \"'\", 's', 'only', 'a', 'model', '.', 'arthur', ':', 'shh', '!', 'knights', ',', 'i', 'bid', 'you', 'welcome', 'to', 'your', 'new', 'home', '.', 'let', 'us', 'ride', '...', 'to', '...', 'camelot', '!', '[', 'in', 'medieval', 'hall', ']', 'knights', ':', '[', 'singing', ']', 'we', \"'\", 're', 'knights', 'of', 'the', 'round', 'table', '.', 'we', 'dance', 'when', 'e', \"'\", 'er', 'we', \"'\", 're', 'able', '.', 'we', 'do', 'routines', 'and', 'chorus', 'scenes', 'with', 'footwork', 'impeccable', '.', 'we', 'dine', 'well', 'here', 'in', 'camelot', '.', 'we', 'eat', 'ham', 'and', 'jam', 'and', 'spam', 'a', 'lot', '[', 'dancing', ']', 'we', \"'\", 're', 'knights', 'of', 'the', 'round', 'table', '.', 'our', 'shows', 'are', 'formidable', ',', 'but', 'many', 'times', 'we', \"'\", 're', 'given', 'rhymes', 'that', 'are', 'quite', 'unsingable', '.', 'we', \"'\", 're', 'opera', 'mad', 'in', 'camelot', '.', 'we', 'sing', 'from', 'the', 'diaphragm', 'a', 'lot', '[', 'in', 'dungeon', ']', 'prisoner', ':', '[', 'clap', 'clap', 'clap', 'clap', ']', '[', 'in', 'medieval', 'hall', ']', 'knights', ':', '[', 'tap', '-', 'dancing', ']', 'in', 'war', 'we', \"'\", 're', 'tough', 'and', 'able', ',', 'quite', 'indefatigable', '.', 'between', 'our', 'quests', 'we', 'sequin', 'vests', 'and', 'impersonate', 'clark', 'gable', '.', 'it', \"'\", 's', 'a', 'busy', 'life', 'in', 'camelot', '.', 'man', ':', 'i', 'have', 'to', 'push', 'the', 'pram', 'a', 'lot', '[', 'outdoors', ']', 'arthur', ':', 'well', ',', 'on', 'second', 'thought', ',', 'let', \"'\", 's', 'not', 'go', 'to', 'camelot', '.', 'it', 'is', 'a', 'silly', 'place', '.', 'knights', ':', 'right', '.', 'right', 'scene', '7', ':', '[', 'clop', 'clop', 'clop', ']', '[', 'boom', 'boom', ']', '[', 'angels', 'sing', ']', 'god', ':', 'arthur', '!', 'arthur', ',', 'king', 'of', 'the', 'britons', '!', 'oh', ',', 'don', \"'\", 't', 'grovel', '!', '[', 'singing', 'stops', ']', 'one', 'thing', 'i', 'can', \"'\", 't', 'stand', ',', 'it', \"'\", 's', 'people', 'groveling', '.', 'arthur', ':', 'sorry', '.', '[', 'boom', ']', 'god', ':', 'and', 'don', \"'\", 't', 'apologise', '.', 'every', 'time', 'i', 'try', 'to', 'talk', 'to', 'someone', 'it', \"'\", 's', \"'\", 'sorry', 'this', \"'\", 'and', \"'\", 'forgive', 'me', 'that', \"'\", 'and', \"'\", 'i', \"'\", 'm', 'not', 'worthy', \"'.\", '[', 'boom', ']', 'what', 'are', 'you', 'doing', 'now', '?!', 'arthur', ':', 'i', \"'\", 'm', 'averting', 'my', 'eyes', ',', 'o', 'lord', '.', 'god', ':', 'well', ',', 'don', \"'\", 't', '.', 'it', \"'\", 's', 'like', 'those', 'miserable', 'psalms', '--', 'they', \"'\", 're', 'so', 'depressing', '.', 'now', 'knock', 'it', 'off', '!', 'arthur', ':', 'yes', ',', 'lord', '.', 'god', ':', 'right', '!', 'arthur', ',', 'king', 'of', 'the', 'britons', ',', 'your', 'knights', 'of', 'the', 'round', 'table', 'shall', 'have', 'a', 'task', 'to', 'make', 'them', 'an', 'example', 'in', 'these', 'dark', 'times', '.', 'arthur', ':', 'good', 'idea', ',', 'o', 'lord', '!', 'god', ':', \"'\", 'course', 'it', \"'\", 's', 'a', 'good', 'idea', '!', 'behold', '!', '[', 'angels', 'sing', ']', 'arthur', ',', 'this', 'is', 'the', 'holy', 'grail', '.', 'look', 'well', ',', 'arthur', ',', 'for', 'it', 'is', 'your', 'sacred', 'task', 'to', 'seek', 'this', 'grail', '.', 'that', 'is', 'your', 'purpose', ',', 'arthur', '...', 'the', 'quest', 'for', 'the', 'holy', 'grail', '.', '[', 'boom', ']', '[', 'singing', 'stops', ']', 'launcelot', ':', 'a', 'blessing', '!', 'a', 'blessing', 'from', 'the', 'lord', '!', 'galahad', ':', 'god', 'be', 'praised', 'scene', '8', ':', '[', 'king', 'arthur', 'music', ']', '[', 'clop', 'clop', 'clop', ']', 'arthur', ':', 'halt', '!', '[', 'horn', ']', 'hallo', '!', '[', 'pause', ']', 'hallo', '!', 'french', 'guard', ':', 'allo', '!', 'who', 'is', 'eet', '?', 'arthur', ':', 'it', 'is', 'king', 'arthur', ',', 'and', 'these', 'are', 'my', 'knights', 'of', 'the', 'round', 'table', '.', 'who', \"'\", 's', 'castle', 'is', 'this', '?', 'french', 'guard', ':', 'this', 'is', 'the', 'castle', 'of', 'my', 'master', 'guy', 'de', 'loimbard', '.', 'arthur', ':', 'go', 'and', 'tell', 'your', 'master', 'that', 'we', 'have', 'been', 'charged', 'by', 'god', 'with', 'a', 'sacred', 'quest', '.', 'if', 'he', 'will', 'give', 'us', 'food', 'and', 'shelter', 'for', 'the', 'night', 'he', 'can', 'join', 'us', 'in', 'our', 'quest', 'for', 'the', 'holy', 'grail', '.', 'french', 'guard', ':', 'well', ',', 'i', \"'\", 'll', 'ask', 'him', ',', 'but', 'i', 'don', \"'\", 't', 'think', 'he', \"'\", 'll', 'be', 'very', 'keen', '.', 'uh', ',', 'he', \"'\", 's', 'already', 'got', 'one', ',', 'you', 'see', '?', 'arthur', ':', 'what', '?', 'galahad', ':', 'he', 'says', 'they', \"'\", 've', 'already', 'got', 'one', '!', 'arthur', ':', 'are', 'you', 'sure', 'he', \"'\", 's', 'got', 'one', '?', 'french', 'guard', ':', 'oh', ',', 'yes', ',', 'it', \"'\", 's', 'very', 'nice', '-', 'a', '.', '(', 'i', 'told', 'him', 'we', 'already', 'got', 'one', '.)', 'arthur', ':', 'well', ',', 'u', '--', 'um', ',', 'can', 'we', 'come', 'up', 'and', 'have', 'a', 'look', '?', 'french', 'guard', ':', 'of', 'course', 'not', '!', 'you', 'are', 'english', 'types', '-', 'a', '!', 'arthur', ':', 'well', ',', 'what', 'are', 'you', 'then', '?', 'french', 'guard', ':', 'i', \"'\", 'm', 'french', '!', 'why', 'do', 'think', 'i', 'have', 'this', 'outrageous', 'accent', ',', 'you', 'silly', 'king', '-', 'a', '?!', 'galahad', ':', 'what', 'are', 'you', 'doing', 'in', 'england', '?', 'french', 'guard', ':', 'mind', 'your', 'own', 'business', '!', 'arthur', ':', 'if', 'you', 'will', 'not', 'show', 'us', 'the', 'grail', ',', 'we', 'shall', 'take', 'your', 'castle', 'by', 'force', '!', 'french', 'guard', ':', 'you', 'don', \"'\", 't', 'frighten', 'us', ',', 'english', 'pig', '-', 'dogs', '!', 'go', 'and', 'boil', 'your', 'bottom', ',', 'sons', 'of', 'a', 'silly', 'person', '.', 'i', 'blow', 'my', 'nose', 'at', 'you', ',', 'so', '-', 'called', 'arthur', 'king', ',', 'you', 'and', 'all', 'your', 'silly', 'english', 'k', '-', 'nnnnniggets', '.', 'thpppppt', '!', 'thppt', '!', 'thppt', '!', 'galahad', ':', 'what', 'a', 'strange', 'person', '.', 'arthur', ':', 'now', 'look', 'here', ',', 'my', 'good', 'man', '--', 'french', 'guard', ':', 'i', 'don', \"'\", 't', 'wanna', 'talk', 'to', 'you', 'no', 'more', ',', 'you', 'empty', 'headed', 'animal', 'food', 'trough', 'wiper', '!', 'i', 'fart', 'in', 'your', 'general', 'direction', '!', 'you', 'mother', 'was', 'a', 'hamster', 'and', 'your', 'father', 'smelt', 'of', 'elderberries', '!', 'galahad', ':', 'is', 'there', 'someone', 'else', 'up', 'there', 'we', 'could', 'talk', 'to', '?', 'french', 'guard', ':', 'no', ',', 'now', 'go', 'away', 'or', 'i', 'shall', 'taunt', 'you', 'a', 'second', 'time', '-', 'a', '!', '[', 'sniff', ']', 'arthur', ':', 'now', ',', 'this', 'is', 'your', 'last', 'chance', '.', 'i', \"'\", 've', 'been', 'more', 'than', 'reasonable', '.', 'french', 'guard', ':', '(', 'fetchez', 'la', 'vache', '.)', 'other', 'french', 'guard', ':', 'quoi', '?', 'french', 'guard', ':', '(', 'fetchez', 'la', 'vache', '!)', '[', 'mooo', ']', 'arthur', ':', 'if', 'you', 'do', 'not', 'agree', 'to', 'my', 'commands', ',', 'then', 'i', 'shall', '--', '[', 'twong', ']', '[', 'mooooooo', ']', 'jesus', 'christ', '!', 'knights', ':', 'christ', '!', '[', 'thud', ']', 'ah', '!', 'ohh', '!', 'arthur', ':', 'right', '!', 'charge', '!', 'knights', ':', 'charge', '!', '[', 'mayhem', ']', 'french', 'guard', ':', 'hey', ',', 'this', 'one', 'is', 'for', 'your', 'mother', '!', 'there', 'you', 'go', '.', '[', 'mayhem', ']', 'french', 'guard', ':', 'and', 'this', 'one', \"'\", 's', 'for', 'your', 'dad', '!', 'arthur', ':', 'run', 'away', '!', 'knights', ':', 'run', 'away', '!', 'french', 'guard', ':', 'thppppt', '!', 'french', 'guards', ':', '[', 'taunting', ']', 'launcelot', ':', 'fiends', '!', 'i', \"'\", 'll', 'tear', 'them', 'apart', '!', 'arthur', ':', 'no', ',', 'no', '.', 'no', ',', 'no', '.', 'bedevere', ':', 'sir', '!', 'i', 'have', 'a', 'plan', ',', 'sir', '.', '[', 'later', ']', '[', 'wind', ']', '[', 'saw', 'saw', 'saw', 'saw', 'saw', 'saw', 'saw', 'saw', 'saw', 'saw', 'saw', 'saw', 'saw', 'saw', 'saw', 'saw', ']', '[', 'clunk', ']', '[', 'bang', ']', '[', 'rewr', '!]', '[', 'squeak', 'squeak', 'squeak', 'squeak', 'squeak', 'squeak', 'squeak', 'squeak', 'squeak', 'squeak', ']', '[', 'rrrr', 'rrrr', 'rrrr', ']', '[', 'drilllll', ']', '[', 'sawwwww', ']', '[', 'clunk', ']', '[', 'crash', ']', '[', 'clang', ']', '[', 'squeak', 'squeak', 'squeak', 'squeak', 'squeak', '...]', '[', 'creak', ']', 'french', 'guards', ':', '[', 'whispering', ']', 'c', \"'\", 'est', 'un', 'lapin', ',', 'lapin', 'de', 'bois', '.', 'quoi', '?', 'un', 'cadeau', '.', 'what', '?', 'a', 'present', '.', 'oh', ',', 'un', 'cadeau', '.', 'oui', ',', 'oui', '.', 'hurry', '.', 'what', '?', 'let', \"'\", 's', 'go', '.', 'oh', '.', 'on', 'y', 'va', '.', 'bon', 'magne', '.', 'over', 'here', '...', '[', 'squeak', 'squeak', 'squeak', 'squeak', 'squeak', '...]', '[', 'clllank', ']', 'arthur', ':', 'what', 'happens', 'now', '?', 'bedevere', ':', 'well', ',', 'now', ',', 'uh', ',', 'launcelot', ',', 'galahad', ',', 'and', 'i', ',', 'uh', ',', 'wait', 'until', 'nightfall', ',', 'and', 'then', 'leap', 'out', 'of', 'the', 'rabbit', ',', 'taking', 'the', 'french', ',', 'uh', ',', 'by', 'surprise', '.', 'not', 'only', 'by', 'surprise', ',', 'but', 'totally', 'unarmed', '!', 'arthur', ':', 'who', 'leaps', 'out', '?', 'bedevere', ':', 'u', '--', 'u', '--', 'uh', ',', 'launcelot', ',', 'galahad', ',', 'and', 'i', '.', 'uh', ',', 'leap', 'out', 'of', 'the', 'rabbit', ',', 'uh', ',', 'and', 'uh', '...', 'arthur', ':', 'ohh', '.', 'bedevere', ':', 'oh', '.', 'um', ',', 'l', '--', 'look', ',', 'i', '--', 'i', '--', 'if', 'we', 'built', 'this', 'large', 'wooden', 'badger', '--', '[', 'clank', ']', '[', 'twong', ']', 'arthur', ':', 'run', 'away', '!', 'knights', ':', 'run', 'away', '!', 'run', 'away', '!', 'run', 'away', '!', 'run', 'away', '!', 'run', 'away', '!', 'run', 'away', '!', 'run', 'away', '!', '[', 'crash', ']', 'french', 'guards', ':', 'oh', ',', 'haw', 'haw', 'haw', 'haw', '!', 'haw', '!', 'haw', 'haw', 'heh', '..', 'scene', '9', ':', '[', 'clack', ']', 'voice', ':', 'picture', 'for', 'schools', ',', 'take', 'eight', '.', 'director', ':', 'action', '!', 'historian', ':', 'defeat', 'at', 'the', 'castle', 'seems', 'to', 'have', 'utterly', 'disheartened', 'king', 'arthur', '.', 'the', 'ferocity', 'of', 'the', 'french', 'taunting', 'took', 'him', 'completely', 'by', 'surprise', ',', 'and', 'arthur', 'became', 'convinced', 'that', 'a', 'new', 'strategy', 'was', 'required', 'if', 'the', 'quest', 'for', 'the', 'holy', 'grail', 'were', 'to', 'be', 'brought', 'to', 'a', 'successful', 'conclusion', '.', 'arthur', ',', 'having', 'consulted', 'his', 'closest', 'knights', ',', 'decided', 'that', 'they', 'should', 'separate', ',', 'and', 'search', 'for', 'the', 'grail', 'individually', '.', '[', 'clop', 'clop', 'clop', ']', 'now', ',', 'this', 'is', 'what', 'they', 'did', ':', 'launcelot', '--', 'knight', ':', 'aaaah', '!', '[', 'slash', ']', '[', 'knight', 'kills', 'historian', ']', 'historian', \"'\", 's', 'wife', ':', 'frank', 'scene', '10', ':', '[', 'trumpets', ']', 'narrator', ':', 'the', 'tale', 'of', 'sir', 'robin', '.', 'so', 'each', 'of', 'the', 'knights', 'went', 'their', 'separate', 'ways', '.', 'sir', 'robin', 'rode', 'north', ',', 'through', 'the', 'dark', 'forest', 'of', 'ewing', ',', 'accompanied', 'by', 'his', 'favorite', 'minstrels', '.', 'minstrel', ':', '[', 'singing', ']', 'bravely', 'bold', 'sir', 'robin', ',', 'rode', 'forth', 'from', 'camelot', '.', 'he', 'was', 'not', 'afraid', 'to', 'die', ',', 'o', 'brave', 'sir', 'robin', '.', 'he', 'was', 'not', 'at', 'all', 'afraid', 'to', 'be', 'killed', 'in', 'nasty', 'ways', '.', 'brave', ',', 'brave', ',', 'brave', ',', 'brave', 'sir', 'robin', '!', 'he', 'was', 'not', 'in', 'the', 'least', 'bit', 'scared', 'to', 'be', 'mashed', 'into', 'a', 'pulp', ',', 'or', 'to', 'have', 'his', 'eyes', 'gouged', 'out', ',', 'and', 'his', 'elbows', 'broken', '.', 'to', 'have', 'his', 'kneecaps', 'split', ',', 'and', 'his', 'body', 'burned', 'away', ',', 'and', 'his', 'limbs', 'all', 'hacked', 'and', 'mangled', ',', 'brave', 'sir', 'robin', '!', 'his', 'head', 'smashed', 'in', 'and', 'his', 'heart', 'cut', 'out', ',', 'and', 'his', 'liver', 'removed', 'and', 'his', 'bowels', 'unplugged', ',', 'and', 'his', 'nostrils', 'raped', 'and', 'his', 'bottom', 'burned', 'off', ',', 'and', 'his', 'pen', '--', 'sir', 'robin', ':', 'that', \"'\", 's', '--', 'that', \"'\", 's', ',', 'uh', '--', 'that', \"'\", 's', 'enough', 'music', 'for', 'now', ',', 'lads', '.', 'heh', '.', 'looks', 'like', 'there', \"'\", 's', 'dirty', 'work', 'afoot', '.', 'dennis', ':', 'anarcho', '-', 'syndicalism', 'is', 'a', 'way', 'of', 'preserving', 'freedom', '.', 'woman', ':', 'oh', ',', 'dennis', ',', 'forget', 'about', 'freedom', '.', 'we', 'haven', \"'\", 't', 'got', 'enough', 'mud', '.', 'all', 'heads', ':', 'halt', '!', 'who', 'art', 'thou', '?', 'minstrel', ':', '[', 'singing', ']', 'he', 'is', 'brave', 'sir', 'robin', ',', 'brave', 'sir', 'robin', ',', 'who', '--', 'robin', ':', 'shut', 'up', '!', 'um', ',', 'n', '--', 'n', '--', 'n', '--', 'nobody', 'really', ',', 'i', \"'\", 'm', 'j', '--', 'j', '--', 'j', '--', 'ju', '--', 'just', 'um', ',', 'just', 'passing', 'through', '.', 'all', 'heads', ':', 'what', 'do', 'you', 'want', '?', 'minstrel', ':', '[', 'singing', ']', 'to', 'fight', 'and', '--', 'robin', ':', 'shut', 'up', '!', 'um', ',', 'oo', ',', 'a', '--', 'nothing', ',', 'nothing', 'really', '.', 'i', ',', 'uh', ',', 'j', '--', 'j', '--', 'just', '--', 'just', 'to', 'um', ',', 'just', 'to', 'p', '--', 'pass', 'through', ',', 'good', 'sir', 'knight', '.', 'all', 'heads', ':', 'i', \"'\", 'm', 'afraid', 'not', '!', 'robin', ':', 'ah', '.', 'w', '--', 'well', ',', 'actually', 'i', '--', 'i', 'am', 'a', 'knight', 'of', 'the', 'round', 'table', '.', 'all', 'heads', ':', 'you', \"'\", 're', 'a', 'knight', 'of', 'the', 'round', 'table', '?', 'robin', ':', 'i', 'am', '.', 'left', 'head', ':', 'in', 'that', 'case', 'i', 'shall', 'have', 'to', 'kill', 'you', '.', 'middle', 'head', ':', 'shall', 'i', '?', 'right', 'head', ':', 'oh', ',', 'i', 'don', \"'\", 't', 'think', 'so', '.', 'middle', 'head', ':', 'well', ',', 'what', 'do', 'i', 'think', '?', 'left', 'head', ':', 'i', 'think', 'kill', 'him', '.', 'right', 'head', ':', 'oh', ',', 'let', \"'\", 's', 'be', 'nice', 'to', 'him', '.', 'left', 'head', ':', 'oh', 'shut', 'up', '.', 'robin', ':', 'perhaps', 'i', 'could', '--', 'left', 'head', ':', 'and', 'you', '.', 'oh', ',', 'quick', '!', 'get', 'the', 'sword', 'out', '.', 'i', 'want', 'to', 'cut', 'his', 'headoff', '!', 'right', 'head', ':', 'oh', ',', 'cut', 'your', 'own', 'head', 'off', '!', 'middle', 'head', ':', 'yes', ',', 'do', 'us', 'all', 'a', 'favor', '!', 'left', 'head', ':', 'what', '?', 'right', 'head', ':', 'yapping', 'on', 'all', 'the', 'time', '.', 'middle', 'head', ':', 'you', \"'\", 're', 'lucky', '.', 'you', \"'\", 're', 'not', 'next', 'to', 'him', '.', 'left', 'head', ':', 'what', 'do', 'you', 'mean', '?', 'middle', 'head', ':', 'you', 'snore', '!', 'left', 'head', ':', 'oh', ',', 'i', 'don', \"'\", 't', '.', 'anyway', ',', 'you', \"'\", 've', 'got', 'bad', 'breath', '.', 'middle', 'head', ':', 'well', 'it', \"'\", 's', 'only', 'because', 'you', 'don', \"'\", 't', 'brush', 'my', 'teeth', '.', 'right', 'head', ':', 'oh', 'stop', 'bitching', 'and', 'let', \"'\", 's', 'go', 'have', 'tea', '.', 'left', 'head', ':', 'oh', ',', 'all', 'right', '.', 'all', 'right', '.', 'all', 'right', '.', 'we', \"'\", 'll', 'kill', 'him', 'first', 'and', 'then', 'have', 'tea', 'and', 'biscuits', '.', 'middle', 'head', ':', 'yes', '.', 'right', 'head', ':', 'oh', ',', 'not', 'biscuits', '.', 'left', 'head', ':', 'all', 'right', '.', 'all', 'right', ',', 'not', 'biscuits', ',', 'but', 'let', \"'\", 's', 'kill', 'him', 'anyway', '.', 'all', 'heads', ':', 'right', '!', 'middle', 'head', ':', 'he', 'buggered', 'off', '.', 'right', 'head', ':', 'so', 'he', 'has', '.', 'he', \"'\", 's', 'scarper', 'minstrel', ':', '[', 'singing', ']', 'brave', 'sir', 'robin', 'ran', 'away', '.', 'robin', ':', 'no', '!', 'minstrel', ':', '[', 'singing', ']', 'bravely', 'ran', 'away', 'away', '.', 'robin', ':', 'i', 'didn', \"'\", 't', '!', 'minstrel', ':', '[', 'singing', ']', 'when', 'danger', 'reared', 'its', 'ugly', 'head', ',', 'he', 'bravely', 'turned', 'his', 'tail', 'and', 'fled', '.', 'robin', ':', 'no', '!', 'minstrel', ':', '[', 'singing', ']', 'yes', ',', 'brave', 'sir', 'robin', 'turned', 'about', 'robin', ':', 'i', 'didn', \"'\", 't', '!', 'minstrel', ':', '[', 'singing', ']', 'and', 'gallantly', 'he', 'chickened', 'out', ',', 'bravely', 'taking', 'to', 'his', 'feet', '.', 'robin', ':', 'i', 'never', 'did', '!', 'minstrel', ':', '[', 'singing', ']', 'he', 'beat', 'a', 'very', 'brave', 'retreat', '.', 'robin', ':', 'all', 'lies', '!', 'minstrel', ':', '[', 'singing', ']', 'bravest', 'of', 'the', 'brave', ',', 'sir', 'robin', '.', 'robin', ':', 'i', 'never', 'cartoon', 'monks', ':', '[', 'chanting', ']', 'pie', 'iesu', 'domine', ',', 'dona', 'eis', 'requiem', '.', 'cartoon', 'character', ':', 'heh', 'heh', 'heeh', 'ooh', '...', '[', 'twang', ']', 'cartoon', 'monks', ':', '[', 'chanting', ']', 'pie', 'iesu', 'domine', ',', '...', 'cartoon', 'characters', ':', 'wayy', '!', '[', 'splash', ']', 'ho', 'ho', '.', 'woa', ',', 'wayy', '!', '[', 'twang', ']', '[', 'splash', ']', 'heh', 'heh', 'heh', 'heh', 'ho', '!', 'heh', 'heh', 'heh', '!', 'cartoon', 'monks', ':', '[', 'chanting', ']', '...', 'dona', 'eis', 'requiem', '.', 'cartoon', 'character', ':', 'wayy', '!', '[', 'twang', ']', 'wayy', '!', '[', 'twang', ']', 'voice', ':', '[', 'whispering', ']', 'forgive', 'me', 'for', 'asking', '.', 'cartoon', 'character', ':', 'oh', '!', 'oooo', 'scene', '11', ':', '[', 'trumpets', ']', 'narrator', ':', 'the', 'tale', 'of', 'sir', 'galahad', '.', '[', 'boom', ']', '[', 'wind', ']', '[', 'howl', ']', '[', 'howl', ']', '[', 'boom', ']', '[', 'angels', 'singing', ']', '[', 'howl', ']', '[', 'boom', ']', '[', 'howl', ']', '[', 'boom', ']', '[', 'pound', 'pound', 'pound', ']', 'galahad', ':', 'open', 'the', 'door', '!', 'open', 'the', 'door', '!', '[', 'pound', 'pound', 'pound', ']', 'in', 'the', 'name', 'of', 'king', 'arthur', ',', 'open', 'the', 'door', '!', '[', 'squeak', ']', '[', 'thump', ']', '[', 'squeak', ']', '[', 'boom', ']', 'girls', ':', 'hello', '!', 'zoot', ':', 'welcome', 'gentle', 'sir', 'knight', '.', 'welcome', 'to', 'the', 'castle', 'anthrax', '.', 'galahad', ':', 'the', 'castle', 'anthrax', '?', 'zoot', ':', 'yes', '.', 'oh', ',', 'it', \"'\", 's', 'not', 'a', 'very', 'good', 'name', 'is', 'it', '?', 'oh', ',', 'but', 'we', 'are', 'nice', 'and', 'we', 'will', 'attend', 'to', 'your', 'every', ',', 'every', 'need', '!', 'galahad', ':', 'you', 'are', 'the', 'keepers', 'of', 'the', 'holy', 'grail', '?', 'zoot', ':', 'the', 'what', '?', 'galahad', ':', 'the', 'grail', '.', 'it', 'is', 'here', '.', 'zoot', ':', 'oh', ',', 'but', 'you', 'are', 'tired', ',', 'and', 'you', 'must', 'rest', 'awhile', '.', 'midget', '!', 'crapper', '!', 'midget', 'and', 'crapper', ':', 'yes', ',', 'o', 'zoot', '?', 'zoot', ':', 'prepare', 'a', 'bed', 'for', 'our', 'guest', '.', 'midget', 'and', 'crapper', ':', 'oh', 'thank', 'you', '!', 'thank', 'you', '!', 'thank', 'you', '!', 'thank', 'you', '!', 'thank', 'you', '!', 'thank', 'you', '!', '...', 'zoot', ':', 'away', ',', 'away', 'varletesses', '.', 'the', 'beds', 'here', 'are', 'warm', 'and', 'soft', ',', 'and', 'very', ',', 'very', 'big', '.', 'galahad', ':', 'well', ',', 'look', ',', 'i', '--', 'i', '--', 'uh', '--', 'zoot', ':', 'what', 'is', 'your', 'name', ',', 'handsome', 'knight', '?', 'galahad', ':', 'sir', 'galahad', '...', 'the', 'chaste', '.', 'zoot', ':', 'mine', 'is', 'zoot', '.', 'just', 'zoot', '.', 'oh', ',', 'but', 'come', '.', 'galahad', ':', 'look', ',', 'please', '!', 'in', 'god', \"'\", 's', 'name', ',', 'show', 'me', 'the', 'grail', '!', 'zoot', ':', 'oh', ',', 'you', 'have', 'suffered', 'much', '.', 'you', 'are', 'delirious', '.', 'galahad', ':', 'no', ',', 'look', '.', 'i', 'have', 'seen', 'it', '!', 'it', 'is', 'here', ',', 'in', 'this', '--', 'zoot', ':', 'sir', 'galahad', '!', 'you', 'would', 'not', 'be', 'so', 'ungallant', 'as', 'to', 'refuse', 'our', 'hospitality', '.', 'galahad', ':', 'well', ',', 'i', '--', 'i', '--', 'uh', '--', 'zoot', ':', 'oh', ',', 'i', 'am', 'afraid', 'our', 'life', 'must', 'seem', 'very', 'dull', 'and', 'quiet', 'compared', 'to', 'yours', '.', 'we', 'are', 'but', 'eight', 'score', 'young', 'blondes', 'and', 'brunettes', ',', 'all', 'between', 'sixteen', 'and', 'nineteen', '-', 'and', '-', 'a', '-', 'half', ',', 'cut', 'off', 'in', 'this', 'castle', 'with', 'no', 'one', 'to', 'protect', 'us', '.', 'oooh', '.', 'it', 'is', 'a', 'lonely', 'life', ':', 'bathing', ',', 'dressing', ',', 'undressing', ',', 'making', 'exciting', 'underwear', '.', 'we', 'are', 'just', 'not', 'used', 'to', 'handsome', 'knights', '.', 'nay', '.', 'nay', '.', 'come', '.', 'come', '.', 'you', 'may', 'lie', 'here', '.', 'oh', ',', 'but', 'you', 'are', 'wounded', '!', 'galahad', ':', 'no', ',', 'no', '--', 'it', \"'\", 's', '--', 'it', \"'\", 's', 'nothing', '.', 'zoot', ':', 'oh', ',', 'you', 'must', 'see', 'the', 'doctors', 'immediately', '!', 'no', ',', 'no', ',', 'please', '!', 'lie', 'down', '.', '[', 'clap', 'clap', ']', 'piglet', ':', 'well', ',', 'what', 'seems', 'to', 'be', 'the', 'trouble', '?', 'galahad', ':', 'they', \"'\", 're', 'doctors', '?!', 'zoot', ':', 'uh', ',', 'they', 'have', 'a', 'basic', 'medical', 'training', ',', 'yes', '.', 'galahad', ':', 'b', '--', 'but', '--', 'zoot', ':', 'oh', ',', 'come', ',', 'come', '.', 'you', 'must', 'try', 'to', 'rest', '.', 'doctor', 'piglet', '!', 'doctor', 'winston', '!', 'practice', 'your', 'art', '.', 'winston', ':', 'try', 'to', 'relax', '.', 'galahad', ':', 'are', 'you', 'sure', 'that', \"'\", 's', 'absolutely', 'necessary', '?', 'piglet', ':', 'we', 'must', 'examine', 'you', '.', 'galahad', ':', 'there', \"'\", 's', 'nothing', 'wrong', 'with', 'that', '!', 'piglet', ':', 'please', '.', 'we', 'are', 'doctors', '.', 'galahad', ':', 'look', '!', 'this', 'cannot', 'be', '.', 'i', 'am', 'sworn', 'to', 'chastity', '.', 'piglet', ':', 'back', 'to', 'your', 'bed', '!', 'at', 'once', '!', 'galahad', ':', 'torment', 'me', 'no', 'longer', '.', 'i', 'have', 'seen', 'the', 'grail', '!', 'piglet', ':', 'there', \"'\", 's', 'no', 'grail', 'here', '.', 'galahad', ':', 'i', 'have', 'seen', 'it', '!', 'i', 'have', 'seen', 'it', '!', '[', 'clank', ']', 'i', 'have', 'seen', '--', 'girls', ':', 'hello', '.', 'galahad', ':', 'oh', '.', 'girls', ':', 'hello', '.', 'hello', '.', 'hello', '.', 'hello', '.', 'hello', '.', 'hello', '.', 'hello', '.', 'hello', '.', 'hello', '.', 'hello', '.', 'hello', '.', 'hello', '.', 'hello', '.', 'hello', '.', 'hello', '.', 'hello', '.', 'hello', '.', 'hello', '.', 'hello', '.', 'hello', '.', 'hello', '.', 'hello', '.', 'hello', '.', 'galahad', ':', 'zoot', '!', 'dingo', ':', 'no', ',', 'i', 'am', 'zoot', \"'\", 's', 'identical', 'twin', 'sister', ',', 'dingo', '.', 'galahad', ':', 'oh', ',', 'well', ',', 'excuse', 'me', ',', 'i', '--', 'dingo', ':', 'where', 'are', 'you', 'going', '?', 'galahad', ':', 'i', 'seek', 'the', 'grail', '!', 'i', 'have', 'seen', 'it', ',', 'here', 'in', 'this', 'castle', '!', 'dingo', ':', 'oh', 'no', '.', 'oh', ',', 'no', '!', 'bad', ',', 'bad', 'zoot', '!', 'galahad', ':', 'well', ',', 'what', 'is', 'it', '?', 'dingo', ':', 'oh', ',', 'wicked', ',', 'bad', ',', 'naughty', 'zoot', '!', 'she', 'has', 'been', 'setting', 'alight', 'to', 'our', 'beacon', ',', 'which', ',', 'i', 'have', 'just', 'remembered', ',', 'is', 'grail', '-', 'shaped', '.', 'it', \"'\", 's', 'not', 'the', 'first', 'time', 'we', \"'\", 've', 'had', 'this', 'problem', '.', 'galahad', ':', 'it', \"'\", 's', 'not', 'the', 'real', 'grail', '?', 'dingo', ':', 'oh', ',', 'wicked', ',', 'bad', ',', 'naughty', ',', 'evil', 'zoot', '!', 'she', 'is', 'a', 'bad', 'person', 'and', 'must', 'pay', 'the', 'penalty', '.', 'do', 'you', 'think', 'this', 'scene', 'should', 'have', 'been', 'cut', '?', 'we', 'were', 'so', 'worried', 'when', 'the', 'boys', 'were', 'writing', 'it', ',', 'but', 'now', ',', 'we', \"'\", 're', 'glad', '.', 'it', \"'\", 's', 'better', 'than', 'some', 'of', 'the', 'previous', 'scenes', ',', 'i', 'think', '.', 'left', 'head', ':', 'at', 'least', 'ours', 'was', 'better', 'visually', '.', 'dennis', ':', 'well', ',', 'at', 'least', 'ours', 'was', 'committed', '.', 'it', 'wasn', \"'\", 't', 'just', 'a', 'string', 'of', 'pussy', 'jokes', '.', 'old', 'man', ':', 'get', 'on', 'with', 'it', '.', 'tim', 'the', 'enchanter', ':', 'yes', ',', 'get', 'on', 'with', 'it', '!', 'army', 'of', 'knights', ':', 'yes', ',', 'get', 'on', 'with', 'it', '!', 'dingo', ':', 'oh', ',', 'i', 'am', 'enjoying', 'this', 'scene', '.', 'god', ':', 'get', 'on', 'with', 'it', '!', 'dingo', ':', '[', 'sigh', ']', 'oh', ',', 'wicked', ',', 'wicked', 'zoot', '.', 'oh', ',', 'she', 'is', 'a', 'naughty', 'person', ',', 'and', 'she', 'must', 'pay', 'the', 'penalty', '.', 'and', 'here', 'in', 'castle', 'anthrax', ',', 'we', 'have', 'but', 'one', 'punishment', 'for', 'setting', 'alight', 'the', 'grail', '-', 'shaped', 'beacon', '.', 'you', 'must', 'tie', 'her', 'down', 'on', 'a', 'bed', 'and', 'spank', 'her', '.', 'girls', ':', 'a', 'spanking', '!', 'a', 'spanking', '!', 'dingo', ':', 'you', 'must', 'spank', 'her', 'well', '.', 'and', 'after', 'you', 'have', 'spanked', 'her', ',', 'you', 'may', 'deal', 'with', 'her', 'as', 'you', 'like', '.', 'and', 'then', ',', 'spank', 'me', '.', 'amazing', ':', 'and', 'spank', 'me', '.', 'stunner', ':', 'and', 'me', '.', 'lovely', ':', 'and', 'me', '.', 'dingo', ':', 'yes', ',', 'yes', ',', 'you', 'must', 'give', 'us', 'all', 'a', 'good', 'spanking', '!', 'girls', ':', 'a', 'spanking', '!', 'a', 'spanking', '!', 'there', 'is', 'going', 'to', 'be', 'a', 'spanking', 'tonight', '!', 'dingo', ':', 'and', 'after', 'the', 'spanking', ',', 'the', 'oral', 'sex', '.', 'girls', ':', 'the', 'oral', 'sex', '!', 'the', 'oral', 'sex', '!', 'galahad', ':', 'well', ',', 'i', 'could', 'stay', 'a', 'bit', 'longer', '.', 'launcelot', ':', 'sir', 'galahad', '!', 'galahad', ':', 'oh', ',', 'hello', '.', 'launcelot', ':', 'quick', '!', 'galahad', ':', 'what', '?', 'launcelot', ':', 'quick', '!', 'galahad', ':', 'why', '?', 'launcelot', ':', 'you', 'are', 'in', 'great', 'peril', '!', 'dingo', ':', 'no', 'he', 'isn', \"'\", 't', '.', 'launcelot', ':', 'silence', ',', 'foul', 'temptress', '!', 'galahad', ':', 'you', 'know', ',', 'she', \"'\", 's', 'got', 'a', 'point', '.', 'launcelot', ':', 'come', 'on', '!', 'we', 'will', 'cover', 'your', 'escape', '!', 'galahad', ':', 'look', ',', 'i', \"'\", 'm', 'fine', '!', 'launcelot', ':', 'come', 'on', '!', 'girls', ':', 'sir', 'galahad', '!', 'galahad', ':', 'no', '.', 'look', ',', 'i', 'can', 'tackle', 'this', 'lot', 'single', '-', 'handed', '!', 'dingo', ':', 'yes', '!', 'let', 'him', 'tackle', 'us', 'single', '-', 'handed', '!', 'girls', ':', 'yes', '!', 'let', 'him', 'tackle', 'us', 'single', '-', 'handed', '!', 'launcelot', ':', 'no', ',', 'sir', 'galahad', '.', 'come', 'on', '!', 'galahad', ':', 'no', '!', 'really', '!', 'honestly', ',', 'i', 'can', 'cope', '.', 'i', 'can', 'handle', 'this', 'lot', 'easily', '.', 'dingo', ':', 'oh', ',', 'yes', '.', 'let', 'him', 'handle', 'us', 'easily', '.', 'girls', ':', 'yes', '.', 'let', 'him', 'handle', 'us', 'easily', '.', 'launcelot', ':', 'no', '.', 'quick', '!', 'quick', '!', 'galahad', ':', 'please', '!', 'i', 'can', 'defeat', 'them', '!', 'there', \"'\", 's', 'only', 'a', 'hundred', '-', 'and', '-', 'fifty', 'of', 'them', '!', 'dingo', ':', 'yes', ',', 'yes', '!', 'he', 'will', 'beat', 'us', 'easily', '!', 'we', 'haven', \"'\", 't', 'a', 'chance', '.', 'girls', ':', 'we', 'haven', \"'\", 't', 'a', 'chance', '.', 'he', 'will', 'beat', 'us', 'easily', '...', '[', 'boom', ']', 'dingo', ':', 'oh', ',', 'shit', '.', 'launcelot', ':', 'we', 'were', 'in', 'the', 'nick', 'of', 'time', '.', 'you', 'were', 'in', 'great', 'peril', '.', 'galahad', ':', 'i', 'don', \"'\", 't', 'think', 'i', 'was', '.', 'launcelot', ':', 'yes', 'you', 'were', '.', 'you', 'were', 'in', 'terrible', 'peril', '.', 'galahad', ':', 'look', ',', 'let', 'me', 'go', 'back', 'in', 'there', 'and', 'face', 'the', 'peril', '.', 'launcelot', ':', 'no', ',', 'it', \"'\", 's', 'too', 'perilous', '.', 'galahad', ':', 'look', ',', 'it', \"'\", 's', 'my', 'duty', 'as', 'a', 'knight', 'to', 'sample', 'as', 'much', 'peril', 'as', 'i', 'can', '.', 'launcelot', ':', 'no', ',', 'we', \"'\", 've', 'got', 'to', 'find', 'the', 'holy', 'grail', '.', 'come', 'on', '!', 'galahad', ':', 'oh', ',', 'let', 'me', 'have', 'just', 'a', 'little', 'bit', 'of', 'peril', '?', 'launcelot', ':', 'no', '.', 'it', \"'\", 's', 'unhealthy', '.', 'galahad', ':', 'i', 'bet', 'you', \"'\", 're', 'gay', '.', 'launcelot', ':', 'no', 'i', \"'\", 'm', 'not', 'narrator', ':', 'sir', 'launcelot', 'had', 'saved', 'sir', 'galahad', 'from', 'almost', 'certain', 'temptation', ',', 'but', 'they', 'were', 'still', 'no', 'nearer', 'the', 'grail', '.', 'meanwhile', ',', 'king', 'arthur', 'and', 'sir', 'bedevere', ',', 'not', 'more', 'than', 'a', 'swallow', \"'\", 's', 'flight', 'away', ',', 'had', 'discovered', 'something', '.', 'oh', ',', 'that', \"'\", 's', 'an', 'unladen', 'swallow', \"'\", 's', 'flight', ',', 'obviously', '.', 'i', 'mean', ',', 'they', 'were', 'more', 'than', 'two', 'laden', 'swallows', \"'\", 'flights', 'away', '--', 'four', ',', 'really', ',', 'if', 'they', 'had', 'a', 'coconut', 'on', 'a', 'line', 'between', 'them', '.', 'i', 'mean', ',', 'if', 'the', 'birds', 'were', 'walking', 'and', 'dragging', '--', 'crowd', ':', 'get', 'on', 'with', 'it', '!', 'narrator', ':', 'oh', ',', 'anyway', '.', 'on', 'to', 'scene', 'twenty', '-', 'four', ',', 'which', 'is', 'a', 'smashing', 'scene', 'with', 'some', 'lovely', 'acting', ',', 'in', 'which', 'arthur', 'discovers', 'a', 'vital', 'clue', ',', 'and', 'in', 'which', 'there', 'aren', \"'\", 't', 'any', 'swallows', ',', 'although', 'i', 'think', 'you', 'can', 'hear', 'a', 'starling', '--', 'oooh', 'scene', '12', ':', 'old', 'man', ':', 'heh', ',', 'hee', 'ha', 'ha', 'hee', 'hee', '!', 'hee', 'hee', 'hee', 'ha', 'ha', 'ha', '...', 'arthur', ':', 'and', 'this', 'enchanter', 'of', 'whom', 'you', 'speak', ',', 'he', 'has', 'seen', 'the', 'grail', '?', 'old', 'man', ':', '...', 'ha', 'ha', 'ha', 'ha', '!', 'heh', ',', 'hee', 'ha', 'ha', 'hee', '!', 'ha', 'hee', 'ha', '!', 'ha', 'ha', 'ha', 'ha', '...', 'arthur', ':', 'where', 'does', 'he', 'live', '?', 'old', 'man', ':', '...', 'heh', 'heh', 'heh', 'heh', '...', 'arthur', ':', 'old', 'man', ',', 'where', 'does', 'he', 'live', '?', 'old', 'man', ':', '...', 'hee', 'ha', 'ha', 'ha', '.', 'he', 'knows', 'of', 'a', 'cave', ',', 'a', 'cave', 'which', 'no', 'man', 'has', 'entered', '.', 'arthur', ':', 'and', 'the', 'grail', '.', 'the', 'grail', 'is', 'there', '?', 'old', 'man', ':', 'there', 'is', 'much', 'danger', ',', 'for', 'beyond', 'the', 'cave', 'lies', 'the', 'gorge', 'of', 'eternal', 'peril', ',', 'which', 'no', 'man', 'has', 'ever', 'crossed', '.', 'arthur', ':', 'but', 'the', 'grail', '!', 'where', 'is', 'the', 'grail', '?!', 'old', 'man', ':', 'seek', 'you', 'the', 'bridge', 'of', 'death', '.', 'arthur', ':', 'the', 'bridge', 'of', 'death', ',', 'which', 'leads', 'to', 'the', 'grail', '?', 'old', 'man', ':', 'heh', ',', 'hee', 'hee', 'hee', 'hee', '!', 'ha', 'ha', 'ha', 'ha', 'ha', '!', 'hee', 'ha', 'ha', '..', 'scene', '13', ':', '[', 'spooky', 'music', ']', '[', 'music', 'stops', ']', 'head', 'knight', 'of', 'ni', ':', 'ni', '!', 'knights', 'of', 'ni', ':', 'ni', '!', 'ni', '!', 'ni', '!', 'ni', '!', 'ni', '!', 'arthur', ':', 'who', 'are', 'you', '?', 'head', 'knight', ':', 'we', 'are', 'the', 'knights', 'who', 'say', '...', \"'\", 'ni', \"'!\", 'random', ':', 'ni', '!', 'arthur', ':', 'no', '!', 'not', 'the', 'knights', 'who', 'say', \"'\", 'ni', \"'!\", 'head', 'knight', ':', 'the', 'same', '!', 'bedevere', ':', 'who', 'are', 'they', '?', 'head', 'knight', ':', 'we', 'are', 'the', 'keepers', 'of', 'the', 'sacred', 'words', ':', 'ni', ',', 'peng', ',', 'and', 'neee', '-', 'wom', '!', 'random', ':', 'neee', '-', 'wom', '!', 'arthur', ':', 'those', 'who', 'hear', 'them', 'seldom', 'live', 'to', 'tell', 'the', 'tale', '!', 'head', 'knight', ':', 'the', 'knights', 'who', 'say', \"'\", 'ni', \"'\", 'demand', 'a', 'sacrifice', '!', 'arthur', ':', 'knights', 'of', 'ni', ',', 'we', 'are', 'but', 'simple', 'travellers', 'who', 'seek', 'the', 'enchanter', 'who', 'lives', 'beyond', 'these', 'woods', '.', 'head', 'knight', ':', 'ni', '!', 'knights', 'of', 'ni', ':', 'ni', '!', 'ni', '!', 'ni', '!', 'ni', '!', 'ni', '!', '...', 'arthur', ':', 'ow', '!', 'ow', '!', 'ow', '!', 'agh', '!', 'head', 'knight', ':', 'we', 'shall', 'say', \"'\", 'ni', \"'\", 'again', 'to', 'you', 'if', 'you', 'do', 'not', 'appease', 'us', '.', 'arthur', ':', 'well', ',', 'what', 'is', 'it', 'you', 'want', '?', 'head', 'knight', ':', 'we', 'want', '...', 'a', 'shrubbery', '!', '[', 'dramatic', 'chord', ']', 'arthur', ':', 'a', 'what', '?', 'knights', 'of', 'ni', ':', 'ni', '!', 'ni', '!', 'ni', '!', 'ni', '!', 'arthur', 'and', 'party', ':', 'ow', '!', 'oh', '!', 'arthur', ':', 'please', ',', 'please', '!', 'no', 'more', '!', 'we', 'will', 'find', 'you', 'a', 'shrubbery', '.', 'head', 'knight', ':', 'you', 'must', 'return', 'here', 'with', 'a', 'shrubbery', 'or', 'else', 'you', 'will', 'never', 'pass', 'through', 'this', 'wood', 'alive', '!', 'arthur', ':', 'o', 'knights', 'of', 'ni', ',', 'you', 'are', 'just', 'and', 'fair', ',', 'and', 'we', 'will', 'return', 'with', 'a', 'shrubbery', '.', 'head', 'knight', ':', 'one', 'that', 'looks', 'nice', '.', 'arthur', ':', 'of', 'course', '.', 'head', 'knight', ':', 'and', 'not', 'too', 'expensive', '.', 'arthur', ':', 'yes', '.', 'head', 'knight', ':', 'now', '...', 'go', '[', 'trumpets', ']', 'cartoon', 'character', ':', 'hmm', 'hmm', '--', '[', 'boom', ']', 'oh', '!', 'great', 'scott', '!', 'hm', '.', 'hmm', '.', '[', 'boom', ']', 'hm', '!', 'hmm', '.', '[', 'mumble', 'mumble', 'mumble', ']', '[', 'boom', ']', '[', 'mumble', 'mumble', 'mumble', ']', '[', 'boom', ']', '[', 'mumble', 'mumble', 'mumble', ']', '[', 'boom', ']', '[', 'mumble', 'mumble', 'mumble', ']', '[', 'boom', ']', '[', 'mumble', 'mumble', 'mumble', ']', '[', 'boom', ']', '[', 'mumble', 'mumble', 'mumble', ']', '[', 'boom', ']', '[', 'mumble', 'mumble', 'mumble', ']', '[', 'boom', ']', '[', 'mumble', 'mumble', 'mumble', ']', '[', 'boom', ']', 'ohh', '!', '[', 'crash', ']', '[', 'mumble', 'mumble', 'mumble', ']', '[', 'boom', ']', 'sun', ':', 'ay', ',', 'up', '!', 'thsss', '.', '[', 'boom', ']', 'ayy', ',', 'up', '!', '[', 'boom', ']', 'thsss', '.', '[', 'boom', ']', 'ayy', ',', 'up', '!', 'cartoon', 'character', ':', 'stop', 'that', '!', 'stop', 'that', '!', '[', 'boom', ']', 'sun', ':', 'ay', ',', 'up', '!', 'cartoon', 'character', ':', 'stop', 'that', '!', '[', 'boom', ']', 'look', 'on', '!', 'clear', 'off', '!', 'go', 'on', '!', 'go', 'away', '!', 'go', 'away', '!', 'go', 'away', '!', 'and', 'you', '!', 'clear', 'off', '!', '[', 'sniff', ']', 'sun', ':', '[', 'mumble', 'mumble', 'mumble', ']', '[', 'bells', ']', 'cartoon', 'character', ':', 'hah', '.', 'bloody', 'weather', 'scene', '14', ':', 'narrator', ':', 'the', 'tale', 'of', 'sir', 'launcelot', '.', 'father', ':', 'one', 'day', ',', 'lad', ',', 'all', 'this', 'will', 'be', 'yours', '!', 'prince', 'herbert', ':', 'what', ',', 'the', 'curtains', '?', 'father', ':', 'no', '.', 'not', 'the', 'curtains', ',', 'lad', '.', 'all', 'that', 'you', 'can', 'see', ',', 'stretched', 'out', 'over', 'the', 'hills', 'and', 'valleys', 'of', 'this', 'land', '!', 'this', \"'\", 'll', 'be', 'your', 'kingdom', ',', 'lad', '.', 'herbert', ':', 'but', 'mother', '--', 'father', ':', 'father', ',', 'lad', '.', 'father', '.', 'herbert', ':', 'b', '--', 'b', '--', 'but', 'father', ',', 'i', 'don', \"'\", 't', 'want', 'any', 'of', 'that', '.', 'father', ':', 'listen', ',', 'lad', '.', 'i', 'built', 'this', 'kingdom', 'up', 'from', 'nothing', '.', 'when', 'i', 'started', 'here', ',', 'all', 'there', 'was', 'was', 'swamp', '.', 'other', 'kings', 'said', 'i', 'was', 'daft', 'to', 'build', 'a', 'castle', 'on', 'a', 'swamp', ',', 'but', 'i', 'built', 'it', 'all', 'the', 'same', ',', 'just', 'to', 'show', \"'\", 'em', '.', 'it', 'sank', 'into', 'the', 'swamp', '.', 'so', ',', 'i', 'built', 'a', 'second', 'one', '.', 'that', 'sank', 'into', 'the', 'swamp', '.', 'so', 'i', 'built', 'a', 'third', 'one', '.', 'that', 'burned', 'down', ',', 'fell', 'over', ',', 'then', 'sank', 'into', 'the', 'swamp', '.', 'but', 'the', 'fourth', 'one', '...', 'stayed', 'up', '!', 'and', 'that', \"'\", 's', 'what', 'you', \"'\", 're', 'gonna', 'get', ',', 'lad', ':', 'the', 'strongest', 'castle', 'in', 'these', 'islands', '.', 'herbert', ':', 'but', 'i', 'don', \"'\", 't', 'want', 'any', 'of', 'that', '.', 'i', \"'\", 'd', 'rather', '--', 'father', ':', 'rather', 'what', '?!', 'herbert', ':', 'i', \"'\", 'd', 'rather', '...', '[', 'music', ']', '...', 'just', '...', 'sing', '!', 'father', ':', 'stop', 'that', '!', 'stop', 'that', '!', 'you', \"'\", 're', 'not', 'going', 'into', 'a', 'song', 'while', 'i', \"'\", 'm', 'here', '.', 'now', 'listen', ',', 'lad', '.', 'in', 'twenty', 'minutes', 'you', \"'\", 're', 'getting', 'married', 'to', 'a', 'girl', 'whose', 'father', 'owns', 'the', 'biggest', 'tracts', 'of', 'open', 'land', 'in', 'britain', '.', 'herbert', ':', 'b', '--', 'but', 'i', 'don', \"'\", 't', 'want', 'land', '.', 'father', ':', 'listen', ',', 'alice', ',--', 'herbert', ':', 'herbert', '.', 'father', ':', \"'\", 'erbert', '.', 'we', 'live', 'in', 'a', 'bloody', 'swamp', '.', 'we', 'need', 'all', 'the', 'land', 'we', 'can', 'get', '.', 'herbert', ':', 'but', '--', 'but', 'i', 'don', \"'\", 't', 'like', 'her', '.', 'father', ':', 'don', \"'\", 't', 'like', 'her', '?!', 'what', \"'\", 's', 'wrong', 'with', 'her', '?!', 'she', \"'\", 's', 'beautiful', '.', 'she', \"'\", 's', 'rich', '.', 'she', \"'\", 's', 'got', 'huge', '...', 'tracts', 'o', \"'\", 'land', '.', 'herbert', ':', 'i', 'know', ',', 'but', 'i', 'want', 'the', '--', 'the', 'girl', 'that', 'i', 'marry', 'to', 'have', '...', '[', 'music', ']', '...', 'a', 'certain', '...', 'special', '...', 'something', '!', 'father', ':', 'cut', 'that', 'out', '!', 'cut', 'that', 'out', '!', 'look', ',', 'you', \"'\", 're', 'marrying', 'princess', 'lucky', ',', 'so', 'you', \"'\", 'd', 'better', 'get', 'used', 'to', 'the', 'idea', '!', '[', 'smack', ']', 'guards', '!', 'make', 'sure', 'the', 'prince', 'doesn', \"'\", 't', 'leave', 'this', 'room', 'until', 'i', 'come', 'and', 'get', 'him', '.', 'guard', '#', '1', ':', 'not', 'to', 'leave', 'the', 'room', 'even', 'if', 'you', 'come', 'and', 'get', 'him', '.', 'guard', '#', '2', ':', 'hic', '!', 'father', ':', 'no', ',', 'no', '.', 'until', 'i', 'come', 'and', 'get', 'him', '.', 'guard', '#', '1', ':', 'until', 'you', 'come', 'and', 'get', 'him', ',', 'we', \"'\", 're', 'not', 'to', 'enter', 'the', 'room', '.', 'father', ':', 'no', ',', 'no', '.', 'no', '.', 'you', 'stay', 'in', 'the', 'room', 'and', 'make', 'sure', 'he', 'doesn', \"'\", 't', 'leave', '.', 'guard', '#', '1', ':', 'and', 'you', \"'\", 'll', 'come', 'and', 'get', 'him', '.', 'guard', '#', '2', ':', 'hic', '!', 'father', ':', 'right', '.', 'guard', '#', '1', ':', 'we', 'don', \"'\", 't', 'need', 'to', 'do', 'anything', ',', 'apart', 'from', 'just', 'stop', 'him', 'entering', 'the', 'room', '.', 'father', ':', 'no', ',', 'no', '.', 'leaving', 'the', 'room', '.', 'guard', '#', '1', ':', 'leaving', 'the', 'room', '.', 'yes', '.', '[', 'sniff', ']', 'father', ':', 'all', 'right', '?', 'guard', '#', '1', ':', 'right', '.', 'guard', '#', '2', ':', 'hic', '!', 'father', ':', 'right', '.', 'guard', '#', '1', ':', 'oh', ',', 'if', '--', 'if', '--', 'if', '--', 'uhh', '--', 'if', '--', 'if', '--', 'w', '--', 'ehh', '--', 'i', '--', 'if', '--', 'if', 'we', '--', 'father', ':', 'yes', '?', 'what', 'is', 'it', '?', 'guard', '#', '1', ':', 'oh', ',', 'i', '--', 'if', '--', 'i', '--', 'oh', '--', 'father', ':', 'look', ',', 'it', \"'\", 's', 'quite', 'simple', '.', 'guard', '#', '1', ':', 'uh', '...', 'father', ':', 'you', 'just', 'stay', 'here', ',', 'and', 'make', 'sure', \"'\", 'e', 'doesn', \"'\", 't', 'leave', 'the', 'room', '.', 'alright', '?', 'guard', '#', '2', ':', 'hic', '!', 'father', ':', 'right', '.', 'guard', '#', '1', ':', 'oh', ',', 'i', 'remember', '.', 'uhh', ',', 'can', 'he', 'leave', 'the', 'room', 'with', 'us', '?', 'father', ':', 'n', '--', 'no', 'no', '.', 'no', '.', 'you', 'just', 'keep', 'him', 'in', 'here', ',', 'and', 'make', 'sure', 'he', '--', 'guard', '#', '1', ':', 'oh', ',', 'yes', '.', 'we', \"'\", 'll', 'keep', 'him', 'in', 'here', ',', 'obviously', '.', 'but', 'if', 'he', 'had', 'to', 'leave', 'and', 'we', 'were', 'with', 'him', '--', 'father', ':', 'no', ',', 'no', ',', 'no', ',', 'no', '.', 'just', 'keep', 'him', 'in', 'here', '--', 'guard', '#', '1', ':', 'until', 'you', ',', 'or', 'anyone', 'else', '--', 'father', ':', 'no', ',', 'not', 'anyone', 'else', '.', 'just', 'me', '.', 'guard', '#', '1', ':', 'just', 'you', '.', 'guard', '#', '2', ':', 'hic', '!', 'father', ':', 'get', 'back', '.', 'guard', '#', '1', ':', 'get', 'back', '.', 'father', ':', 'all', 'right', '?', 'guard', '#', '1', ':', 'right', '.', 'we', \"'\", 'll', 'stay', 'here', 'until', 'you', 'get', 'back', '.', 'guard', '#', '2', ':', 'hic', '!', 'father', ':', 'and', ',', 'uh', ',', 'make', 'sure', 'he', 'doesn', \"'\", 't', 'leave', '.', 'guard', '#', '1', ':', 'what', '?', 'father', ':', 'make', 'sure', \"'\", 'e', 'doesn', \"'\", 't', 'leave', '.', 'guard', '#', '1', ':', 'the', 'prince', '?', 'father', ':', 'yes', '.', 'make', 'sure', \"'\", 'e', 'doesn', \"'\", 't', 'leave', '.', 'guard', '#', '1', ':', 'oh', ',', 'yes', ',', 'of', 'course', '.', 'guard', '#', '2', ':', 'hic', '!', 'guard', '#', '1', ':', 'ah', '.', 'i', 'thought', 'you', 'meant', 'him', '.', 'you', 'know', ',', 'it', 'seemed', 'a', 'bit', 'daft', 'me', 'havin', \"'\", 'to', 'guard', 'him', 'when', 'he', \"'\", 's', 'a', 'guard', '.', 'father', ':', 'is', 'that', 'clear', '?', 'guard', '#', '2', ':', 'hic', '!', 'guard', '#', '1', ':', 'oh', ',', 'quite', 'clear', '.', 'no', 'problems', '.', 'father', ':', 'right', '.', 'where', 'are', 'you', 'going', '?', 'guard', '#', '1', ':', 'we', \"'\", 're', 'coming', 'with', 'you', '.', 'father', ':', 'no', ',', 'no', '.', 'i', 'want', 'you', 'to', 'stay', 'here', 'and', 'make', 'sure', \"'\", 'e', 'doesn', \"'\", 't', 'leave', '.', 'guard', '#', '1', ':', 'oh', ',', 'i', 'see', '.', 'right', '.', 'herbert', ':', 'but', 'father', '!', 'father', ':', 'shut', 'your', 'noise', ',', 'you', '!', 'and', 'get', 'that', 'suit', 'on', '!', '[', 'music', ']', 'and', 'no', 'singing', '!', 'guard', '#', '2', ':', 'hic', '!', 'father', ':', 'oh', ',', 'go', 'and', 'get', 'a', 'glass', 'of', 'water', '.', '[', 'clank', ']', '[', 'scribble', 'scribble', 'scribble', 'fold', 'fold', ']', '[', 'twong', ']', 'scene', '15', ':', 'launcelot', ':', 'well', 'taken', ',', 'concorde', '!', 'concorde', ':', 'thank', 'you', ',', 'sir', '!', 'most', 'kind', '.', 'launcelot', ':', 'and', 'again', '!', 'over', 'we', 'go', '!', 'good', '.', 'steady', '!', 'and', 'now', ',', 'the', 'big', 'one', '!', 'uuh', '!', 'come', 'on', ',', 'concorde', '!', '[', 'thwonk', ']', 'concorde', ':', 'message', 'for', 'you', ',', 'sir', '.', '[', 'fwump', ']', 'launcelot', ':', 'concorde', '!', 'concorde', '!', 'speak', 'to', 'me', '!', \"'\", 'to', 'whoever', 'finds', 'this', 'note', ':', 'i', 'have', 'been', 'imprisoned', 'by', 'my', 'father', ',', 'who', 'wishes', 'me', 'to', 'marry', 'against', 'my', 'will', '.', 'please', ',', 'please', ',', 'please', 'come', 'and', 'rescue', 'me', '.', 'i', 'am', 'in', 'the', 'tall', 'tower', 'of', 'swamp', 'castle', \".'\", 'at', 'last', '!', 'a', 'call', '!', 'a', 'cry', 'of', 'distress', '!', 'this', 'could', 'be', 'the', 'sign', 'that', 'leads', 'us', 'to', 'the', 'holy', 'grail', '!', 'brave', ',', 'brave', 'concorde', ',', 'you', 'shall', 'not', 'have', 'died', 'in', 'vain', '!', 'concorde', ':', 'uh', ',', 'i', \"'\", 'm', '--', 'i', \"'\", 'm', 'not', 'quite', 'dead', ',', 'sir', '.', 'launcelot', ':', 'well', ',', 'you', 'shall', 'not', 'have', 'been', 'mortally', 'wounded', 'in', 'vain', '!', 'concorde', ':', 'i', '--', 'i', '--', 'i', 'think', 'i', 'c', '--', 'i', 'could', 'pull', 'through', ',', 'sir', '.', 'launcelot', ':', 'oh', ',', 'i', 'see', '.', 'concorde', ':', 'actually', ',', 'i', 'think', 'i', \"'\", 'm', 'all', 'right', 'to', 'come', 'with', 'you', ',', 'sir', '--', 'launcelot', ':', 'no', ',', 'no', ',', 'sweet', 'concorde', '!', 'stay', 'here', '!', 'i', 'will', 'send', 'help', 'as', 'soon', 'as', 'i', 'have', 'accomplished', 'a', 'daring', 'and', 'heroic', 'rescue', 'in', 'my', 'own', 'particular', '...', '[', 'sigh', ']', 'concorde', ':', 'idiom', ',', 'sir', '?', 'launcelot', ':', 'idiom', '!', 'concorde', ':', 'no', ',', 'i', 'feel', 'fine', ',', 'actually', ',', 'sir', '.', 'launcelot', ':', 'farewell', ',', 'sweet', 'concorde', '!', 'concorde', ':', 'i', \"'\", 'll', ',', 'um', ',', 'i', \"'\", 'll', 'just', 'stay', 'here', 'then', '.', 'shall', 'i', ',', 'sir', '?', 'yeah', 'scene', '16', ':', '[', 'inside', 'castle', ']', 'princess', 'lucky', 'and', 'girls', ':', '[', 'giggle', 'giggle', 'giggle', ']', '[', 'outside', 'castle', ']', 'guest', ':', \"'\", 'morning', '!', 'sentry', '#', '1', ':', \"'\", 'morning', '.', 'sentry', '#', '2', ':', 'oooh', '.', 'sentry', '#', '1', ':', '[', 'ptoo', ']', 'launcelot', ':', 'ha', 'ha', '!', 'hiyya', '!', 'sentry', '#', '2', ':', 'hey', '!', 'launcelot', ':', 'hiyya', '!,', 'ha', '!,', 'etc', '.', 'princess', 'lucky', 'and', 'girls', ':', '[', 'giggle', 'giggle', 'giggle', ']', 'launcelot', ':', 'ha', 'ha', '!', 'huy', '!', 'guests', ':', 'uuh', '!', 'aaah', '!', 'launcelot', ':', 'ha', 'ha', '!', 'and', 'take', 'this', '!', 'aah', '!', 'hiyah', '!', 'aah', '!', 'aaah', '!', 'hyy', '!', 'hya', '!', 'hiyya', '!', 'ha', '!', '...', 'guard', '#', '1', ':', 'now', ',', 'you', \"'\", 're', 'not', 'allowed', 'to', 'enter', 'the', 'room', '--', 'aaugh', '!', 'launcelot', ':', 'o', 'fair', 'one', ',', 'behold', 'your', 'humble', 'servant', 'sir', 'launcelot', 'of', 'camelot', '.', 'i', 'have', 'come', 'to', 'take', 'y', '--', 'oh', ',', 'i', \"'\", 'm', 'terribly', 'sorry', '.', 'herbert', ':', 'you', 'got', 'my', 'note', '!', 'launcelot', ':', 'uh', ',', 'well', ',', 'i', '--', 'i', 'got', 'a', '--', 'a', 'note', '.', 'herbert', ':', 'you', \"'\", 've', 'come', 'to', 'rescue', 'me', '!', 'launcelot', ':', 'uh', ',', 'well', ',', 'no', '.', 'you', 'see', ',', 'i', 'hadn', \"'\", 't', '--', 'herbert', ':', 'i', 'knew', 'someone', 'would', '.', 'i', 'knew', 'that', 'somewhere', 'out', 'there', '...', '[', 'music', ']', 'launcelot', ':', 'well', ',', 'i', '--', 'herbert', ':', '...', 'there', 'must', 'be', '...', 'someone', '...', 'father', ':', 'stop', 'that', '!', 'stop', 'that', '!', 'stop', 'it', '!', 'stop', 'it', '!', 'who', 'are', 'you', '?', 'herbert', ':', 'i', \"'\", 'm', 'your', 'son', '!', 'father', ':', 'no', ',', 'not', 'you', '.', 'launcelot', ':', 'uh', ',', 'i', 'am', 'sir', 'launcelot', ',', 'sir', '.', 'herbert', ':', 'he', \"'\", 's', 'come', 'to', 'rescue', 'me', ',', 'father', '.', 'launcelot', ':', 'well', ',', 'let', \"'\", 's', 'not', 'jump', 'to', 'conclusions', '.', 'father', ':', 'did', 'you', 'kill', 'all', 'those', 'guards', '?', 'launcelot', ':', 'uh', '...', 'oh', ',', 'yes', '.', 'sorry', '.', 'father', ':', 'they', 'cost', 'fifty', 'pounds', 'each', '!', 'launcelot', ':', 'well', ',', 'i', \"'\", 'm', 'awfully', 'sorry', '.', 'um', ',', 'i', 'really', 'can', 'explain', 'everything', '.', 'herbert', ':', 'don', \"'\", 't', 'be', 'afraid', 'of', 'him', ',', 'sir', 'launcelot', '.', 'i', \"'\", 've', 'got', 'a', 'rope', 'all', 'ready', '.', 'father', ':', 'you', 'killed', 'eight', 'wedding', 'guests', 'in', 'all', '!', 'launcelot', ':', 'well', ',', 'uh', ',', 'you', 'see', ',', 'the', 'thing', 'is', ',', 'i', 'thought', 'your', 'son', 'was', 'a', 'lady', '.', 'father', ':', 'i', 'can', 'understand', 'that', '.', 'herbert', ':', 'hurry', ',', 'sir', 'launcelot', '!', 'hurry', '!', 'father', ':', 'shut', 'up', '!', 'you', 'only', 'killed', 'the', 'bride', \"'\", 's', 'father', ',', 'that', \"'\", 's', 'all', '!', 'launcelot', ':', 'well', ',', 'i', 'really', 'didn', \"'\", 't', 'mean', 'to', '...', 'father', ':', 'didn', \"'\", 't', 'mean', 'to', '?!', 'you', 'put', 'your', 'sword', 'right', 'through', 'his', 'head', '!', 'launcelot', ':', 'oh', ',', 'dear', '.', 'is', 'he', 'all', 'right', '?', 'father', ':', 'you', 'even', 'kicked', 'the', 'bride', 'in', 'the', 'chest', '!', 'this', 'is', 'going', 'to', 'cost', 'me', 'a', 'fortune', '!', 'launcelot', ':', 'well', ',', 'i', 'can', 'explain', '.', 'i', 'was', 'in', 'the', 'forest', ',', 'um', ',', 'riding', 'north', 'from', 'camelot', ',', 'when', 'i', 'got', 'this', 'note', ',', 'you', 'see', '--', 'father', ':', 'camelot', '?', 'are', 'you', 'from', ',', 'uh', ',', 'camelot', '?', 'herbert', ':', 'hurry', ',', 'sir', 'launcelot', '!', 'launcelot', ':', 'uh', ',', 'i', 'am', 'a', 'knight', 'of', 'king', 'arthur', ',', 'sir', '.', 'father', ':', 'very', 'nice', 'castle', ',', 'camelot', '.', 'uh', ',', 'very', 'good', 'pig', 'country', '...', 'launcelot', ':', 'is', 'it', '?', 'herbert', ':', 'hurry', '!', 'i', \"'\", 'm', 'ready', '!', 'father', ':', 'would', 'you', ',', 'uh', ',', 'like', 'to', 'come', 'and', 'have', 'a', 'drink', '?', 'launcelot', ':', 'well', ',', 'that', '--', 'that', \"'\", 's', ',', 'uh', ',', 'awfully', 'nice', 'of', 'you', ',', '...', 'herbert', ':', 'i', 'am', 'ready', '!', 'launcelot', ':', '...', 'um', ',', 'i', 'mean', 'to', 'be', 'so', 'understanding', '.', '[', 'thonk', ']', 'um', ',', '...', '[', 'woosh', ']', 'herbert', ':', 'oooh', '!', 'launcelot', ':', '...', 'i', \"'\", 'm', 'afraid', 'when', 'i', \"'\", 'm', 'in', 'this', 'idiom', ',', 'i', 'sometimes', 'get', 'a', 'bit', ',', 'uh', ',', 'sort', 'of', 'carried', 'away', '.', 'father', ':', 'oh', ',', 'don', \"'\", 't', 'worry', 'about', 'that', '.', 'herbert', ':', 'oooh', '!', '[', 'splat', ']', 'scene', '17', ':', 'guests', ':', '[', 'crying', ']', 'father', ':', 'well', ',', 'this', 'is', 'the', 'main', 'hall', '.', 'we', \"'\", 're', 'going', 'to', 'have', 'all', 'this', 'knocked', 'through', ',', 'and', 'made', 'into', 'one', 'big', ',', 'uh', ',', 'living', 'room', '.', 'guest', ':', 'there', 'he', 'is', '!', 'father', ':', 'oh', ',', 'bloody', 'hell', '.', 'launcelot', ':', 'ha', 'ha', 'ha', '!', 'hey', '!', 'ha', 'ha', '!', 'father', ':', 'hold', 'it', '!', 'stop', 'it', '!', 'hold', 'it', '!', 'hold', 'it', '!', 'hold', 'it', '!', 'hold', 'it', '!', 'hold', 'it', '!', 'please', '!', 'launcelot', ':', 'sorry', '.', 'sorry', '.', 'you', 'see', 'what', 'i', 'mean', '?', 'i', 'just', 'get', 'carried', 'away', '.', 'i', \"'\", 'm', 'really', 'most', 'awfully', 'sorry', '.', 'sorry', '!', 'sorry', ',', 'everyone', '.', 'guest', '#', '1', ':', 'he', \"'\", 's', 'killed', 'the', 'best', 'man', '!', 'guests', ':', '[', 'yelling', ']', 'father', ':', 'hold', 'it', '!', 'hold', 'it', '!', 'please', '!', 'hold', 'it', '!', 'this', 'is', 'sir', 'launcelot', 'from', 'the', 'court', 'of', 'camelot', ',', 'a', 'very', 'brave', 'and', 'influential', 'knight', ',', 'and', 'my', 'special', 'guest', 'here', 'today', '.', 'launcelot', ':', 'hello', '.', 'guest', ':', 'he', 'killed', 'my', 'auntie', '!', 'guests', ':', '[', 'yelling', ']', 'father', ':', 'please', '!', 'please', '!', 'this', 'is', 'supposed', 'to', 'be', 'a', 'happy', 'occasion', '!', 'let', \"'\", 's', 'not', 'bicker', 'and', 'argue', 'about', 'who', 'killed', 'who', '.', 'we', 'are', 'here', 'today', 'to', 'witness', 'the', 'union', 'of', 'two', 'young', 'people', 'in', 'the', 'joyful', 'bond', 'of', 'the', 'holy', 'wedlock', '.', 'unfortunately', ',', 'one', 'of', 'them', ',', 'my', 'son', 'herbert', ',', 'has', 'just', 'fallen', 'to', 'his', 'death', '.', 'guests', ':', 'oh', '!', 'oh', 'no', '!', 'father', ':', 'but', 'i', 'don', \"'\", 't', 'want', 'to', 'think', 'i', \"'\", 've', 'not', 'lost', 'a', 'son', ',', 'so', 'much', 'as', '...', 'gained', 'a', 'daughter', '!', '[', 'clap', 'clap', 'clap', ']', 'for', ',', 'since', 'the', 'tragic', 'death', 'of', 'her', 'father', '--', 'guest', '#', '2', ':', 'he', \"'\", 's', 'not', 'quite', 'dead', '!', 'father', ':', 'since', 'the', 'near', 'fatal', 'wounding', 'of', 'her', 'father', '--', 'guest', '#', '2', ':', 'he', \"'\", 's', 'getting', 'better', '!', 'father', ':', 'for', ',', 'since', 'her', 'own', 'father', ',', 'who', ',', 'when', 'he', 'seemed', 'about', 'to', 'recover', ',', 'suddenly', 'felt', 'the', 'icy', 'hand', 'of', 'death', 'upon', 'him', '.', 'bride', \"'\", 's', 'father', ':', 'uugh', '!', 'guest', '#', '2', ':', 'oh', ',', 'he', \"'\", 's', 'died', '!', 'father', ':', 'and', 'i', 'want', 'his', 'only', 'daughter', 'to', 'look', 'upon', 'me', 'as', 'her', 'old', 'dad', ',', 'in', 'a', 'very', 'real', ',', 'and', 'legally', 'binding', 'sense', '.', '[', 'clap', 'clap', 'clap', ']', 'and', 'i', 'feel', 'sure', 'that', 'the', 'merger', '--', 'er', ',', 'the', 'union', 'between', 'the', 'princess', 'and', 'the', 'brave', ',', 'but', 'dangerous', ',', 'sir', 'launcelot', 'of', 'camelot', '--', 'launcelot', ':', 'what', '?', 'guest', '#', '2', ':', 'look', '!', 'the', 'dead', 'prince', '!', 'guests', ':', 'oooh', '!', 'the', 'dead', 'prince', '!', 'concorde', ':', 'he', \"'\", 's', 'not', 'quite', 'dead', '.', 'herbert', ':', 'no', ',', 'i', 'feel', 'much', 'better', '.', 'father', ':', 'you', 'fell', 'out', 'of', 'the', 'tall', 'tower', ',', 'you', 'creep', '!', 'herbert', ':', 'no', ',', 'i', 'was', 'saved', 'at', 'the', 'last', 'minute', '.', 'father', ':', 'how', '?!', 'herbert', ':', 'well', ',', 'i', \"'\", 'll', 'tell', 'you', '.', '[', 'music', ']', 'father', ':', 'not', 'like', 'that', '!', 'not', 'like', 'that', '!', 'no', '!', 'stop', 'it', '!', 'guests', ':', '[', 'singing', ']', 'he', \"'\", 's', 'going', 'to', 'tell', '!', 'he', \"'\", 's', 'going', 'to', 'tell', '!', '...', 'father', ':', 'shut', 'uuup', '!', 'guests', ':', '[', 'singing', ']', 'he', \"'\", 's', 'going', 'to', 'tell', '!', '...', 'father', ':', 'shut', 'up', '!', 'guests', ':', '[', 'singing', ']', 'he', \"'\", 's', 'going', 'to', 'tell', '!', '...', 'father', ':', 'shut', 'up', '!', 'guests', ':', '[', 'singing', ']', 'he', \"'\", 's', 'going', 'to', 'tell', '!', '...', 'father', ':', 'not', 'like', 'that', '!', 'guests', ':', '[', 'singing', ']', 'he', \"'\", 's', 'going', 'to', 'tell', '!', 'he', \"'\", 's', 'going', 'to', 'tell', '!', 'he', \"'\", 's', 'going', 'to', 'tell', '!', 'he', \"'\", 's', 'going', 'to', 'tell', '!', '...', 'concorde', ':', 'quickly', ',', 'sir', '!', 'guests', ':', '[', 'singing', ']', 'he', \"'\", 's', 'going', 'to', 'tell', '!', '...', 'concorde', ':', 'come', 'this', 'way', '!', 'guests', ':', '[', 'singing', ']', 'he', \"'\", 's', 'going', 'to', 'tell', '!', 'he', \"'\", 's', 'going', 'to', 'tell', '!', '...', 'launcelot', ':', 'no', '!', 'it', \"'\", 's', 'not', 'right', 'for', 'my', 'idiom', '!', 'guests', ':', '[', 'singing', ']', 'he', \"'\", 's', 'going', 'to', 'tell', 'about', 'his', 'great', 'escape', '...', 'launcelot', ':', 'i', 'must', 'escape', 'more', '...', '[', 'sigh', ']', 'guests', ':', '[', 'singing', ']', 'oh', ',', 'he', 'fell', 'a', 'long', ',', 'long', 'way', '...', 'concorde', ':', 'dramatically', ',', 'sir', '?', 'launcelot', ':', 'dramatically', '!', 'guests', ':', '[', 'singing', ']', 'but', 'he', \"'\", 's', 'here', 'with', 'us', 'today', '...', 'launcelot', ':', 'heee', '!', 'hoa', '!', '[', 'crash', ']', 'hoo', '!', 'guests', ':', '[', 'singing', ']', 'what', 'a', 'wonderful', 'escape', '!', 'launcelot', ':', 'excuse', 'me', '.', 'could', ',', 'uh', '--', 'could', 'somebody', 'give', 'me', 'a', 'push', ',', 'please', 'scene', '18', ':', '[', 'king', 'arthur', 'music', ']', '[', 'clop', 'clop', 'clop', ']', '[', 'rewr', '!', 'rewr', '!', 'rewr', '!', 'rewr', '!', 'rewr', '!', 'rewr', '!]', 'arthur', ':', 'old', 'crone', '!', '[', 'rewr', '!]', '[', 'music', 'stops', ']', 'is', 'there', 'anywhere', 'in', 'this', 'town', 'where', 'we', 'could', 'buy', 'a', 'shrubbery', '?', '[', 'dramatic', 'chord', ']', 'old', 'crone', ':', 'who', 'sent', 'you', '?', 'arthur', ':', 'the', 'knights', 'who', 'say', \"'\", 'ni', \"'.\", 'crone', ':', 'aggh', '!', 'no', '!', 'never', '!', 'we', 'have', 'no', 'shrubberies', 'here', '.', 'arthur', ':', 'if', 'you', 'do', 'not', 'tell', 'us', 'where', 'we', 'can', 'buy', 'a', 'shrubbery', ',', 'my', 'friend', 'and', 'i', 'will', 'say', '...', 'we', 'will', 'say', '...', \"'\", 'ni', \"'.\", 'crone', ':', 'agh', '!', 'do', 'your', 'worst', '!', 'arthur', ':', 'very', 'well', '!', 'if', 'you', 'will', 'not', 'assist', 'us', 'voluntarily', ',', '...', 'ni', '!', 'crone', ':', 'no', '!', 'never', '!', 'no', 'shrubberies', '!', 'arthur', ':', 'ni', '!', 'crone', ':', '[', 'cough', ']', 'bedevere', ':', 'nu', '!', 'arthur', ':', 'no', ',', 'no', ',', 'no', ',', 'no', '...', 'bedevere', ':', 'nu', '!', 'arthur', ':', 'no', ',', 'it', \"'\", 's', 'not', 'that', ',', 'it', \"'\", 's', \"'\", 'ni', \"'.\", 'bedevere', ':', 'nu', '!', 'arthur', ':', 'no', ',', 'no', '--', \"'\", 'ni', \"'.\", 'you', \"'\", 're', 'not', 'doing', 'it', 'properly', '.', 'no', '.', 'bedevere', ':', 'ni', '!', 'arthur', 'and', 'bedevere', ':', 'ni', '!', 'arthur', ':', 'that', \"'\", 's', 'it', '.', 'that', \"'\", 's', 'it', '.', 'you', \"'\", 've', 'got', 'it', '.', 'arthur', 'and', 'bedevere', ':', 'ni', '!', 'crone', ':', 'ohh', '!', 'bedevere', ':', 'ni', '!', 'arthur', ':', 'ni', '!', 'crone', ':', 'agh', '!', 'bedevere', ':', 'ni', '!', 'arthur', ':', 'ni', '!', 'bedevere', ':', 'ni', '!', 'arthur', ':', 'ni', '!', 'bedevere', ':', 'ni', '!', 'roger', 'the', 'shrubber', ':', 'are', 'you', 'saying', \"'\", 'ni', \"'\", 'to', 'that', 'old', 'woman', '?', 'arthur', ':', 'erm', ',', 'yes', '.', 'roger', ':', 'oh', ',', 'what', 'sad', 'times', 'are', 'these', 'when', 'passing', 'ruffians', 'can', \"'\", 'ni', \"'\", 'at', 'will', 'to', 'old', 'ladies', '.', 'there', 'is', 'a', 'pestilence', 'upon', 'this', 'land', '.', 'nothing', 'is', 'sacred', '.', 'even', 'those', 'who', 'arrange', 'and', 'design', 'shrubberies', 'are', 'under', 'considerable', 'economic', 'stress', 'at', 'this', 'period', 'in', 'history', '.', 'arthur', ':', 'did', 'you', 'say', \"'\", 'shrubberies', \"'?\", 'roger', ':', 'yes', '.', 'shrubberies', 'are', 'my', 'trade', '.', 'i', 'am', 'a', 'shrubber', '.', 'my', 'name', 'is', 'roger', 'the', 'shrubber', '.', 'i', 'arrange', ',', 'design', ',', 'and', 'sell', 'shrubberies', '.', 'bedevere', ':', 'ni', '!', 'arthur', ':', 'no', '!', 'no', ',', 'no', ',', 'no', '!', 'no', 'scene', '19', ':', 'arthur', ':', 'o', 'knights', 'of', 'ni', ',', 'we', 'have', 'brought', 'you', 'your', 'shrubbery', '.', 'may', 'we', 'go', 'now', '?', 'head', 'knight', ':', 'it', 'is', 'a', 'good', 'shrubbery', '.', 'i', 'like', 'the', 'laurels', 'particularly', '.', 'but', 'there', 'is', 'one', 'small', 'problem', '.', 'arthur', ':', 'what', 'is', 'that', '?', 'head', 'knight', ':', 'we', 'are', 'now', '...', 'no', 'longer', 'the', 'knights', 'who', 'say', \"'\", 'ni', \"'.\", 'knights', 'of', 'ni', ':', 'ni', '!', 'shh', '!', 'head', 'knight', ':', 'shh', '!', 'we', 'are', 'now', 'the', 'knights', 'who', 'say', \"'\", 'ecky', '-', 'ecky', '-', 'ecky', '-', 'ecky', '-', 'pikang', '-', 'zoop', '-', 'boing', '-', 'goodem', '-', 'zoo', '-', 'owli', '-', 'zhiv', \"'.\", 'random', ':', 'ni', '!', 'head', 'knight', ':', 'therefore', ',', 'we', 'must', 'give', 'you', 'a', 'test', '.', 'arthur', ':', 'what', 'is', 'this', 'test', ',', 'o', 'knights', 'of', '--', 'knights', 'who', \"'\", 'til', 'recently', 'said', \"'\", 'ni', \"'?\", 'head', 'knight', ':', 'firstly', ',', 'you', 'must', 'find', '...', 'another', 'shrubbery', '!', '[', 'dramatic', 'chord', ']', 'arthur', ':', 'not', 'another', 'shrubbery', '!', 'random', ':', 'ni', '!', 'head', 'knight', ':', 'then', ',', 'when', 'you', 'have', 'found', 'the', 'shrubbery', ',', 'you', 'must', 'place', 'it', 'here', 'beside', 'this', 'shrubbery', ',', 'only', 'slightly', 'higher', 'so', 'you', 'get', 'the', 'two', '-', 'level', 'effect', 'with', 'a', 'little', 'path', 'running', 'down', 'the', 'middle', '.', 'knights', 'of', 'ni', ':', 'a', 'path', '!', 'a', 'path', '!', 'a', 'path', '!', 'ni', '!', 'shh', '!', 'ni', '!', 'ni', '!', 'ni', '!', 'shh', '!', 'shh', '!', '...', 'head', 'knight', ':', 'then', ',', 'when', 'you', 'have', 'found', 'the', 'shrubbery', ',', 'you', 'must', 'cut', 'down', 'the', 'mightiest', 'tree', 'in', 'the', 'forest', '...', 'with', '...', 'a', 'herring', '!', '[', 'dramatic', 'chord', ']', 'arthur', ':', 'we', 'shall', 'do', 'no', 'such', 'thing', '!', 'head', 'knight', ':', 'oh', ',', 'please', '!', 'arthur', ':', 'cut', 'down', 'a', 'tree', 'with', 'a', 'herring', '?', 'it', 'can', \"'\", 't', 'be', 'done', '.', 'knights', 'of', 'ni', ':', 'aaaugh', '!', 'aaaugh', '!', 'head', 'knight', ':', 'augh', '!', 'ohh', '!', 'don', \"'\", 't', 'say', 'that', 'word', '.', 'arthur', ':', 'what', 'word', '?', 'head', 'knight', ':', 'i', 'cannot', 'tell', ',', 'suffice', 'to', 'say', 'is', 'one', 'of', 'the', 'words', 'the', 'knights', 'of', 'ni', 'cannot', 'hear', '.', 'arthur', ':', 'how', 'can', 'we', 'not', 'say', 'the', 'word', 'if', 'you', 'don', \"'\", 't', 'tell', 'us', 'what', 'it', 'is', '?', 'knights', 'of', 'ni', ':', 'aaaaugh', '!', 'head', 'knight', ':', 'you', 'said', 'it', 'again', '!', 'arthur', ':', 'what', ',', \"'\", 'is', \"'?\", 'knights', 'of', 'ni', ':', 'agh', '!', 'no', ',', 'not', \"'\", 'is', \"'.\", 'head', 'knight', ':', 'no', ',', 'not', \"'\", 'is', \"'.\", 'you', 'wouldn', \"'\", 't', 'get', 'vary', 'far', 'in', 'life', 'not', 'saying', \"'\", 'is', \"'.\", 'knights', 'of', 'ni', ':', 'no', ',', 'not', \"'\", 'is', \"'.\", 'not', \"'\", 'is', \"'.\", 'bedevere', ':', 'my', 'liege', ',', 'it', \"'\", 's', 'sir', 'robin', '!', 'minstrel', ':', '[', 'singing', ']', 'packing', 'it', 'in', 'and', 'packing', 'it', 'up', ',', 'and', 'sneaking', 'away', 'and', 'buggering', 'up', ',', 'and', 'chickening', 'out', 'and', 'pissing', 'off', 'home', ',', 'yes', ',', 'bravely', 'he', 'is', 'throwing', 'in', 'the', 'sponge', '.', 'arthur', ':', 'sir', 'robin', '!', 'robin', ':', 'my', 'liege', '!', 'it', \"'\", 's', 'good', 'to', 'see', 'you', '.', 'head', 'knight', ':', 'now', 'he', \"'\", 's', 'said', 'the', 'word', '!', 'arthur', ':', 'surely', 'you', \"'\", 've', 'not', 'given', 'up', 'your', 'quest', 'for', 'the', 'holy', 'grail', '?', 'minstrel', ':', '[', 'singing', ']', 'he', 'is', 'sneaking', 'away', 'and', 'buggering', 'up', '--', 'robin', ':', 'shut', 'up', '!', 'no', ',', 'no', '.', 'no', '.', 'far', 'from', 'it', '.', 'head', 'knight', ':', 'he', 'said', 'the', 'word', 'again', '!', 'knights', 'of', 'ni', ':', 'aaaaugh', '!', 'robin', ':', 'i', 'was', 'looking', 'for', 'it', '.', 'knights', 'of', 'ni', ':', 'aaaaugh', '!', 'robin', ':', 'uh', ',', 'here', '--', 'here', 'in', 'this', 'forest', '.', 'arthur', ':', 'no', ',', 'it', 'is', 'far', 'from', 'this', 'place', '.', 'knights', 'of', 'ni', ':', 'aaaaugh', '!', 'head', 'knight', ':', 'aaaaugh', '!', 'stop', 'saying', 'the', 'word', '!', 'the', 'word', '...', 'arthur', ':', 'oh', ',', 'stop', 'it', '!', 'knights', 'of', 'ni', ':', '...', 'we', 'cannot', 'hear', '!', 'head', 'knight', ':', 'ow', '!', 'he', 'said', 'it', 'again', '!', 'arthur', ':', 'patsy', '!', 'head', 'knight', ':', 'wait', '!', 'i', 'said', 'it', '!', 'i', 'said', 'it', '!', '[', 'clop', 'clop', 'clop', ']', 'ooh', '!', 'i', 'said', 'it', 'again', '!', 'and', 'there', 'again', '!', 'that', \"'\", 's', 'three', \"'\", 'it', \"'\", 's', '!', 'ohh', '!', 'knights', 'of', 'ni', ':', 'aaaaugh', 'narrator', ':', 'and', 'so', ',', 'arthur', 'and', 'bedevere', 'and', 'sir', 'robin', 'set', 'out', 'on', 'their', 'search', 'to', 'find', 'the', 'enchanter', 'of', 'whom', 'the', 'old', 'man', 'had', 'spoken', 'in', 'scene', 'twenty', '-', 'four', '.', 'beyond', 'the', 'forest', 'they', 'met', 'launcelot', 'and', 'galahad', ',', 'and', 'there', 'was', 'much', 'rejoicing', '.', 'knights', ':', 'yay', '!', 'yay', '!', '[', 'woosh', ']', 'narrator', ':', 'in', 'the', 'frozen', 'land', 'of', 'nador', ',', 'they', 'were', 'forced', 'to', 'eat', 'robin', \"'\", 's', 'minstrels', '.', 'minstrel', ':', '[', 'high', '-', 'pitched', ']', 'get', 'back', '!', 'eee', '!', 'narrator', ':', 'and', 'there', 'was', 'much', 'rejoicing', '.', 'knights', ':', 'yay', '!', 'narrator', ':', 'a', 'year', 'passed', '.', 'cartoon', 'character', ':', '[', 'shivering', ']', 'narrator', ':', 'winter', 'changed', 'into', 'spring', '.', 'cartoon', 'character', ':', 'mmm', ',', 'nice', '.', 'narrator', ':', 'spring', 'changed', 'into', 'summer', '.', 'cartoon', 'character', ':', 'oh', '.', 'ahh', '.', 'narrator', ':', 'summer', 'changed', 'back', 'into', 'winter', '.', 'cartoon', 'character', ':', 'oh', '?', 'narrator', ':', 'and', 'winter', 'gave', 'spring', 'and', 'summer', 'a', 'miss', 'and', 'went', 'straight', 'on', 'into', 'autumn', '.', 'cartoon', 'character', ':', 'aah', '.', '[', 'snap', ']', 'oh', '!', 'waa', '!', 'narrator', ':', 'until', 'one', 'day', '..', 'scene', '20', ':', '[', 'king', 'arthur', 'music', ']', '[', 'clop', 'clop', 'clop', ']', '[', 'music', 'stops', ']', '[', 'boom', ']', 'knights', ':', 'eh', '.', 'oh', '.', 'see', 'it', '?', 'oh', '.', 'oh', '.', 'arthur', ':', 'knights', '!', 'forward', '!', '[', 'boom', 'boom', 'boom', 'boom', 'boom', ']', '[', 'squeak', ']', '[', 'boom', 'boom', 'boom', 'boom', ']', 'what', 'manner', 'of', 'man', 'are', 'you', 'that', 'can', 'summon', 'up', 'fire', 'without', 'flint', 'or', 'tinder', '?', 'tim', 'the', 'enchanter', ':', 'i', '...', 'am', 'an', 'enchanter', '.', 'arthur', ':', 'by', 'what', 'name', 'are', 'you', 'known', '?', 'tim', ':', 'there', 'are', 'some', 'who', 'call', 'me', '...', 'tim', '?', 'arthur', ':', 'greetings', ',', 'tim', 'the', 'enchanter', '.', 'tim', ':', 'greetings', ',', 'king', 'arthur', '!', 'arthur', ':', 'you', 'know', 'my', 'name', '?', 'tim', ':', 'i', 'do', '.', '[', 'zoosh', ']', 'you', 'seek', 'the', 'holy', 'grail', '!', 'arthur', ':', 'that', 'is', 'our', 'quest', '.', 'you', 'know', 'much', 'that', 'is', 'hidden', ',', 'o', 'tim', '.', 'tim', ':', 'quite', '.', '[', 'pweeng', 'boom', ']', '[', 'clap', 'clap', 'clap', ']', 'robin', ':', 'oh', '.', 'arthur', ':', 'yes', ',', 'we', \"'\", 're', '--', 'we', \"'\", 're', 'looking', 'for', 'the', 'holy', 'grail', '.', 'our', 'quest', 'is', 'to', 'find', 'the', 'holy', 'grail', '.', 'knights', ':', 'yeah', '.', 'yes', '.', 'it', 'is', '.', 'it', 'is', '.', 'yeah', '.', 'yup', '.', 'yup', '.', 'hm', '.', 'arthur', ':', 'and', 'so', 'we', \"'\", 're', '--', 'we', \"'\", 're', '--', 'we', \"'\", 're', '--', 'we', \"'\", 're', 'looking', 'for', 'it', '.', 'bedevere', ':', 'yes', ',', 'we', 'are', '.', 'galahad', ':', 'yeah', '.', 'robin', ':', 'we', 'are', '.', 'we', 'are', '.', 'bedevere', ':', 'we', 'have', 'been', 'for', 'some', 'time', '.', 'robin', ':', 'ages', '.', 'bedevere', ':', 'umhm', '.', 'arthur', ':', 'uh', '--', 'uh', ',', 'so', ',', 'uh', ',', 'anything', 'that', 'you', 'could', 'do', 'to', ',', 'uh', '--', 'to', 'help', ',', 'would', 'be', '...', 'very', '...', 'helpful', '.', 'galahad', ':', 'look', ',', 'can', 'you', 'tell', 'us', 'where', '--', '[', 'boom', ']', 'arthur', ':', 'fine', '.', 'um', ',', 'i', 'don', \"'\", 't', 'want', 'to', 'waste', 'any', 'more', 'of', 'your', 'time', ',', 'but', ',', 'uh', ',', 'i', 'don', \"'\", 't', 'suppose', 'you', 'could', ',', 'uh', ',', 'tell', 'us', 'where', 'we', 'might', 'find', 'a', ',', 'um', '--', 'find', 'a', ',', 'uh', '--', 'a', ',', 'um', '--', 'a', ',', 'uh', '--', 'tim', ':', 'a', 'what', '...?', 'arthur', ':', 'a', 'g', '--', 'a', '--', 'a', 'g', '--', 'a', 'g', '--', 'a', '--', 'a', 'g', '--', 'tim', ':', 'a', 'grail', '?!', 'arthur', ':', 'yes', ',', 'i', 'think', 'so', '.', 'robin', ':', 'y', '--', 'y', '--', 'yes', '.', 'arthur', ':', 'yes', '.', 'galahad', ':', 'yup', '.', 'knights', ':', 'that', \"'\", 's', 'it', '...', 'tim', ':', 'yes', '!', 'robin', ':', 'oh', '.', 'arthur', ':', 'oh', '.', 'thank', 'you', '.', 'robin', ':', 'ahh', '.', 'galahad', ':', 'oh', '.', 'fine', '.', 'arthur', ':', 'thank', 'you', '.', 'robin', ':', 'splendid', '.', 'knights', ':', 'aah', '...', '[', 'boom', 'pweeng', 'boom', 'boom', ']', 'arthur', ':', 'look', ',', 'um', ',', 'you', \"'\", 're', 'a', 'busy', 'man', ',', 'uh', '--', 'tim', ':', 'yes', ',', 'i', 'can', 'help', 'you', 'find', 'the', 'holy', 'grail', '.', 'knights', ':', 'oh', ',', 'thank', 'you', '.', 'oh', '...', 'tim', ':', 'to', 'the', 'north', 'there', 'lies', 'a', 'cave', '--', 'the', 'cave', 'of', 'caerbannog', '--', 'wherein', ',', 'carved', 'in', 'mystic', 'runes', 'upon', 'the', 'very', 'living', 'rock', ',', 'the', 'last', 'words', 'of', 'olfin', 'bedwere', 'of', 'rheged', '...', '[', 'boom', ']', '...', 'make', 'plain', 'the', 'last', 'resting', 'place', 'of', 'the', 'most', 'holy', 'grail', '.', 'arthur', ':', 'where', 'could', 'we', 'find', 'this', 'cave', ',', 'o', 'tim', '?', 'tim', ':', 'follow', '.', 'but', '!', 'follow', 'only', 'if', 'ye', 'be', 'men', 'of', 'valor', ',', 'for', 'the', 'entrance', 'to', 'this', 'cave', 'is', 'guarded', 'by', 'a', 'creature', 'so', 'foul', ',', 'so', 'cruel', 'that', 'no', 'man', 'yet', 'has', 'fought', 'with', 'it', 'and', 'lived', '!', 'bones', 'of', 'full', 'fifty', 'men', 'lie', 'strewn', 'about', 'its', 'lair', '.', 'so', ',', 'brave', 'knights', ',', 'if', 'you', 'do', 'doubt', 'your', 'courage', 'or', 'your', 'strength', ',', 'come', 'no', 'further', ',', 'for', 'death', 'awaits', 'you', 'all', 'with', 'nasty', ',', 'big', ',', 'pointy', 'teeth', '.', 'arthur', ':', 'what', 'an', 'eccentric', 'performance', 'scene', '21', ':', '[', 'clop', 'clop', 'clop', ']', '[', 'whinny', 'whinny', ']', 'galahad', ':', 'they', \"'\", 're', 'nervous', ',', 'sire', '.', 'arthur', ':', 'then', 'we', \"'\", 'd', 'best', 'leave', 'them', 'here', 'and', 'carry', 'on', 'on', 'foot', '.', 'dis', '-', 'mount', '!', 'tim', ':', 'behold', 'the', 'cave', 'of', 'caerbannog', '!', 'arthur', ':', 'right', '!', 'keep', 'me', 'covered', '.', 'galahad', ':', 'what', 'with', '?', 'arthur', ':', 'w', '--', 'just', 'keep', 'me', 'covered', '.', 'tim', ':', 'too', 'late', '!', '[', 'dramatic', 'chord', ']', 'arthur', ':', 'what', '?', 'tim', ':', 'there', 'he', 'is', '!', 'arthur', ':', 'where', '?', 'tim', ':', 'there', '!', 'arthur', ':', 'what', ',', 'behind', 'the', 'rabbit', '?', 'tim', ':', 'it', 'is', 'the', 'rabbit', '!', 'arthur', ':', 'you', 'silly', 'sod', '!', 'tim', ':', 'what', '?', 'arthur', ':', 'you', 'got', 'us', 'all', 'worked', 'up', '!', 'tim', ':', 'well', ',', 'that', \"'\", 's', 'no', 'ordinary', 'rabbit', '.', 'arthur', ':', 'ohh', '.', 'tim', ':', 'that', \"'\", 's', 'the', 'most', 'foul', ',', 'cruel', ',', 'and', 'bad', '-', 'tempered', 'rodent', 'you', 'ever', 'set', 'eyes', 'on', '.', 'robin', ':', 'you', 'tit', '!', 'i', 'soiled', 'my', 'armor', 'i', 'was', 'so', 'scared', '!', 'tim', ':', 'look', ',', 'that', 'rabbit', \"'\", 's', 'got', 'a', 'vicious', 'streak', 'a', 'mile', 'wide', ';', 'it', \"'\", 's', 'a', 'killer', '!', 'galahad', ':', 'get', 'stuffed', '!', 'tim', ':', 'he', \"'\", 'll', 'do', 'you', 'up', 'a', 'treat', 'mate', '!', 'galahad', ':', 'oh', ',', 'yeah', '?', 'robin', ':', 'you', 'mangy', 'scots', 'git', '!', 'tim', ':', 'i', \"'\", 'm', 'warning', 'you', '!', 'robin', ':', 'what', \"'\", 's', 'he', 'do', ',', 'nibble', 'your', 'bum', '?', 'tim', ':', 'he', \"'\", 's', 'got', 'huge', ',', 'sharp', '--', 'eh', '--', 'he', 'can', 'leap', 'about', '--', 'look', 'at', 'the', 'bones', '!', 'arthur', ':', 'go', 'on', ',', 'bors', '.', 'chop', 'his', 'head', 'off', '!', 'bors', ':', 'right', '!', 'silly', 'little', 'bleeder', '.', 'one', 'rabbit', 'stew', 'comin', \"'\", 'right', 'up', '!', 'tim', ':', 'look', '!', '[', 'squeak', ']', 'bors', ':', 'aaaugh', '!', '[', 'dramatic', 'chord', ']', '[', 'clunk', ']', 'arthur', ':', 'jesus', 'christ', '!', 'tim', ':', 'i', 'warned', 'you', '!', 'robin', ':', 'i', 'done', 'it', 'again', '!', 'tim', ':', 'i', 'warned', 'you', ',', 'but', 'did', 'you', 'listen', 'to', 'me', '?', 'oh', ',', 'no', ',', 'you', 'knew', 'it', 'all', ',', 'didn', \"'\", 't', 'you', '?', 'oh', ',', 'it', \"'\", 's', 'just', 'a', 'harmless', 'little', 'bunny', ',', 'isn', \"'\", 't', 'it', '?', 'well', ',', 'it', \"'\", 's', 'always', 'the', 'same', '.', 'i', 'always', 'tell', 'them', '--', 'arthur', ':', 'oh', ',', 'shut', 'up', '!', 'tim', ':', 'do', 'they', 'listen', 'to', 'me', '?', 'arthur', ':', 'right', '!', 'tim', ':', 'oh', ',', 'no', '...', 'knights', ':', 'charge', '!', '[', 'squeak', 'squeak', 'squeak', ']', 'knights', ':', 'aaaaugh', '!,', 'aaaugh', '!,', 'etc', '.', 'arthur', ':', 'run', 'away', '!', 'run', 'away', '!', 'knights', ':', 'run', 'away', '!', 'run', 'away', '!', '...', 'tim', ':', 'ha', 'ha', 'ha', 'ha', '!', 'ha', 'haw', 'haw', '!', 'ha', '!', 'ha', 'ha', '!', 'arthur', ':', 'right', '.', 'how', 'many', 'did', 'we', 'lose', '?', 'launcelot', ':', 'gawain', '.', 'galahad', ':', 'ector', '.', 'arthur', ':', 'and', 'bors', '.', 'that', \"'\", 's', 'five', '.', 'galahad', ':', 'three', ',', 'sir', '.', 'arthur', ':', 'three', '.', 'three', '.', 'and', 'we', \"'\", 'd', 'better', 'not', 'risk', 'another', 'frontal', 'assault', '.', 'that', 'rabbit', \"'\", 's', 'dynamite', '.', 'robin', ':', 'would', 'it', 'help', 'to', 'confuse', 'it', 'if', 'we', 'run', 'away', 'more', '?', 'arthur', ':', 'oh', ',', 'shut', 'up', 'and', 'go', 'and', 'change', 'your', 'armor', '.', 'galahad', ':', 'let', 'us', 'taunt', 'it', '!', 'it', 'may', 'become', 'so', 'cross', 'that', 'it', 'will', 'make', 'a', 'mistake', '.', 'arthur', ':', 'like', 'what', '?', 'galahad', ':', 'well', '...', 'ooh', '.', 'launcelot', ':', 'have', 'we', 'got', 'bows', '?', 'arthur', ':', 'no', '.', 'launcelot', ':', 'we', 'have', 'the', 'holy', 'hand', 'grenade', '.', 'arthur', ':', 'yes', ',', 'of', 'course', '!', 'the', 'holy', 'hand', 'grenade', 'of', 'antioch', '!', \"'\", 'tis', 'one', 'of', 'the', 'sacred', 'relics', 'brother', 'maynard', 'carries', 'with', 'him', '!', 'brother', 'maynard', '!', 'bring', 'up', 'the', 'holy', 'hand', 'grenade', '!', 'monks', ':', '[', 'chanting', ']', 'pie', 'iesu', 'domine', ',', 'dona', 'eis', 'requiem', '.', 'pie', 'iesu', 'domine', ',', 'donaeis', 'requiem', '.', 'pie', 'iesu', 'domine', ',', 'dona', 'eis', 'requiem', '.', 'pie', 'iesu', 'domine', ',', 'dona', 'eisrequiem', '.', 'arthur', ':', 'how', 'does', 'it', ',', 'um', '--', 'how', 'does', 'it', 'work', '?', 'launcelot', ':', 'i', 'know', 'not', ',', 'my', 'liege', '.', 'arthur', ':', 'consult', 'the', 'book', 'of', 'armaments', '!', 'brother', 'maynard', ':', 'armaments', ',', 'chapter', 'two', ',', 'verses', 'nine', 'to', 'twenty', '-', 'one', '.', 'second', 'brother', ':', 'and', 'saint', 'attila', 'raised', 'the', 'hand', 'grenade', 'up', 'on', 'high', ',', 'saying', \",'\", 'o', 'lord', ',', 'bless', 'this', 'thy', 'hand', 'grenade', 'that', 'with', 'it', 'thou', 'mayest', 'blow', 'thine', 'enemies', 'to', 'tiny', 'bits', ',', 'in', 'thy', 'mercy', \".'\", 'and', 'the', 'lord', 'did', 'grin', ',', 'and', 'the', 'people', 'did', 'feast', 'upon', 'the', 'lambs', 'and', 'sloths', 'and', 'carp', 'and', 'anchovies', 'and', 'orangutans', 'and', 'breakfast', 'cereals', 'and', 'fruit', 'bats', 'and', 'large', 'chu', '--', 'maynard', ':', 'skip', 'a', 'bit', ',', 'brother', '.', 'second', 'brother', ':', 'and', 'the', 'lord', 'spake', ',', 'saying', ',', \"'\", 'first', 'shalt', 'thou', 'take', 'out', 'the', 'holy', 'pin', '.', 'then', ',', 'shalt', 'thou', 'count', 'to', 'three', ',', 'no', 'more', ',', 'no', 'less', '.', 'three', 'shalt', 'be', 'the', 'number', 'thou', 'shalt', 'count', ',', 'and', 'the', 'number', 'of', 'the', 'counting', 'shall', 'be', 'three', '.', 'four', 'shalt', 'thou', 'not', 'count', ',', 'nor', 'either', 'count', 'thou', 'two', ',', 'excepting', 'that', 'thou', 'then', 'proceed', 'to', 'three', '.', 'five', 'is', 'right', 'out', '.', 'once', 'the', 'number', 'three', ',', 'being', 'the', 'third', 'number', ',', 'be', 'reached', ',', 'then', 'lobbest', 'thou', 'thy', 'holy', 'hand', 'grenade', 'of', 'antioch', 'towards', 'thy', 'foe', ',', 'who', ',', 'being', 'naughty', 'in', 'my', 'sight', ',', 'shall', 'snuff', 'it', \".'\", 'maynard', ':', 'amen', '.', 'knights', ':', 'amen', '.', 'arthur', ':', 'right', '!', 'one', '...', 'two', '...', 'five', '!', 'galahad', ':', 'three', ',', 'sir', '!', 'arthur', ':', 'three', '!', '[', 'angels', 'sing', ']', '[', 'boom', ']', 'scene', '22', ':', 'arthur', ':', 'there', '!', 'look', '!', 'launcelot', ':', 'what', 'does', 'it', 'say', '?', 'galahad', ':', 'what', 'language', 'is', 'that', '?', 'arthur', ':', 'brother', 'maynard', '!', 'you', 'are', 'a', 'scholar', '.', 'maynard', ':', 'it', \"'\", 's', 'aramaic', '!', 'galahad', ':', 'of', 'course', '!', 'joseph', 'of', 'arimathea', '!', 'launcelot', ':', \"'\", 'course', '!', 'arthur', ':', 'what', 'does', 'it', 'say', '?', 'maynard', ':', 'it', 'reads', ',', \"'\", 'here', 'may', 'be', 'found', 'the', 'last', 'words', 'of', 'joseph', 'of', 'arimathea', '.', 'he', 'who', 'is', 'valiant', 'and', 'pure', 'of', 'spirit', 'may', 'find', 'the', 'holy', 'grail', 'in', 'the', 'castle', 'of', 'uuggggggh', \"'.\", 'arthur', ':', 'what', '?', 'maynard', ':', \"'...\", 'the', 'castle', 'of', 'uuggggggh', \"'.\", 'bedevere', ':', 'what', 'is', 'that', '?', 'maynard', ':', 'he', 'must', 'have', 'died', 'while', 'carving', 'it', '.', 'launcelot', ':', 'oh', ',', 'come', 'on', '!', 'maynard', ':', 'well', ',', 'that', \"'\", 's', 'what', 'it', 'says', '.', 'arthur', ':', 'look', ',', 'if', 'he', 'was', 'dying', ',', 'he', 'wouldn', \"'\", 't', 'bother', 'to', 'carve', \"'\", 'aaggggh', \"'.\", 'he', \"'\", 'd', 'just', 'say', 'it', '!', 'maynard', ':', 'well', ',', 'that', \"'\", 's', 'what', \"'\", 's', 'carved', 'in', 'the', 'rock', '!', 'galahad', ':', 'perhaps', 'he', 'was', 'dictating', '.', 'arthur', ':', 'oh', ',', 'shut', 'up', '.', 'well', ',', 'does', 'it', 'say', 'anything', 'else', '?', 'maynard', ':', 'no', '.', 'just', ',', \"'\", 'uuggggggh', \"'.\", 'launcelot', ':', 'aauuggghhh', '.', 'arthur', ':', 'aaauggh', '.', 'bedevere', ':', 'do', 'you', 'suppose', 'he', 'meant', 'the', 'camaaaaaargue', '?', 'galahad', ':', 'where', \"'\", 's', 'that', '?', 'bedevere', ':', 'france', ',', 'i', 'think', '.', 'launcelot', ':', 'isn', \"'\", 't', 'there', 'a', 'saint', 'aauuuves', 'in', 'cornwall', '?', 'arthur', ':', 'no', ',', 'that', \"'\", 's', 'saint', 'ives', '.', 'launcelot', ':', 'oh', ',', 'yes', '.', 'saint', 'iiiives', '.', 'knights', ':', 'iiiiives', '.', 'bedevere', ':', 'oooohoohohooo', '!', 'launcelot', ':', 'no', ',', 'no', '.', \"'\", 'aauuuuugh', \"',\", 'at', 'the', 'back', 'of', 'the', 'throat', '.', 'aauuugh', '.', 'bedevere', ':', 'n', '--', 'no', '.', 'no', ',', 'no', ',', 'no', ',', 'no', '.', \"'\", 'oooooooh', \"',\", 'in', 'surprise', 'and', 'alarm', '.', 'launcelot', ':', 'oh', ',', 'you', 'mean', 'sort', 'of', 'a', \"'\", 'aaaah', \"'!\", 'bedevere', ':', 'yes', ',', 'but', 'i', '--', 'aaaaaah', '!', 'arthur', ':', 'oooh', '!', 'galahad', ':', 'my', 'god', '!', '[', 'dramatic', 'chord', ']', '[', 'roar', ']', 'maynard', ':', 'it', \"'\", 's', 'the', 'legendary', 'black', 'beast', 'of', 'aaauugh', '!', '[', 'black', 'beast', 'of', 'aaauugh', 'eats', 'brother', 'maynard', ']', 'bedevere', ':', 'that', \"'\", 's', 'it', '!', 'that', \"'\", 's', 'it', '!', 'arthur', ':', 'run', 'away', '!', 'knights', ':', 'run', 'away', '!', '[', 'roar', ']', 'run', 'away', '!', 'run', 'awaaay', '!', 'run', 'awaaaaay', '!', '[', 'roar', ']', 'keep', 'running', '!', '[', 'boom', ']', '[', 'roar', ']', 'shh', '!', 'shh', '!', 'shh', '!', 'shh', '!', 'shh', '!', 'shh', '!', 'shh', '!', 'shh', '!', '...', 'bedevere', ':', 'we', \"'\", 've', 'lost', 'him', '.', '[', 'roar', ']', 'knights', ':', 'aagh', '!', 'narrator', ':', 'as', 'the', 'horrendous', 'black', 'beast', 'lunged', 'forward', ',', 'escape', 'for', 'arthur', 'and', 'his', 'knights', 'seemed', 'hopeless', ',', 'when', 'suddenly', ',', 'the', 'animator', 'suffered', 'a', 'fatal', 'heart', 'attack', '.', 'animator', ':', 'ulk', '!', '[', 'thump', ']', 'narrator', ':', 'the', 'cartoon', 'peril', 'was', 'no', 'more', '.', 'the', 'quest', 'for', 'holy', 'grail', 'could', 'continue', '.', 'scene', '23', ':', '[', 'gurgle', ']', 'galahad', ':', 'there', 'it', 'is', '!', 'arthur', ':', 'the', 'bridge', 'of', 'death', '!', 'robin', ':', 'oh', ',', 'great', '.', 'arthur', ':', 'look', '!', 'there', \"'\", 's', 'the', 'old', 'man', 'from', 'scene', 'twenty', '-', 'four', '!', 'bedevere', ':', 'what', 'is', 'he', 'doing', 'here', '?', 'arthur', ':', 'he', 'is', 'the', 'keeper', 'of', 'the', 'bridge', 'of', 'death', '.', 'he', 'asks', 'each', 'traveller', 'five', 'questions', '--', 'galahad', ':', 'three', 'questions', '.', 'arthur', ':', 'three', 'questions', '.', 'he', 'who', 'answers', 'the', 'five', 'questions', '--', 'galahad', ':', 'three', 'questions', '.', 'arthur', ':', 'three', 'questions', 'may', 'cross', 'in', 'safety', '.', 'robin', ':', 'what', 'if', 'you', 'get', 'a', 'question', 'wrong', '?', 'arthur', ':', 'then', 'you', 'are', 'cast', 'into', 'the', 'gorge', 'of', 'eternal', 'peril', '.', 'robin', ':', 'oh', ',', 'i', 'won', \"'\", 't', 'go', '.', 'galahad', ':', 'who', \"'\", 's', 'going', 'to', 'answer', 'the', 'questions', '?', 'arthur', ':', 'sir', 'robin', '!', 'robin', ':', 'yes', '?', 'arthur', ':', 'brave', 'sir', 'robin', ',', 'you', 'go', '.', 'robin', ':', 'hey', '!', 'i', \"'\", 've', 'got', 'a', 'great', 'idea', '.', 'why', 'doesn', \"'\", 't', 'launcelot', 'go', '?', 'launcelot', ':', 'yes', '.', 'let', 'me', 'go', ',', 'my', 'liege', '.', 'i', 'will', 'take', 'him', 'single', '-', 'handed', '.', 'i', 'shall', 'make', 'a', 'feint', 'to', 'the', 'north', '-', 'east', 'that', 's', '--', 'arthur', ':', 'no', ',', 'no', '.', 'no', '.', 'hang', 'on', '!', 'hang', 'on', '!', 'hang', 'on', '!', 'just', 'answer', 'the', 'five', 'questions', '--', 'galahad', ':', 'three', 'questions', '.', 'arthur', ':', 'three', 'questions', 'as', 'best', 'you', 'can', '.', 'and', 'we', 'shall', 'watch', '...', 'and', 'pray', '.', 'launcelot', ':', 'i', 'understand', ',', 'my', 'liege', '.', 'arthur', ':', 'good', 'luck', ',', 'brave', 'sir', 'launcelot', '.', 'god', 'be', 'with', 'you', '.', 'bridgekeeper', ':', 'stop', '!', 'who', 'would', 'cross', 'the', 'bridge', 'of', 'death', 'must', 'answer', 'me', 'these', 'questions', 'three', ',', 'ere', 'the', 'other', 'side', 'he', 'see', '.', 'launcelot', ':', 'ask', 'me', 'the', 'questions', ',', 'bridgekeeper', '.', 'i', 'am', 'not', 'afraid', '.', 'bridgekeeper', ':', 'what', 'is', 'your', 'name', '?', 'launcelot', ':', 'my', 'name', 'is', 'sir', 'launcelot', 'of', 'camelot', '.', 'bridgekeeper', ':', 'what', 'is', 'your', 'quest', '?', 'launcelot', ':', 'to', 'seek', 'the', 'holy', 'grail', '.', 'bridgekeeper', ':', 'what', 'is', 'your', 'favorite', 'color', '?', 'launcelot', ':', 'blue', '.', 'bridgekeeper', ':', 'right', '.', 'off', 'you', 'go', '.', 'launcelot', ':', 'oh', ',', 'thank', 'you', '.', 'thank', 'you', 'very', 'much', '.', 'robin', ':', 'that', \"'\", 's', 'easy', '!', 'bridgekeeper', ':', 'stop', '!', 'who', 'approacheth', 'the', 'bridge', 'of', 'death', 'must', 'answer', 'me', 'these', 'questions', 'three', ',', 'ere', 'the', 'other', 'side', 'he', 'see', '.', 'robin', ':', 'ask', 'me', 'the', 'questions', ',', 'bridgekeeper', '.', 'i', \"'\", 'm', 'not', 'afraid', '.', 'bridgekeeper', ':', 'what', 'is', 'your', 'name', '?', 'robin', ':', 'sir', 'robin', 'of', 'camelot', '.', 'bridgekeeper', ':', 'what', 'is', 'your', 'quest', '?', 'robin', ':', 'to', 'seek', 'the', 'holy', 'grail', '.', 'bridgekeeper', ':', 'what', 'is', 'the', 'capital', 'of', 'assyria', '?', 'robin', ':', 'i', 'don', \"'\", 't', 'know', 'that', '!', 'auuuuuuuugh', '!', 'bridgekeeper', ':', 'stop', '!', 'what', 'is', 'your', 'name', '?', 'galahad', ':', 'sir', 'galahad', 'of', 'camelot', '.', 'bridgekeeper', ':', 'what', 'is', 'your', 'quest', '?', 'galahad', ':', 'i', 'seek', 'the', 'grail', '.', 'bridgekeeper', ':', 'what', 'is', 'your', 'favorite', 'color', '?', 'galahad', ':', 'blue', '.', 'no', 'yel', '--', 'auuuuuuuugh', '!', 'bridgekeeper', ':', 'hee', 'hee', 'heh', '.', 'stop', '!', 'what', 'is', 'your', 'name', '?', 'arthur', ':', 'it', 'is', 'arthur', ',', 'king', 'of', 'the', 'britons', '.', 'bridgekeeper', ':', 'what', 'is', 'your', 'quest', '?', 'arthur', ':', 'to', 'seek', 'the', 'holy', 'grail', '.', 'bridgekeeper', ':', 'what', 'is', 'the', 'air', '-', 'speed', 'velocity', 'of', 'an', 'unladen', 'swallow', '?', 'arthur', ':', 'what', 'do', 'you', 'mean', '?', 'an', 'african', 'or', 'european', 'swallow', '?', 'bridgekeeper', ':', 'huh', '?', 'i', '--', 'i', 'don', \"'\", 't', 'know', 'that', '!', 'auuuuuuuugh', '!', 'bedevere', ':', 'how', 'do', 'know', 'so', 'much', 'about', 'swallows', '?', 'arthur', ':', 'well', ',', 'you', 'have', 'to', 'know', 'these', 'things', 'when', 'you', \"'\", 're', 'a', 'king', ',', 'you', 'know', '.', '[', 'suspenseful', 'music', ']', '[', 'music', 'suddenly', 'stops', ']', '[', 'intermission', ']', '[', 'suspenseful', 'music', 'resumes', ']', 'scene', '24', ':', 'arthur', ':', 'launcelot', '!', 'launcelot', '!', 'launcelot', '!', 'bedevere', ':', 'launcelot', '!', 'launcelot', '!', 'arthur', ':', 'launcelot', '!', '[', 'police', 'radio', ']', 'launcelot', '!', 'bedevere', ':', 'launcelot', '!', 'launcelot', '!', '[', 'angels', 'sing', ']', '[', 'singing', 'stops', ']', '[', 'ethereal', 'music', ']', 'arthur', ':', 'the', 'castle', 'aaagh', '.', 'our', 'quest', 'is', 'at', 'an', 'end', '!', 'god', 'be', 'praised', '!', 'almighty', 'god', ',', 'we', 'thank', 'thee', 'that', 'thou', 'hast', 'vouchsafed', 'to', 'us', 'the', 'most', 'holy', '--', '[', 'twong', ']', '[', 'baaaa', ']', 'jesus', 'christ', '!', '[', 'thud', ']', 'french', 'guard', ':', 'allo', ',', 'dappy', 'english', 'k', '-', 'niggets', 'and', 'monsieur', 'arthur', 'king', ',', 'who', 'has', 'the', 'brain', 'of', 'a', 'duck', ',', 'you', 'know', '.', 'so', ',', 'we', 'french', 'fellows', 'outwit', 'you', 'a', 'second', 'time', '!', 'arthur', ':', 'how', 'dare', 'you', 'profane', 'this', 'place', 'with', 'your', 'presence', '!', 'i', 'command', 'you', ',', 'in', 'the', 'name', 'of', 'the', 'knights', 'of', 'camelot', ',', 'to', 'open', 'the', 'doors', 'of', 'this', 'sacred', 'castle', ',', 'to', 'which', 'god', 'himself', 'has', 'guided', 'us', '!', 'french', 'guard', ':', 'how', 'you', 'english', 'say', ',', \"'\", 'i', 'one', 'more', 'time', ',', 'mac', ',', 'unclog', 'my', 'nose', 'in', 'your', 'direction', \"',\", 'sons', 'of', 'a', 'window', '-', 'dresser', '!', 'so', ',', 'you', 'think', 'you', 'could', 'out', '-', 'clever', 'us', 'french', 'folk', 'with', 'your', 'silly', 'knees', '-', 'bent', 'running', 'about', 'advancing', 'behaviour', '?!', 'i', 'wave', 'my', 'private', 'parts', 'at', 'your', 'aunties', ',', 'you', 'cheesy', 'lot', 'of', 'second', 'hand', 'electric', 'donkey', '-', 'bottom', 'biters', '.', 'arthur', ':', 'in', 'the', 'name', 'of', 'the', 'lord', ',', 'we', 'demand', 'entrance', 'to', 'this', 'sacred', 'castle', '!', 'french', 'guard', ':', 'no', 'chance', ',', 'english', 'bed', '-', 'wetting', 'types', '.', 'i', 'burst', 'my', 'pimples', 'at', 'you', 'and', 'call', 'your', 'door', '-', 'opening', 'request', 'a', 'silly', 'thing', ',', 'you', 'tiny', '-', 'brained', 'wipers', 'of', 'other', 'people', \"'\", 's', 'bottoms', '!', 'arthur', ':', 'if', 'you', 'do', 'not', 'open', 'this', 'door', ',', 'we', 'shall', 'take', 'this', 'castle', 'by', 'force', '!', '[', 'splat', ']', 'in', 'the', 'name', 'of', 'god', 'and', 'the', 'glory', 'of', 'our', '--', '[', 'splat', ']', 'french', 'guards', ':', '[', 'laughing', ']', 'arthur', ':', 'agh', '.', 'right', '!', 'that', 'settles', 'it', '!', 'french', 'guard', ':', 'yes', ',', 'depart', 'a', 'lot', 'at', 'this', 'time', ',', 'and', 'cut', 'the', 'approaching', 'any', 'more', 'or', 'we', 'fire', 'arrows', 'at', 'the', 'tops', 'of', 'your', 'heads', 'and', 'make', 'castanets', 'out', 'of', 'your', 'testicles', 'already', '!', 'ha', 'ha', 'haaa', 'ha', '!', 'arthur', ':', 'walk', 'away', '.', 'just', 'ignore', 'them', '.', 'french', 'guard', ':', 'and', 'now', ',', 'remain', 'gone', ',', 'illegitimate', '-', 'faced', 'bugger', '-', 'folk', '!', 'and', ',', 'if', 'you', 'think', 'you', 'got', 'a', 'nasty', 'taunting', 'this', 'time', ',', 'you', 'ain', \"'\", 't', 'heard', 'nothing', 'yet', ',', 'dappy', 'english', 'k', '-', 'nnniggets', '!', 'thpppt', '!', 'french', 'guards', ':', '[', 'taunting', ']', 'arthur', ':', 'we', 'shall', 'attack', 'at', 'once', '!', 'bedevere', ':', 'yes', ',', 'my', 'liege', '!', 'arthur', ':', 'stand', 'by', 'for', 'attack', '!', '[', 'exciting', 'music', ']', '[', 'music', 'stops', ']', '[', 'silence', ']', 'french', 'persons', '!', 'french', 'guards', ':', '[', 'taunting', ']', '...', 'dappy', '!', '...', 'arthur', ':', 'today', 'the', 'blood', 'of', 'many', 'a', 'valiant', 'knight', 'shall', 'be', 'avenged', '.', 'in', 'the', 'name', 'of', 'god', ',', '...', 'french', 'guards', ':', 'hoo', 'hoo', '!', 'ohh', ',', 'ha', 'ha', 'ha', 'ha', 'ha', '!', '...', 'arthur', ':', '...', 'we', 'shall', 'not', 'stop', 'our', 'fight', \"'\", 'til', 'each', 'one', 'of', 'you', 'lies', 'dead', ',', 'and', 'the', 'holy', 'grail', 'returns', 'to', 'those', 'whom', 'god', 'has', 'chosen', '!', 'french', 'guards', ':', '...', 'ha', 'ha', 'ha', '!', '...', 'arthur', ':', 'charge', '!', 'army', 'of', 'knights', ':', 'hooray', '!', '[', 'police', 'siren', ']', 'historian', \"'\", 's', 'wife', ':', 'yes', '.', 'they', \"'\", 're', 'the', 'ones', '.', 'i', \"'\", 'm', 'sure', '.', 'inspector', ':', 'come', 'on', '.', 'anybody', 'armed', 'must', 'go', 'too', '.', 'officer', '#', '1', ':', 'all', 'right', '.', 'come', 'on', '.', 'back', '.', 'historian', \"'\", 's', 'wife', ':', 'get', 'that', 'one', '.', 'officer', '#', '1', ':', 'back', '.', 'right', 'away', '.', 'just', '...', 'pull', 'it', 'off', '.', 'come', 'on', '.', 'come', 'along', '.', 'inspector', ':', 'put', 'this', 'man', 'in', 'the', 'van', '.', 'officer', '#', '1', ':', 'clear', 'off', '.', 'come', 'on', '.', 'bedevere', ':', 'with', 'whom', '?', 'inspector', ':', 'which', 'one', '?', 'officer', '#', '1', ':', 'oh', '--', 'this', 'one', '.', 'inspector', ':', 'come', 'on', '.', 'put', 'him', 'in', 'the', 'van', '.', 'officer', '#', '2', ':', 'get', 'a', 'blanket', '.', 'officer', '#', '1', ':', 'we', 'have', 'no', 'hospital', '.', 'random', ':', 'ahh', '.', '[', 'squeak', ']', 'random', ':', 'ooh', '.', 'officer', '#', '1', ':', 'come', 'on', '.', 'back', '.', 'riiight', 'back', '.', 'come', 'on', '!', 'officer', '#', '2', ':', 'run', 'along', '!', 'run', 'along', '!', 'officer', '#', '1', ':', 'pull', 'that', 'off', '.', 'my', ',', 'that', \"'\", 's', 'an', 'offensive', 'weapon', ',', 'that', 'is', '.', 'officer', '#', '2', ':', 'come', 'on', '.', 'back', 'with', \"'\", 'em', '.', 'back', '.', 'right', '.', 'come', 'along', '.', 'inspector', ':', 'everything', '?', '[', 'squeak', ']', 'officer', '#', '1', ':', 'all', 'right', ',', 'sonny', '.', 'that', \"'\", 's', 'enough', '.', 'just', 'pack', 'that', 'in', '.', '[', 'crash', ']', 'cameraman', ':', 'christ', '!']\n",
      "king matches 38\n",
      "\n",
      " king matcher percentage\n"
     ]
    },
    {
     "data": {
      "text/plain": [
       "0.22396416573348266"
      ]
     },
     "execution_count": 45,
     "metadata": {},
     "output_type": "execute_result"
    }
   ],
   "source": [
    "# Question 11\n",
    "import re\n",
    "king_matches = [i.lower() for i in text6]\n",
    "print(king_matches)\n",
    "king_matches = king_matches.count('king')\n",
    "print('king matches',king_matches)\n",
    "total = len(text6)\n",
    "king_matches_perc = king_matches/total*100\n",
    "print('\\n king matcher percentage')\n",
    "king_matches_perc"
   ]
  },
  {
   "cell_type": "code",
   "execution_count": null,
   "id": "c8b45ed8",
   "metadata": {},
   "outputs": [
    {
     "name": "stdout",
     "output_type": "stream",
     "text": [
      "<FreqDist with 2166 samples and 16967 outcomes>\n",
      "[(':', 1197), ('.', 816), ('!', 801), (',', 731), (\"'\", 421), ('[', 319), (']', 312), ('the', 299), ('I', 255), ('ARTHUR', 225), ('?', 207), ('you', 204), ('a', 188), ('of', 158), ('--', 148), ('to', 144), ('s', 141), ('and', 135), ('#', 127), ('...', 118), ('Oh', 110), ('it', 107), ('is', 106), ('-', 88), ('in', 86), ('that', 84), ('t', 77), ('1', 76), ('No', 76), ('LAUNCELOT', 76), ('your', 75), ('not', 70), ('GALAHAD', 69), ('KNIGHT', 68), ('What', 65), ('FATHER', 63), ('we', 62), ('You', 61), ('BEDEVERE', 61), ('We', 60), ('this', 59), ('no', 55), ('Well', 54), ('HEAD', 54), ('have', 53), ('GUARD', 53), ('are', 52), ('Sir', 52), ('A', 50), ('And', 50)]\n",
      "10\n"
     ]
    }
   ],
   "source": [
    "# Question 12\n",
    "fdist1 = FreqDist(text6) \n",
    "print(fdist1) \n",
    "print(fdist1.most_common(50))\n",
    "print(fdist1['king'])\n",
    "\n",
    "'''\n",
    "the - its the most frequently used word to used to point to object giving context to it.\n",
    "I - its the 2nd most used word in terms of defining oneself.\n",
    "Arthur - its the name which is used frequently\n",
    "you - this is the word to define the other person.\n",
    "a - this word want to show a singular word\n",
    "And - it might be because of the capital \"A\" its the lowest counted word\n",
    "'''"
   ]
  },
  {
   "cell_type": "code",
   "execution_count": null,
   "id": "2d387374",
   "metadata": {},
   "outputs": [
    {
     "name": "stdout",
     "output_type": "stream",
     "text": [
      "<FreqDist with 6066 samples and 45010 outcomes>\n",
      "[('.', 1268), ('JOIN', 1021), ('PART', 1016), ('?', 737), ('lol', 704), ('to', 658), ('i', 648), ('the', 646), ('you', 635), (',', 596), ('I', 576), ('a', 568), ('hi', 546), ('me', 415), ('...', 412), ('is', 372), ('..', 361), ('in', 357), ('ACTION', 346), ('!', 342), ('and', 335), ('it', 332), ('that', 274), ('hey', 264), ('my', 242), ('of', 202), ('u', 200), (\"'s\", 195), ('for', 188), ('on', 186), ('what', 183), ('here', 181), ('are', 178), ('not', 170), ('....', 170), ('do', 168), ('all', 165), ('have', 164), ('up', 160), ('like', 156), ('no', 155), ('with', 152), ('chat', 142), ('was', 142), (\"n't\", 141), ('so', 139), ('your', 137), ('/', 133), (\"'m\", 133), ('good', 130)]\n"
     ]
    }
   ],
   "source": [
    "# Question 13\n",
    "fdist1 = FreqDist(text5) \n",
    "print(fdist1) \n",
    "print(fdist1.most_common(50))\n",
    "'''\n",
    "JOIN - the most common word which means there are things which are used to build \n",
    "PART - 2nd most word which means different substance which together builds a body\n",
    "lol - is the word for laugh out loud.\n",
    "good - is the least used word which defines the nature of a thing or a person in a positive manner\n",
    "'''"
   ]
  },
  {
   "cell_type": "code",
   "execution_count": null,
   "id": "c8db9333",
   "metadata": {},
   "outputs": [
    {
     "name": "stdout",
     "output_type": "stream",
     "text": [
      "['computer-generated', 'tissue-transplant', 'school-improvement', 'acquisition-minded', 'anti-morning-sickness', 'early-retirement', 'sometimes-tawdry', 'less-than-brilliant', 'unconstitutional', 'Test-preparation', 'bread-and-butter', 'search-and-seizure', 'identity-management', 'noncompetitively', 'computer-assisted', 'property\\\\/casualty', 'larger-than-normal', 'automotive-lighting', 'investor-relations', 'machine-gun-toting', 'seven-million-ton', 'anti-abortionists', 'securities-based', 'electric-utility', 'telephone-information', 'price-depressing', 'Louisiana-Pacific', 'most-likely-successor', 'truth-in-lending', 'English-speaking', 'electrical-safety', 'Lafite-Rothschild', 'self-aggrandizing', 'Metallgesellschaft', 'disproportionate', 'government-owned', 'non-encapsulating', 'intellectual-property', 'housing-assistance', 'anti-miscarriage', 'test-preparation', 'Renaissance-style', 'Property\\\\/casualty', 'Corton-Charlemagne', 'creditworthiness', 'substance-abusing', 'savers\\\\/investors', 'language-housekeeper', 'labor-management', 'incentive-backed', 'Macmillan\\\\/McGraw-Hill', 'telecommunications', 'interest-bearing', 'automotive-parts', 'Hart-Scott-Rodino', 'recession-inspired', 'limited-partnership', 'insurance-company', 'life-of-contract', 'Freeport-McMoRan', 'Sacramento-based', 'investment-grade', 'government-funded', 'industry-supported', 'newspaper-printing', 'industrial-production', 'pianist-comedian', 'get-out-the-vote', 'sometimes-exhausting', 'Arbitrage-related', 'marketing-communications', 'battery-operated', '238,000-circulation', 'Philadelphia-based', 'parts-engineering', 'savings-and-loan', 'yet-to-be-formed', 'non-biodegradable', 'building-products', 'Washington-based', 'Chinese-American', 'Minneapolis-based', 'disaster-assistance', 'direct-investment', 'abortion-related', 'school-sponsored', 'government-certified', 'counterrevolutionary', 'Bridgestone\\\\/Firestone', 'dollar-denominated', 'Macmillan\\\\/McGraw', 'Prudential-Bache', 'diethylstilbestrol', 'state-supervised', 'constitutional-law', 'stock-specialist', 'multibillion-dollar', 'over-the-counter', 'financial-services', 'revenue-desperate', 'achievement-test', 'weapons-modernization', 'self-perpetuating', 'Trockenbeerenauslesen', 'anti-programmers', 'responsibilities', 'information-services', 'headcount-control', 'current-carrying', 'shareholder-rights', 'computer-services', 'equal-opportunity', 'asbestos-related', 'yttrium-containing', 'collective-bargaining', 'executive-office', 'stock-manipulation', 'computer-system-design', 'public-relations', 'environmentalists']\n"
     ]
    }
   ],
   "source": [
    "# Question 14\n",
    "V = set(text7) \n",
    "long_words = [w for w in V if len(w) > 15] \n",
    "print(long_words) "
   ]
  },
  {
   "cell_type": "code",
   "execution_count": null,
   "id": "7a340d0c",
   "metadata": {},
   "outputs": [],
   "source": [
    "def f_to_count(text):\n",
    "    # words = text.split()\n",
    "    d = {}\n",
    "    for word in text:\n",
    "        if word in d:\n",
    "            d[word] += 1\n",
    "        else:\n",
    "            d[word] = 1  \n",
    "    result = []\n",
    "    for i_key, i_values in d.items():\n",
    "        if i_values>7:\n",
    "            result.append(i_key)       \n",
    "    return result"
   ]
  },
  {
   "cell_type": "code",
   "execution_count": null,
   "id": "73b9b078",
   "metadata": {},
   "outputs": [
    {
     "name": "stdout",
     "output_type": "stream",
     "text": [
      "['LAUNCELOT', 'BEDEVERE', 'VILLAGER', 'Launcelot', 'NARRATOR', 'BRIDGEKEEPER', 'questions', 'CUSTOMER', 'MINSTREL', 'shrubbery', 'CHARACTER', 'CONCORDE']\n"
     ]
    }
   ],
   "source": [
    "# Question 15\n",
    "fdist = FreqDist(text6)\n",
    "long_words = [w for w in fdist if (len(w) > 7 and fdist[w]>7)] \n",
    "# words = f_to_count(long_words)\n",
    "print(long_words)"
   ]
  },
  {
   "cell_type": "code",
   "execution_count": null,
   "id": "8cc5d6c8",
   "metadata": {},
   "outputs": [
    {
     "name": "stdout",
     "output_type": "stream",
     "text": [
      "would like; medium build; social drinker; quiet nights; non smoker;\n",
      "long term; age open; Would like; easy going; financially secure; fun\n",
      "times; similar interests; Age open; weekends away; poss rship; well\n",
      "presented; never married; single mum; permanent relationship; slim\n",
      "build\n"
     ]
    }
   ],
   "source": [
    "# Question 16\n",
    "text8.collocations() "
   ]
  },
  {
   "cell_type": "markdown",
   "id": "961b9e24",
   "metadata": {},
   "source": [
    "### Question 17"
   ]
  },
  {
   "cell_type": "code",
   "execution_count": null,
   "id": "00a4e094",
   "metadata": {},
   "outputs": [
    {
     "data": {
      "text/plain": [
       "['Stock-index',\n",
       " 'index-arbitrage',\n",
       " 'index-fund',\n",
       " 'index-options',\n",
       " 'index-related',\n",
       " 'stock-index']"
      ]
     },
     "execution_count": 67,
     "metadata": {},
     "output_type": "execute_result"
    }
   ],
   "source": [
    "sorted([w for w in set(text7) if '-' in w and 'index' in w])\n",
    "'''\n",
    "giving text having having 'index' and '-'(hyphen) in it.\n",
    "'''"
   ]
  },
  {
   "cell_type": "code",
   "execution_count": null,
   "id": "2269df68",
   "metadata": {},
   "outputs": [
    {
     "data": {
      "text/plain": [
       "['Abelmizraim',\n",
       " 'Allonbachuth',\n",
       " 'Beerlahairoi',\n",
       " 'Canaanitish',\n",
       " 'Chedorlaomer',\n",
       " 'Girgashites',\n",
       " 'Hazarmaveth',\n",
       " 'Hazezontamar',\n",
       " 'Ishmeelites',\n",
       " 'Jegarsahadutha',\n",
       " 'Jehovahjireh',\n",
       " 'Kirjatharba',\n",
       " 'Melchizedek',\n",
       " 'Mesopotamia',\n",
       " 'Peradventure',\n",
       " 'Philistines',\n",
       " 'Zaphnathpaaneah']"
      ]
     },
     "execution_count": 68,
     "metadata": {},
     "output_type": "execute_result"
    }
   ],
   "source": [
    "sorted([wd for wd in set(text3) if wd.istitle() and len(wd) > 10]) \n",
    "'''\n",
    "giving me text with more than 10 characters.\n",
    "'''"
   ]
  },
  {
   "cell_type": "code",
   "execution_count": null,
   "id": "f1198227",
   "metadata": {},
   "outputs": [
    {
     "data": {
      "text/plain": [
       "['ancient',\n",
       " 'ceiling',\n",
       " 'conceit',\n",
       " 'conceited',\n",
       " 'conceive',\n",
       " 'conscience',\n",
       " 'conscientious',\n",
       " 'conscientiously',\n",
       " 'deceitful',\n",
       " 'deceive',\n",
       " 'deceived',\n",
       " 'deceiving',\n",
       " 'deficiencies',\n",
       " 'deficiency',\n",
       " 'deficient',\n",
       " 'delicacies',\n",
       " 'excellencies',\n",
       " 'fancied',\n",
       " 'insufficiency',\n",
       " 'insufficient',\n",
       " 'legacies',\n",
       " 'perceive',\n",
       " 'perceived',\n",
       " 'perceiving',\n",
       " 'prescience',\n",
       " 'prophecies',\n",
       " 'receipt',\n",
       " 'receive',\n",
       " 'received',\n",
       " 'receiving',\n",
       " 'society',\n",
       " 'species',\n",
       " 'sufficient',\n",
       " 'sufficiently',\n",
       " 'undeceive',\n",
       " 'undeceiving']"
      ]
     },
     "execution_count": 69,
     "metadata": {},
     "output_type": "execute_result"
    }
   ],
   "source": [
    "sorted([t for t in set(text2) if 'cie' in t or 'cei' in t]) \n",
    "'''\n",
    "giving words having 'cie' or 'cei' in it.\n",
    "'''"
   ]
  }
 ],
 "metadata": {
  "kernelspec": {
   "display_name": "myenv",
   "language": "python",
   "name": "python3"
  },
  "language_info": {
   "codemirror_mode": {
    "name": "ipython",
    "version": 3
   },
   "file_extension": ".py",
   "mimetype": "text/x-python",
   "name": "python",
   "nbconvert_exporter": "python",
   "pygments_lexer": "ipython3",
   "version": "3.12.8"
  }
 },
 "nbformat": 4,
 "nbformat_minor": 5
}
