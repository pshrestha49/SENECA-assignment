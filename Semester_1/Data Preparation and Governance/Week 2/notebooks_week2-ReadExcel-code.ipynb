{
  "metadata": {
    "language_info": {
      "codemirror_mode": {
        "name": "python",
        "version": 3
      },
      "file_extension": ".py",
      "mimetype": "text/x-python",
      "name": "python",
      "nbconvert_exporter": "python",
      "pygments_lexer": "ipython3",
      "version": "3.8"
    },
    "kernelspec": {
      "name": "python",
      "display_name": "Python (Pyodide)",
      "language": "python"
    }
  },
  "nbformat_minor": 4,
  "nbformat": 4,
  "cells": [
    {
      "cell_type": "code",
      "source": "# AIG150 Winter 2024\n# Week 2 Sample Code \n# Asma M Paracha\n# reading from an excel file",
      "metadata": {},
      "execution_count": null,
      "outputs": []
    },
    {
      "cell_type": "code",
      "source": "# install the xlrd package to read excel files\n%pip install xlrd\n",
      "metadata": {
        "trusted": true
      },
      "execution_count": null,
      "outputs": []
    },
    {
      "cell_type": "code",
      "source": "import pandas as pd\nimport xlrd\nxls = pd.ExcelFile(\"data.xls\")",
      "metadata": {
        "trusted": true
      },
      "execution_count": 3,
      "outputs": []
    },
    {
      "cell_type": "code",
      "source": "trig_values = xls.parse('Sheet1',index_col=None,na_values=['NA'])\nprint(trig_values)",
      "metadata": {
        "trusted": true
      },
      "execution_count": 4,
      "outputs": [
        {
          "name": "stdout",
          "text": "    year               artist                    track      time date.entered  \\\n0   2000                2 Pac  Baby Don't Cry (Keep...  04:22:00   2000-02-26   \n1   2000              2Ge+her  The Hardest Part Of ...  03:15:00   2000-09-02   \n2   2000         3 Doors Down               Kryptonite  03:53:00   2000-04-08   \n3   2000         3 Doors Down                    Loser  04:24:00   2000-10-21   \n4   2000             504 Boyz            Wobble Wobble  03:35:00   2000-04-15   \n5   2000                 98^0  Give Me Just One Nig...  03:24:00   2000-08-19   \n6   2000              A*Teens            Dancing Queen  03:44:00   2000-07-08   \n7   2000              Aaliyah            I Don't Wanna  04:15:00   2000-01-29   \n8   2000              Aaliyah                Try Again  04:03:00   2000-03-18   \n9   2000       Adams, Yolanda            Open My Heart  05:30:00   2000-08-26   \n10  2000        Adkins, Trace                     More  03:05:00   2000-04-29   \n11  2000  Aguilera, Christina  Come On Over Baby (A...  03:38:00   2000-08-05   \n12  2000  Aguilera, Christina            I Turn To You  04:00:00   2000-04-15   \n13  2000  Aguilera, Christina        What A Girl Wants  03:18:00   1999-11-27   \n14  2000         Alice Deejay         Better Off Alone  06:50:00   2000-04-08   \n15  2000          Allan, Gary  Smoke Rings In The D...  04:18:00   2000-01-22   \n16  2000                Amber                   Sexual  04:38:00   1999-07-17   \n17  2000            Anastacia           I'm Outta Love  04:01:00   2000-04-01   \n18  2000        Anthony, Marc              My Baby You  03:59:00   2000-09-16   \n19  2000        Anthony, Marc           You Sang To Me  03:50:00   2000-02-26   \n20  2000                Avant            My First Love  04:28:00   2000-11-04   \n21  2000                Avant                Separated  04:13:00   2000-04-29   \n22  2000                BBMak                Back Here  03:35:00   2000-04-29   \n\n    wk1  rating  \n0   wk1      87  \n1   wk1      91  \n2   wk1      81  \n3   wk1      76  \n4   wk1      57  \n5   wk1      51  \n6   wk1      97  \n7   wk1      84  \n8   wk1      59  \n9   wk1      76  \n10  wk1      84  \n11  wk1      57  \n12  wk1      50  \n13  wk1      71  \n14  wk1      79  \n15  wk1      80  \n16  wk1      99  \n17  wk1      92  \n18  wk1      82  \n19  wk1      77  \n20  wk1      70  \n21  wk1      62  \n22  wk1      99  \n",
          "output_type": "stream"
        }
      ]
    },
    {
      "cell_type": "code",
      "source": "",
      "metadata": {},
      "execution_count": null,
      "outputs": []
    }
  ]
}