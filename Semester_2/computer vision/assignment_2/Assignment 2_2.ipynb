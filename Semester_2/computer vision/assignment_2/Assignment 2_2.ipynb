{
 "cells": [
  {
   "cell_type": "code",
   "execution_count": 1,
   "id": "bc0858f2",
   "metadata": {},
   "outputs": [],
   "source": [
    "import cv2\n",
    "import numpy as np\n",
    "\n",
    "# Drawing mode\n",
    "drawing = False\n",
    "ix, iy = -1, -1\n",
    "\n",
    "# Mouse callback function\n",
    "def draw_shape(event, x, y, flags, param):\n",
    "    global ix, iy, drawing, img\n",
    "\n",
    "    if event == cv2.EVENT_LBUTTONDOWN:\n",
    "        drawing = True\n",
    "        ix, iy = x, y\n",
    "\n",
    "    elif event == cv2.EVENT_MOUSEMOVE:\n",
    "        if drawing:\n",
    "            cv2.circle(img, (x, y), 10, (0, 255, 0), 2)  # green circles\n",
    "\n",
    "    elif event == cv2.EVENT_LBUTTONUP:\n",
    "        drawing = False\n",
    "        cv2.rectangle(img, (ix, iy), (x, y), (255, 0, 0), 3)  # blue rectangle"
   ]
  },
  {
   "cell_type": "code",
   "execution_count": 2,
   "id": "7dd14686",
   "metadata": {},
   "outputs": [],
   "source": [
    "# Load black canvas and displaying the window \n",
    "\n",
    "img = np.zeros((500, 700, 3), np.uint8)\n",
    "cv2.namedWindow('DrawingApp')\n",
    "cv2.setMouseCallback('DrawingApp', draw_shape)\n",
    "\n",
    "while True:\n",
    "    cv2.imshow('DrawingApp', img)\n",
    "    key = cv2.waitKey(1) & 0xFF\n",
    "    if key == ord('x'):\n",
    "        cv2.imwrite('drawing_output.png', img)  # Save when 'x' is pressed\n",
    "        break\n",
    "    elif key == 27:  # ESC to exit without saving\n",
    "        break\n",
    "\n",
    "cv2.destroyAllWindows()\n"
   ]
  },
  {
   "cell_type": "code",
   "execution_count": null,
   "id": "3c9182ee",
   "metadata": {},
   "outputs": [],
   "source": []
  }
 ],
 "metadata": {
  "kernelspec": {
   "display_name": "gvenv",
   "language": "python",
   "name": "python3"
  },
  "language_info": {
   "codemirror_mode": {
    "name": "ipython",
    "version": 3
   },
   "file_extension": ".py",
   "mimetype": "text/x-python",
   "name": "python",
   "nbconvert_exporter": "python",
   "pygments_lexer": "ipython3",
   "version": "3.10.18"
  }
 },
 "nbformat": 4,
 "nbformat_minor": 5
}
