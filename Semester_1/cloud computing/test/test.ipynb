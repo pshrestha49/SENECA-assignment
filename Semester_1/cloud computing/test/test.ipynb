{
 "cells": [
  {
   "cell_type": "code",
   "execution_count": 6,
   "metadata": {},
   "outputs": [
    {
     "data": {
      "application/vnd.jupyter.widget-view+json": {
       "model_id": "5966ae5171f0455189c9e463dca698f2",
       "version_major": 2,
       "version_minor": 0
      },
      "text/plain": [
       "tokenizer_config.json:   0%|          | 0.00/48.0 [00:00<?, ?B/s]"
      ]
     },
     "metadata": {},
     "output_type": "display_data"
    },
    {
     "data": {
      "application/vnd.jupyter.widget-view+json": {
       "model_id": "33c09a5f10674358843526bd4336db33",
       "version_major": 2,
       "version_minor": 0
      },
      "text/plain": [
       "config.json:   0%|          | 0.00/483 [00:00<?, ?B/s]"
      ]
     },
     "metadata": {},
     "output_type": "display_data"
    },
    {
     "data": {
      "application/vnd.jupyter.widget-view+json": {
       "model_id": "59e95b5f36ba4becba37ea02547fd474",
       "version_major": 2,
       "version_minor": 0
      },
      "text/plain": [
       "vocab.txt:   0%|          | 0.00/232k [00:00<?, ?B/s]"
      ]
     },
     "metadata": {},
     "output_type": "display_data"
    },
    {
     "data": {
      "application/vnd.jupyter.widget-view+json": {
       "model_id": "e825197a0acb4141b6a45b87a3ce0128",
       "version_major": 2,
       "version_minor": 0
      },
      "text/plain": [
       "tokenizer.json:   0%|          | 0.00/466k [00:00<?, ?B/s]"
      ]
     },
     "metadata": {},
     "output_type": "display_data"
    },
    {
     "data": {
      "application/vnd.jupyter.widget-view+json": {
       "model_id": "20033d44ede94e209642c30b6e6fa432",
       "version_major": 2,
       "version_minor": 0
      },
      "text/plain": [
       "model.safetensors:   0%|          | 0.00/268M [00:00<?, ?B/s]"
      ]
     },
     "metadata": {},
     "output_type": "display_data"
    }
   ],
   "source": [
    "from datasets import load_dataset\n",
    "from transformers import AutoTokenizer, AutoModel\n",
    "import torch\n",
    "import numpy as np\n",
    "\n",
    "# Load dataset (using HuggingFace 'emotion' as an example)\n",
    "dataset = load_dataset('emotion')\n",
    "train_texts = dataset['train']['text'][:1000]  # Take first 1000 samples\n",
    "train_labels = dataset['train']['label'][:1000]  # Ensure labels match\n",
    "\n",
    "# Initialize tokenizer and model (using DistilBERT for efficiency)\n",
    "tokenizer = AutoTokenizer.from_pretrained('distilbert-base-uncased')\n",
    "model = AutoModel.from_pretrained('distilbert-base-uncased')\n",
    "\n",
    "# Generate embeddings (CLS token as sentence representation)\n",
    "def get_embeddings(texts):\n",
    "    inputs = tokenizer(texts, return_tensors='pt', padding=True, truncation=True, max_length=128)\n",
    "    with torch.no_grad():\n",
    "        outputs = model(**inputs)\n",
    "    return outputs.last_hidden_state[:, 0, :].numpy()  # Shape: (n_samples, 768)\n",
    "\n",
    "train_embeddings = get_embeddings(train_texts)  # Now shape (1000, 768)"
   ]
  },
  {
   "cell_type": "code",
   "execution_count": 7,
   "metadata": {},
   "outputs": [
    {
     "name": "stderr",
     "output_type": "stream",
     "text": [
      "Version 0.12.2 of tpot is outdated. Version 1.0.0 was released Wednesday February 26, 2025.\n"
     ]
    },
    {
     "data": {
      "application/vnd.jupyter.widget-view+json": {
       "model_id": "fa4e302046b04c918b2dc17c6b607e15",
       "version_major": 2,
       "version_minor": 0
      },
      "text/plain": [
       "Optimization Progress:   0%|          | 0/120 [00:00<?, ?pipeline/s]"
      ]
     },
     "metadata": {},
     "output_type": "display_data"
    },
    {
     "name": "stdout",
     "output_type": "stream",
     "text": [
      "\n",
      "Generation 1 - Current best internal CV score: 0.51375\n",
      "\n",
      "Generation 2 - Current best internal CV score: 0.51375\n",
      "\n",
      "Generation 3 - Current best internal CV score: 0.5225\n",
      "\n",
      "Generation 4 - Current best internal CV score: 0.525\n",
      "\n",
      "Generation 5 - Current best internal CV score: 0.525\n",
      "\n",
      "Best pipeline: MLPClassifier(GradientBoostingClassifier(StandardScaler(input_matrix), learning_rate=0.01, max_depth=5, max_features=0.15000000000000002, min_samples_leaf=8, min_samples_split=5, n_estimators=100, subsample=0.9500000000000001), alpha=0.01, learning_rate_init=0.001)\n"
     ]
    },
    {
     "ename": "AttributeError",
     "evalue": "'list' object has no attribute 'astype'",
     "output_type": "error",
     "traceback": [
      "\u001b[1;31m---------------------------------------------------------------------------\u001b[0m",
      "\u001b[1;31mAttributeError\u001b[0m                            Traceback (most recent call last)",
      "Cell \u001b[1;32mIn[7], line 25\u001b[0m\n\u001b[0;32m     22\u001b[0m tpot\u001b[38;5;241m.\u001b[39mfit(X_train, y_train)\n\u001b[0;32m     24\u001b[0m \u001b[38;5;66;03m# Evaluate\u001b[39;00m\n\u001b[1;32m---> 25\u001b[0m \u001b[38;5;28mprint\u001b[39m(\u001b[38;5;124mf\u001b[39m\u001b[38;5;124m\"\u001b[39m\u001b[38;5;124mTest Accuracy: \u001b[39m\u001b[38;5;132;01m{\u001b[39;00m\u001b[43mtpot\u001b[49m\u001b[38;5;241;43m.\u001b[39;49m\u001b[43mscore\u001b[49m\u001b[43m(\u001b[49m\u001b[43mX_test\u001b[49m\u001b[43m,\u001b[49m\u001b[38;5;250;43m \u001b[39;49m\u001b[43my_test\u001b[49m\u001b[43m)\u001b[49m\u001b[38;5;132;01m:\u001b[39;00m\u001b[38;5;124m.2f\u001b[39m\u001b[38;5;132;01m}\u001b[39;00m\u001b[38;5;124m\"\u001b[39m)\n\u001b[0;32m     27\u001b[0m \u001b[38;5;66;03m# Export the best pipeline to a Python file\u001b[39;00m\n\u001b[0;32m     28\u001b[0m tpot\u001b[38;5;241m.\u001b[39mexport(\u001b[38;5;124m'\u001b[39m\u001b[38;5;124mbest_pipeline.py\u001b[39m\u001b[38;5;124m'\u001b[39m)\n",
      "File \u001b[1;32mc:\\Users\\W1tcher\\anaconda3\\envs\\myenv\\Lib\\site-packages\\tpot\\base.py:1109\u001b[0m, in \u001b[0;36mTPOTBase.score\u001b[1;34m(self, testing_features, testing_target)\u001b[0m\n\u001b[0;32m   1102\u001b[0m \u001b[38;5;28;01melse\u001b[39;00m:\n\u001b[0;32m   1103\u001b[0m     \u001b[38;5;28;01mraise\u001b[39;00m \u001b[38;5;167;01mRuntimeError\u001b[39;00m(\n\u001b[0;32m   1104\u001b[0m         \u001b[38;5;124m\"\u001b[39m\u001b[38;5;124mThe scoring function should either be the name of a scikit-learn scorer or a scorer object\u001b[39m\u001b[38;5;124m\"\u001b[39m\n\u001b[0;32m   1105\u001b[0m     )\n\u001b[0;32m   1106\u001b[0m score \u001b[38;5;241m=\u001b[39m scorer(\n\u001b[0;32m   1107\u001b[0m     \u001b[38;5;28mself\u001b[39m\u001b[38;5;241m.\u001b[39mfitted_pipeline_,\n\u001b[0;32m   1108\u001b[0m     testing_features\u001b[38;5;241m.\u001b[39mastype(np\u001b[38;5;241m.\u001b[39mfloat64),\n\u001b[1;32m-> 1109\u001b[0m     \u001b[43mtesting_target\u001b[49m\u001b[38;5;241;43m.\u001b[39;49m\u001b[43mastype\u001b[49m(np\u001b[38;5;241m.\u001b[39mfloat64),\n\u001b[0;32m   1110\u001b[0m )\n\u001b[0;32m   1111\u001b[0m \u001b[38;5;28;01mreturn\u001b[39;00m score\n",
      "\u001b[1;31mAttributeError\u001b[0m: 'list' object has no attribute 'astype'"
     ]
    }
   ],
   "source": [
    "from tpot import TPOTClassifier\n",
    "from sklearn.model_selection import train_test_split\n",
    "\n",
    "# Split data (X = embeddings, y = labels)\n",
    "X_train, X_test, y_train, y_test = train_test_split(\n",
    "    train_embeddings,  # Shape (1000, 768)\n",
    "    train_labels,      # Shape (1000,)\n",
    "    test_size=0.2,\n",
    "    random_state=42\n",
    ")\n",
    "\n",
    "# Initialize TPOT (optimizes pipelines using genetic algorithms)\n",
    "tpot = TPOTClassifier(\n",
    "    generations=5,       # Number of optimization iterations\n",
    "    population_size=20,  # Models evaluated per generation\n",
    "    verbosity=2,         # Shows progress\n",
    "    random_state=42,\n",
    "    n_jobs=-1            # Uses all CPU cores\n",
    ")\n",
    "\n",
    "# Train TPOT (finds best pipeline)\n",
    "tpot.fit(X_train, y_train)\n",
    "\n",
    "# Evaluate\n",
    "print(f\"Test Accuracy: {tpot.score(X_test, y_test):.2f}\")\n",
    "\n",
    "# Export the best pipeline to a Python file\n",
    "tpot.export('best_pipeline.py')"
   ]
  },
  {
   "cell_type": "code",
   "execution_count": null,
   "metadata": {},
   "outputs": [],
   "source": []
  }
 ],
 "metadata": {
  "kernelspec": {
   "display_name": "myenv",
   "language": "python",
   "name": "python3"
  },
  "language_info": {
   "codemirror_mode": {
    "name": "ipython",
    "version": 3
   },
   "file_extension": ".py",
   "mimetype": "text/x-python",
   "name": "python",
   "nbconvert_exporter": "python",
   "pygments_lexer": "ipython3",
   "version": "3.12.8"
  }
 },
 "nbformat": 4,
 "nbformat_minor": 2
}
