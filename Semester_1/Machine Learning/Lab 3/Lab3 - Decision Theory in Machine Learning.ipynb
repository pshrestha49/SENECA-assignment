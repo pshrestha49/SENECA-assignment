{
 "cells": [
  {
   "cell_type": "markdown",
   "metadata": {},
   "source": [
    "# Lab 3 - Decision Theory in Machine Learning\n",
    "\n",
    "Welcome to this week's lab on Decision Theory! This week, we are going to explore the basics of making decisions using simple and intuitive examples. Ads we have not yet started discussing neural networks, there is no need for deep knowledge in machine learning or neural networks here. We are focusing on the core principles that underlie decision-making in computational systems.\n",
    "\n",
    "## Objectives\n",
    "\n",
    "1. Understand the fundamentals of Decision Theory.\n",
    "2. Apply Decision Theory to solve simple problems.\n",
    "3. Develop the skills to implement basic decision-making systems."
   ]
  },
  {
   "cell_type": "markdown",
   "metadata": {},
   "source": [
    "## Part 1: Choosing a Vacation Destination\n",
    "\n",
    "In this example, we will decide on a vacation destination based on various factors like cost, distance, and activities."
   ]
  },
  {
   "cell_type": "markdown",
   "metadata": {},
   "source": [
    "### Step 1: Define the Problem\n",
    "\n",
    "Let's define the problem:\n",
    "- We have 3 vacation destinations: Beach, Mountain, and City.\n",
    "- Each destination is evaluated based on three criteria: cost (low, medium, high), distance (near, far), and activities (few, many)."
   ]
  },
  {
   "cell_type": "markdown",
   "metadata": {},
   "source": [
    "### Step 2: Create the Decision Matrix\n",
    "\n",
    "One approach to tackle such problems is to create a Decision Matrix! A Dcision Matrix for this problem can be created as below:"
   ]
  },
  {
   "cell_type": "code",
   "execution_count": 1,
   "metadata": {},
   "outputs": [],
   "source": [
    "import pandas as pd\n",
    "\n",
    "# Define the decision matrix\n",
    "data = {\n",
    "    'Cost': ['Low', 'High', 'Medium'],\n",
    "    'Distance': ['Near', 'Far', 'Near'],\n",
    "    'Activities': ['Many', 'Few', 'Many']\n",
    "}\n",
    "destinations = pd.DataFrame(data, index=['Beach', 'Mountain', 'City'])"
   ]
  },
  {
   "cell_type": "markdown",
   "metadata": {},
   "source": [
    "### Step 3: Apply Decision Rules\n",
    "\n",
    "We can create a simple scoring system for each criterion (e.g., Low Cost = 3 points, High Cost = 1 point). Then we can calculate the total score for each destination."
   ]
  },
  {
   "cell_type": "code",
   "execution_count": 2,
   "metadata": {},
   "outputs": [],
   "source": [
    "# Decision rules as functions\n",
    "def cost_score(cost):\n",
    "    if cost == 'Low':\n",
    "        return 3\n",
    "    elif cost == 'Medium':\n",
    "        return 2\n",
    "    else:\n",
    "        return 1\n",
    "\n",
    "def distance_score(distance):\n",
    "    return 3 if distance == 'Near' else 1\n",
    "\n",
    "def activities_score(activities):\n",
    "    return 3 if activities == 'Many' else 1"
   ]
  },
  {
   "cell_type": "markdown",
   "metadata": {},
   "source": [
    "### Step 4: Make a Decision\n",
    "\n",
    "Now, we are ready to make a decision on which destination to choose based on the highest score."
   ]
  },
  {
   "cell_type": "code",
   "execution_count": 3,
   "metadata": {},
   "outputs": [
    {
     "data": {
      "text/html": [
       "<div>\n",
       "<style scoped>\n",
       "    .dataframe tbody tr th:only-of-type {\n",
       "        vertical-align: middle;\n",
       "    }\n",
       "\n",
       "    .dataframe tbody tr th {\n",
       "        vertical-align: top;\n",
       "    }\n",
       "\n",
       "    .dataframe thead th {\n",
       "        text-align: right;\n",
       "    }\n",
       "</style>\n",
       "<table border=\"1\" class=\"dataframe\">\n",
       "  <thead>\n",
       "    <tr style=\"text-align: right;\">\n",
       "      <th></th>\n",
       "      <th>Cost</th>\n",
       "      <th>Distance</th>\n",
       "      <th>Activities</th>\n",
       "      <th>Total Score</th>\n",
       "    </tr>\n",
       "  </thead>\n",
       "  <tbody>\n",
       "    <tr>\n",
       "      <th>Beach</th>\n",
       "      <td>Low</td>\n",
       "      <td>Near</td>\n",
       "      <td>Many</td>\n",
       "      <td>9</td>\n",
       "    </tr>\n",
       "    <tr>\n",
       "      <th>Mountain</th>\n",
       "      <td>High</td>\n",
       "      <td>Far</td>\n",
       "      <td>Few</td>\n",
       "      <td>3</td>\n",
       "    </tr>\n",
       "    <tr>\n",
       "      <th>City</th>\n",
       "      <td>Medium</td>\n",
       "      <td>Near</td>\n",
       "      <td>Many</td>\n",
       "      <td>8</td>\n",
       "    </tr>\n",
       "  </tbody>\n",
       "</table>\n",
       "</div>"
      ],
      "text/plain": [
       "            Cost Distance Activities  Total Score\n",
       "Beach        Low     Near       Many            9\n",
       "Mountain    High      Far        Few            3\n",
       "City      Medium     Near       Many            8"
      ]
     },
     "execution_count": 3,
     "metadata": {},
     "output_type": "execute_result"
    }
   ],
   "source": [
    "# Calculate scores\n",
    "destinations['Total Score'] = destinations.apply(lambda x: cost_score(x['Cost']) + distance_score(x['Distance']) + activities_score(x['Activities']), axis=1)\n",
    "\n",
    "# Display the result\n",
    "destinations"
   ]
  },
  {
   "cell_type": "markdown",
   "metadata": {},
   "source": [
    "## Part 2: Choosing a Smartphone\n",
    "\n",
    "Your task is to choose a smartphone based on different criteria like price, battery life, and camera quality.\n",
    "\n",
    "Tasks\n",
    "Define your criteria for selecting a smartphone.\n",
    "Set up a decision matrix for different smartphone options.\n",
    "Apply decision rules to score each smartphone.\n",
    "Make a decision based on the highest score.\n",
    "Guidelines\n",
    "Think about the factors that are most important to you in a smartphone.\n",
    "Be creative in defining your scoring system."
   ]
  },
  {
   "cell_type": "markdown",
   "metadata": {},
   "source": [
    "### Task 1: Criteria\n",
    "Define your criteria for selecting a smartphone."
   ]
  },
  {
   "cell_type": "code",
   "execution_count": 23,
   "metadata": {},
   "outputs": [],
   "source": [
    "# Your code and/or explanation goes here\n",
    "price_list = ['medium','low', 'high']\n",
    "battery_life_list = ['long', 'short', 'long']\n",
    "camera_quality = ['high', 'low', 'high']\n",
    "display_quality = ['high', 'medium', 'high']\n"
   ]
  },
  {
   "cell_type": "markdown",
   "metadata": {},
   "source": [
    "### Task 2: Decision Matrix\n",
    "Set up a decision matrix for different smartphone options."
   ]
  },
  {
   "cell_type": "code",
   "execution_count": 24,
   "metadata": {},
   "outputs": [
    {
     "data": {
      "text/html": [
       "<div>\n",
       "<style scoped>\n",
       "    .dataframe tbody tr th:only-of-type {\n",
       "        vertical-align: middle;\n",
       "    }\n",
       "\n",
       "    .dataframe tbody tr th {\n",
       "        vertical-align: top;\n",
       "    }\n",
       "\n",
       "    .dataframe thead th {\n",
       "        text-align: right;\n",
       "    }\n",
       "</style>\n",
       "<table border=\"1\" class=\"dataframe\">\n",
       "  <thead>\n",
       "    <tr style=\"text-align: right;\">\n",
       "      <th></th>\n",
       "      <th>price_list</th>\n",
       "      <th>battery_life_list</th>\n",
       "      <th>camera_quality</th>\n",
       "      <th>display_quality</th>\n",
       "    </tr>\n",
       "  </thead>\n",
       "  <tbody>\n",
       "    <tr>\n",
       "      <th>samsung</th>\n",
       "      <td>medium</td>\n",
       "      <td>long</td>\n",
       "      <td>high</td>\n",
       "      <td>high</td>\n",
       "    </tr>\n",
       "    <tr>\n",
       "      <th>poco</th>\n",
       "      <td>low</td>\n",
       "      <td>short</td>\n",
       "      <td>low</td>\n",
       "      <td>medium</td>\n",
       "    </tr>\n",
       "    <tr>\n",
       "      <th>apple</th>\n",
       "      <td>high</td>\n",
       "      <td>long</td>\n",
       "      <td>high</td>\n",
       "      <td>high</td>\n",
       "    </tr>\n",
       "  </tbody>\n",
       "</table>\n",
       "</div>"
      ],
      "text/plain": [
       "        price_list battery_life_list camera_quality display_quality\n",
       "samsung     medium              long           high            high\n",
       "poco           low             short            low          medium\n",
       "apple         high              long           high            high"
      ]
     },
     "execution_count": 24,
     "metadata": {},
     "output_type": "execute_result"
    }
   ],
   "source": [
    "# Your code goes here\n",
    "data = {\n",
    "    'price_list': price_list,\n",
    "    'battery_life_list': battery_life_list,\n",
    "    'camera_quality': camera_quality,\n",
    "    'display_quality':display_quality,\n",
    "}\n",
    "smart_phones = pd.DataFrame(data, index=['samsung', 'poco', 'apple'])\n",
    "smart_phones"
   ]
  },
  {
   "cell_type": "markdown",
   "metadata": {},
   "source": [
    "### Task 3: Apply Decision Rules\n",
    "Apply decision rules to score each smartphone."
   ]
  },
  {
   "cell_type": "code",
   "execution_count": 21,
   "metadata": {},
   "outputs": [],
   "source": [
    "# Your code goes here\n",
    "def cost_score(cost):\n",
    "    if cost == 'Low':\n",
    "        return 3\n",
    "    elif cost == 'Medium':\n",
    "        return 2\n",
    "    else:\n",
    "        return 1\n",
    "    \n",
    "def battery_life_score(battery_life):\n",
    "    if battery_life =='long':\n",
    "        return 3\n",
    "    elif battery_life == 'medium':\n",
    "        return 2\n",
    "    else:\n",
    "        return 1\n",
    "\n",
    "def camera_quality_score(camera_quality):\n",
    "    if camera_quality == 'high':\n",
    "        return 3\n",
    "    elif camera_quality == 'Medium':\n",
    "        return 2\n",
    "    else:\n",
    "        return 1\n",
    "\n",
    "def display_quality_score(display_quality):\n",
    "    if display_quality == 'high':\n",
    "        return 3\n",
    "    elif display_quality == 'Medium':\n",
    "        return 2\n",
    "    else:\n",
    "        return 1"
   ]
  },
  {
   "cell_type": "markdown",
   "metadata": {},
   "source": [
    "### Task 4: Final Decision\n",
    "Make a decision based on the highest score."
   ]
  },
  {
   "cell_type": "code",
   "execution_count": 25,
   "metadata": {},
   "outputs": [
    {
     "data": {
      "text/html": [
       "<div>\n",
       "<style scoped>\n",
       "    .dataframe tbody tr th:only-of-type {\n",
       "        vertical-align: middle;\n",
       "    }\n",
       "\n",
       "    .dataframe tbody tr th {\n",
       "        vertical-align: top;\n",
       "    }\n",
       "\n",
       "    .dataframe thead th {\n",
       "        text-align: right;\n",
       "    }\n",
       "</style>\n",
       "<table border=\"1\" class=\"dataframe\">\n",
       "  <thead>\n",
       "    <tr style=\"text-align: right;\">\n",
       "      <th></th>\n",
       "      <th>price_list</th>\n",
       "      <th>battery_life_list</th>\n",
       "      <th>camera_quality</th>\n",
       "      <th>display_quality</th>\n",
       "      <th>Total Score</th>\n",
       "    </tr>\n",
       "  </thead>\n",
       "  <tbody>\n",
       "    <tr>\n",
       "      <th>samsung</th>\n",
       "      <td>medium</td>\n",
       "      <td>long</td>\n",
       "      <td>high</td>\n",
       "      <td>high</td>\n",
       "      <td>10</td>\n",
       "    </tr>\n",
       "    <tr>\n",
       "      <th>poco</th>\n",
       "      <td>low</td>\n",
       "      <td>short</td>\n",
       "      <td>low</td>\n",
       "      <td>medium</td>\n",
       "      <td>4</td>\n",
       "    </tr>\n",
       "    <tr>\n",
       "      <th>apple</th>\n",
       "      <td>high</td>\n",
       "      <td>long</td>\n",
       "      <td>high</td>\n",
       "      <td>high</td>\n",
       "      <td>10</td>\n",
       "    </tr>\n",
       "  </tbody>\n",
       "</table>\n",
       "</div>"
      ],
      "text/plain": [
       "        price_list battery_life_list camera_quality display_quality  \\\n",
       "samsung     medium              long           high            high   \n",
       "poco           low             short            low          medium   \n",
       "apple         high              long           high            high   \n",
       "\n",
       "         Total Score  \n",
       "samsung           10  \n",
       "poco               4  \n",
       "apple             10  "
      ]
     },
     "execution_count": 25,
     "metadata": {},
     "output_type": "execute_result"
    }
   ],
   "source": [
    "# Your code goes here\n",
    "smart_phones['Total Score'] = smart_phones.apply(lambda x: cost_score(x['price_list']) + battery_life_score(x['battery_life_list']) + camera_quality_score(x['camera_quality']) + display_quality_score(x['display_quality']), axis=1)\n",
    "\n",
    "smart_phones"
   ]
  },
  {
   "cell_type": "markdown",
   "metadata": {},
   "source": [
    "### Task 5: Evaluation and Reflection\n",
    "Write your perspctive about Decision Theory. Could the given problem be solved using a different methodology? Explain your answer.\n",
    "\n",
    "#### Answers\n",
    "Decision theory is strucured framework for making decisions based upon various conditions like prices, quality and life expectency of any utility. Its strength lies in guiding any organization to find optimal decision by balancing certain trade offs. However a big down side is that it cannot capture emotional biases or dynamic environment.\n",
    "\n",
    "Yes, many problems framed within Decision Theory could be approached using other methodologies, depending on the context and goals. Some of them are as follows:\n",
    "1. Behavioral Economics/Psychology:\n",
    "The approach analyzes decisions through human behavior while integrating cognitive distortion such as loss aversion and anchoring effects and dimensions of social influence. The model proves valuable for problem resolution when irrational conduct controls the situation or solution prediction proves ineffective.\n",
    "\n",
    "2. Machine Learning/Data-Driven Approaches:\n",
    "The process uses past data to forecast results or sort decisions through unexpressed rule frameworks. Ideal for problems with large datasets or complex patterns (e.g., recommendation systems, risk prediction)."
   ]
  },
  {
   "cell_type": "markdown",
   "metadata": {},
   "source": [
    "## Submission\n",
    "Submit your completed Jupyter Notebook file through the submission link in Blackboard."
   ]
  },
  {
   "cell_type": "code",
   "execution_count": null,
   "metadata": {},
   "outputs": [],
   "source": []
  }
 ],
 "metadata": {
  "kernelspec": {
   "display_name": "myenv",
   "language": "python",
   "name": "python3"
  },
  "language_info": {
   "codemirror_mode": {
    "name": "ipython",
    "version": 3
   },
   "file_extension": ".py",
   "mimetype": "text/x-python",
   "name": "python",
   "nbconvert_exporter": "python",
   "pygments_lexer": "ipython3",
   "version": "3.12.8"
  }
 },
 "nbformat": 4,
 "nbformat_minor": 4
}
