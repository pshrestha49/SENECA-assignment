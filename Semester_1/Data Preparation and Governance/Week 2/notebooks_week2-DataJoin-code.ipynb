{
  "metadata": {
    "language_info": {
      "codemirror_mode": {
        "name": "python",
        "version": 3
      },
      "file_extension": ".py",
      "mimetype": "text/x-python",
      "name": "python",
      "nbconvert_exporter": "python",
      "pygments_lexer": "ipython3",
      "version": "3.8"
    },
    "kernelspec": {
      "name": "python",
      "display_name": "Python (Pyodide)",
      "language": "python"
    }
  },
  "nbformat_minor": 4,
  "nbformat": 4,
  "cells": [
    {
      "cell_type": "code",
      "source": "# AIG150 Winter 2024\n# Week 2 Sample Code \n# Asma M Paracha\n# Join data spread across multiple files\n# Vertically merge",
      "metadata": {},
      "execution_count": null,
      "outputs": []
    },
    {
      "cell_type": "code",
      "source": "import pandas as pd",
      "metadata": {
        "trusted": true
      },
      "execution_count": 1,
      "outputs": []
    },
    {
      "cell_type": "code",
      "source": "# read files\nperson = pd.read_csv('survey_person.csv')\nsite = pd.read_csv('survey_site.csv')\nsurvey = pd.read_csv('survey_survey.csv')\nvisited = pd.read_csv('survey_visited.csv')",
      "metadata": {
        "trusted": true
      },
      "execution_count": 4,
      "outputs": []
    },
    {
      "cell_type": "code",
      "source": "#print each piece of data\nprint(person)\n",
      "metadata": {
        "trusted": true
      },
      "execution_count": 5,
      "outputs": [
        {
          "name": "stdout",
          "text": "      ident   personal    family\n0      dyer    William      Dyer\n1        pb      Frank   Pabodie\n2      lake   Anderson      Lake\n3       roe  Valentina   Roerich\n4  danforth      Frank  Danforth\n",
          "output_type": "stream"
        }
      ]
    },
    {
      "cell_type": "code",
      "source": "print(site)",
      "metadata": {
        "trusted": true
      },
      "execution_count": 6,
      "outputs": [
        {
          "name": "stdout",
          "text": "    name    lat    long\n0   DR-1 -49.85 -128.57\n1   DR-3 -47.15 -126.72\n2  MSK-4 -48.87 -123.40\n",
          "output_type": "stream"
        }
      ]
    },
    {
      "cell_type": "code",
      "source": "print(visited)",
      "metadata": {
        "trusted": true
      },
      "execution_count": 7,
      "outputs": [
        {
          "name": "stdout",
          "text": "   ident   site       dated\n0    619   DR-1  1927-02-08\n1    622   DR-1  1927-02-10\n2    734   DR-3  1939-01-07\n3    735   DR-3  1930-01-12\n4    751   DR-3  1930-02-26\n5    752   DR-3         NaN\n6    837  MSK-4  1932-01-14\n7    844   DR-1  1932-03-22\n",
          "output_type": "stream"
        }
      ]
    },
    {
      "cell_type": "code",
      "source": "print(survey)",
      "metadata": {
        "trusted": true
      },
      "execution_count": 8,
      "outputs": [
        {
          "name": "stdout",
          "text": "    taken person quant  reading\n0     619   dyer   rad     9.82\n1     619   dyer   sal     0.13\n2     622   dyer   rad     7.80\n3     622   dyer   sal     0.09\n4     734     pb   rad     8.41\n5     734   lake   sal     0.05\n6     734     pb  temp   -21.50\n7     735     pb   rad     7.22\n8     735    NaN   sal     0.06\n9     735    NaN  temp   -26.00\n10    751     pb   rad     4.35\n11    751     pb  temp   -18.50\n12    751   lake   sal     0.10\n13    752   lake   rad     2.19\n14    752   lake   sal     0.09\n15    752   lake  temp   -16.00\n16    752    roe   sal    41.60\n17    837   lake   rad     1.46\n18    837   lake   sal     0.21\n19    837    roe   sal    22.50\n20    844    roe   rad    11.25\n",
          "output_type": "stream"
        }
      ]
    },
    {
      "cell_type": "code",
      "source": "# Get unique data from visited to do a one-to-one merge\nvisited_subset = visited.loc[[0, 2, 6], :]\nprint(visited_subset)",
      "metadata": {
        "trusted": true
      },
      "execution_count": 9,
      "outputs": [
        {
          "name": "stdout",
          "text": "   ident   site       dated\n0    619   DR-1  1927-02-08\n2    734   DR-3  1939-01-07\n6    837  MSK-4  1932-01-14\n",
          "output_type": "stream"
        }
      ]
    },
    {
      "cell_type": "code",
      "source": "# get a count of the values in the site column\nprint(\n  visited_subset[\"site\"].value_counts()\n)",
      "metadata": {
        "trusted": true
      },
      "execution_count": 10,
      "outputs": [
        {
          "name": "stdout",
          "text": "DR-1     1\nDR-3     1\nMSK-4    1\nName: site, dtype: int64\n",
          "output_type": "stream"
        }
      ]
    },
    {
      "cell_type": "code",
      "source": "# perform one to one merge\n# the default value for 'how' is 'inner'\n# so it doesn't need to be specified\no2o_merge = site.merge(\n    visited_subset, left_on=\"name\", right_on=\"site\"\n)\nprint(o2o_merge)",
      "metadata": {
        "trusted": true
      },
      "execution_count": 11,
      "outputs": [
        {
          "name": "stdout",
          "text": "    name    lat    long  ident   site       dated\n0   DR-1 -49.85 -128.57    619   DR-1  1927-02-08\n1   DR-3 -47.15 -126.72    734   DR-3  1939-01-07\n2  MSK-4 -48.87 -123.40    837  MSK-4  1932-01-14\n",
          "output_type": "stream"
        }
      ]
    },
    {
      "cell_type": "code",
      "source": "# let's now try many to one merge\n# get a count of the values in the site column\nprint(\n  visited[\"site\"].value_counts()\n)",
      "metadata": {
        "trusted": true
      },
      "execution_count": 12,
      "outputs": [
        {
          "name": "stdout",
          "text": "DR-3     4\nDR-1     3\nMSK-4    1\nName: site, dtype: int64\n",
          "output_type": "stream"
        }
      ]
    },
    {
      "cell_type": "code",
      "source": "m2o_merge = site.merge(visited, left_on='name', right_on='site')\nprint(m2o_merge)",
      "metadata": {
        "trusted": true
      },
      "execution_count": 13,
      "outputs": [
        {
          "name": "stdout",
          "text": "    name    lat    long  ident   site       dated\n0   DR-1 -49.85 -128.57    619   DR-1  1927-02-08\n1   DR-1 -49.85 -128.57    622   DR-1  1927-02-10\n2   DR-1 -49.85 -128.57    844   DR-1  1932-03-22\n3   DR-3 -47.15 -126.72    734   DR-3  1939-01-07\n4   DR-3 -47.15 -126.72    735   DR-3  1930-01-12\n5   DR-3 -47.15 -126.72    751   DR-3  1930-02-26\n6   DR-3 -47.15 -126.72    752   DR-3         NaN\n7  MSK-4 -48.87 -123.40    837  MSK-4  1932-01-14\n",
          "output_type": "stream"
        }
      ]
    },
    {
      "cell_type": "code",
      "source": "# let's now try many to many merge\nps = person.merge(survey, left_on='ident', right_on='person')\nvs = visited.merge(survey, left_on='ident', right_on='taken')",
      "metadata": {
        "trusted": true
      },
      "execution_count": 14,
      "outputs": []
    },
    {
      "cell_type": "code",
      "source": "print(ps)",
      "metadata": {
        "trusted": true
      },
      "execution_count": 15,
      "outputs": [
        {
          "name": "stdout",
          "text": "   ident   personal   family  taken person quant  reading\n0   dyer    William     Dyer    619   dyer   rad     9.82\n1   dyer    William     Dyer    619   dyer   sal     0.13\n2   dyer    William     Dyer    622   dyer   rad     7.80\n3   dyer    William     Dyer    622   dyer   sal     0.09\n4     pb      Frank  Pabodie    734     pb   rad     8.41\n5     pb      Frank  Pabodie    734     pb  temp   -21.50\n6     pb      Frank  Pabodie    735     pb   rad     7.22\n7     pb      Frank  Pabodie    751     pb   rad     4.35\n8     pb      Frank  Pabodie    751     pb  temp   -18.50\n9   lake   Anderson     Lake    734   lake   sal     0.05\n10  lake   Anderson     Lake    751   lake   sal     0.10\n11  lake   Anderson     Lake    752   lake   rad     2.19\n12  lake   Anderson     Lake    752   lake   sal     0.09\n13  lake   Anderson     Lake    752   lake  temp   -16.00\n14  lake   Anderson     Lake    837   lake   rad     1.46\n15  lake   Anderson     Lake    837   lake   sal     0.21\n16   roe  Valentina  Roerich    752    roe   sal    41.60\n17   roe  Valentina  Roerich    837    roe   sal    22.50\n18   roe  Valentina  Roerich    844    roe   rad    11.25\n",
          "output_type": "stream"
        }
      ]
    },
    {
      "cell_type": "code",
      "source": "print(vs)",
      "metadata": {
        "trusted": true
      },
      "execution_count": 16,
      "outputs": [
        {
          "name": "stdout",
          "text": "    ident   site       dated  taken person quant  reading\n0     619   DR-1  1927-02-08    619   dyer   rad     9.82\n1     619   DR-1  1927-02-08    619   dyer   sal     0.13\n2     622   DR-1  1927-02-10    622   dyer   rad     7.80\n3     622   DR-1  1927-02-10    622   dyer   sal     0.09\n4     734   DR-3  1939-01-07    734     pb   rad     8.41\n5     734   DR-3  1939-01-07    734   lake   sal     0.05\n6     734   DR-3  1939-01-07    734     pb  temp   -21.50\n7     735   DR-3  1930-01-12    735     pb   rad     7.22\n8     735   DR-3  1930-01-12    735    NaN   sal     0.06\n9     735   DR-3  1930-01-12    735    NaN  temp   -26.00\n10    751   DR-3  1930-02-26    751     pb   rad     4.35\n11    751   DR-3  1930-02-26    751     pb  temp   -18.50\n12    751   DR-3  1930-02-26    751   lake   sal     0.10\n13    752   DR-3         NaN    752   lake   rad     2.19\n14    752   DR-3         NaN    752   lake   sal     0.09\n15    752   DR-3         NaN    752   lake  temp   -16.00\n16    752   DR-3         NaN    752    roe   sal    41.60\n17    837  MSK-4  1932-01-14    837   lake   rad     1.46\n18    837  MSK-4  1932-01-14    837   lake   sal     0.21\n19    837  MSK-4  1932-01-14    837    roe   sal    22.50\n20    844   DR-1  1932-03-22    844    roe   rad    11.25\n",
          "output_type": "stream"
        }
      ]
    },
    {
      "cell_type": "code",
      "source": "# explore how to check your merge using assert",
      "metadata": {},
      "execution_count": null,
      "outputs": []
    }
  ]
}