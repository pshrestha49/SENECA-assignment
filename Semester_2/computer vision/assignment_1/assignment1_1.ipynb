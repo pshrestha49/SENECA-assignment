{
 "cells": [
  {
   "cell_type": "markdown",
   "id": "c30e922b",
   "metadata": {},
   "source": [
    "### Part 1"
   ]
  },
  {
   "cell_type": "code",
   "execution_count": 1,
   "id": "6561a242",
   "metadata": {},
   "outputs": [],
   "source": [
    "import cv2 as cv\n",
    "\n"
   ]
  },
  {
   "cell_type": "code",
   "execution_count": 5,
   "id": "7f8c576e",
   "metadata": {},
   "outputs": [
    {
     "name": "stderr",
     "output_type": "stream",
     "text": [
      "[ WARN:0@125.165] global cap_gstreamer.cpp:1173 isPipelinePlaying OpenCV | GStreamer warning: GStreamer: pipeline have not been created\n"
     ]
    },
    {
     "name": "stdout",
     "output_type": "stream",
     "text": [
      "Frame width:  640\n",
      "Frame height:  480\n"
     ]
    }
   ],
   "source": [
    "# Start a video capture, using device's camera\n",
    "cap = cv.VideoCapture(0)\n",
    "\n",
    "# Check if video file opened successfully\n",
    "if (cap.isOpened() == False):\n",
    "  print(\"Error opening video stream or file\")\n",
    "\n",
    "frame_width = int(cap.get(3))\n",
    "frame_height = int(cap.get(4))\n",
    "print(\"Frame width: \" , frame_width)\n",
    "print(\"Frame height: \" , frame_height)\n",
    "\n",
    "# Read until video is completed\n",
    "while(cap.isOpened()):\n",
    "  # Capture frame-by-frame\n",
    "  ret, frame = cap.read()\n",
    "  if ret == False:\n",
    "    break\n",
    "  # Display the frame\n",
    "  cv.imshow('frame',frame)\n",
    "  key = cv.waitKey(25)\n",
    "  # Press Q on keyboard to exit\n",
    "  if key & 0xFF == ord('q'):\n",
    "    break\n",
    "\n",
    "# Release the video capture \n",
    "cap.release()\n",
    "\n",
    "# Close all the frames\n",
    "cv.destroyAllWindows()"
   ]
  },
  {
   "cell_type": "markdown",
   "id": "4ac37ec8",
   "metadata": {},
   "source": [
    "### Part 2"
   ]
  },
  {
   "cell_type": "markdown",
   "id": "5010a70b",
   "metadata": {},
   "source": [
    "#### Qn. 1\n",
    "\n",
    "Take a snapshot whenever the ‘x’ key is pressed."
   ]
  },
  {
   "cell_type": "code",
   "execution_count": 3,
   "id": "a384934f",
   "metadata": {},
   "outputs": [
    {
     "name": "stderr",
     "output_type": "stream",
     "text": [
      "[ WARN:0@4.975] global cap_gstreamer.cpp:1173 isPipelinePlaying OpenCV | GStreamer warning: GStreamer: pipeline have not been created\n"
     ]
    },
    {
     "name": "stdout",
     "output_type": "stream",
     "text": [
      "Frame width:  640\n",
      "Frame height:  480\n"
     ]
    }
   ],
   "source": [
    "# Start a video capture, using device's camera\n",
    "cap = cv.VideoCapture(0)\n",
    "\n",
    "# Check if video file opened successfully\n",
    "if (cap.isOpened() == False):\n",
    "  print(\"Error opening video stream or file\")\n",
    "\n",
    "frame_width = int(cap.get(3))\n",
    "frame_height = int(cap.get(4))\n",
    "print(\"Frame width: \" , frame_width)\n",
    "print(\"Frame height: \" , frame_height)\n",
    "\n",
    "# Read until video is completed\n",
    "while(cap.isOpened()):\n",
    "    # Capture frame-by-frame\n",
    "    ret, frame = cap.read()\n",
    "    if ret == False:\n",
    "        break\n",
    "    # Display the frame\n",
    "    cv.imshow('frame',frame)\n",
    "    key = cv.waitKey(25)\n",
    "\n",
    "    # snapshot \n",
    "    if key & 0xFF == ord('x'):\n",
    "        cv.imwrite(\"screenshot.png\", frame)\n",
    "        print('screenshotted')\n",
    "\n",
    "    # Press Q on keyboard to exit\n",
    "    if key & 0xFF == ord('q'):\n",
    "        break\n",
    "\n",
    "# Release the video capture \n",
    "cap.release()\n",
    "\n",
    "# Close all the frames\n",
    "cv.destroyAllWindows()"
   ]
  },
  {
   "cell_type": "markdown",
   "id": "bfd7f1cb",
   "metadata": {},
   "source": [
    "#### Qn. 2\n",
    "Crop 15 pixels around the snapshot image."
   ]
  },
  {
   "cell_type": "code",
   "execution_count": 4,
   "id": "bbf32c9f",
   "metadata": {},
   "outputs": [
    {
     "data": {
      "text/plain": [
       "True"
      ]
     },
     "execution_count": 4,
     "metadata": {},
     "output_type": "execute_result"
    }
   ],
   "source": [
    "snapshot = cv.imread('screenshot.png')\n",
    "cropped_snapshot = snapshot[15:-15, 15:-15]\n",
    "cv.imwrite(\"cropped screenshot.png\", cropped_snapshot)"
   ]
  },
  {
   "cell_type": "markdown",
   "id": "9d86a508",
   "metadata": {},
   "source": [
    "#### Qn. 3\n",
    "Pad the snapshot with 40 pixels using replicate padding"
   ]
  },
  {
   "cell_type": "code",
   "execution_count": 1,
   "id": "9d371b7c",
   "metadata": {},
   "outputs": [
    {
     "name": "stdout",
     "output_type": "stream",
     "text": [
      "Press any key in the image window to exit.\n"
     ]
    }
   ],
   "source": [
    "import time\n",
    "import cv2 as cv\n",
    "top, bottom, left, right = 40, 40, 40, 40 \n",
    "cropped_snapshot = cv.imread(\"cropped screenshot.png\")\n",
    "\n",
    "constant_color = (144, 238, 144)\n",
    "\n",
    "padded_image = cv.copyMakeBorder(cropped_snapshot,\n",
    "                                  top, bottom, left, right, \n",
    "                                  cv.BORDER_CONSTANT,\n",
    "                                  value=constant_color\n",
    "                                )\n",
    "cv.imshow('padded image', padded_image)\n",
    "print(\"Press any key in the image window to exit.\")\n",
    "cv.waitKey(0)\n",
    "cv.destroyAllWindows()"
   ]
  },
  {
   "cell_type": "markdown",
   "id": "51952993",
   "metadata": {},
   "source": [
    "#### Qn. 4\n",
    "\n",
    "Save the snapshot. Use image names such as ‘image01.jpg’, ‘image02.jpg’, etc., automatically incrementing the filename counter.\n"
   ]
  },
  {
   "cell_type": "code",
   "execution_count": 2,
   "id": "a1414c4b",
   "metadata": {},
   "outputs": [
    {
     "name": "stderr",
     "output_type": "stream",
     "text": [
      "[ WARN:0@4.447] global samples.cpp:61 findFile cv::samples::findFile('image01.jpg') => '/home/toybot/anaconda3/envs/gvenv\n"
     ]
    },
    {
     "name": "stdout",
     "output_type": "stream",
     "text": [
      "image01.jpg saved\n"
     ]
    }
   ],
   "source": [
    "import sys\n",
    "\n",
    "c = 1\n",
    "\n",
    "while True:\n",
    "    img = cv.imread(cv.samples.findFile(f\"image0{c}.jpg\"))\n",
    "    if img is None:\n",
    "        break  \n",
    "\n",
    "    print(f'image0{c} found')\n",
    "    c +=1\n",
    "\n",
    "\n",
    "cv.imshow(\"padded_image\", padded_image)\n",
    "k = cv.waitKey(0)\n",
    "\n",
    "if k == ord('s'):\n",
    "    cv.imwrite(f\"image0{c}.jpg\", padded_image)\n",
    "    print(f'image0{c}.jpg saved')\n",
    "    cv.destroyAllWindows()"
   ]
  },
  {
   "cell_type": "markdown",
   "id": "8d00681d",
   "metadata": {},
   "source": [
    "#### Qn. 5\n",
    "Show this image in a new window for 1 second. Then automatically close it and return to the camera feed."
   ]
  },
  {
   "cell_type": "code",
   "execution_count": 7,
   "id": "d27c41a9",
   "metadata": {},
   "outputs": [
    {
     "name": "stdout",
     "output_type": "stream",
     "text": [
      "image found\n"
     ]
    },
    {
     "name": "stderr",
     "output_type": "stream",
     "text": [
      "[ WARN:0@8.203] global cap_gstreamer.cpp:1173 isPipelinePlaying OpenCV | GStreamer warning: GStreamer: pipeline have not been created\n"
     ]
    }
   ],
   "source": [
    "img = cv.imread(\"image01.jpg\")\n",
    "print('image found')\n",
    "cv.imshow(\"image\", img)\n",
    "cv.waitKey(1000)\n",
    "cv.destroyAllWindows()\n",
    "\n",
    "cap = cv.VideoCapture(0)\n",
    "\n",
    "if (cap.isOpened() == False):\n",
    "  print(\"Error opening video stream or file\")\n",
    "\n",
    "while(cap.isOpened()):\n",
    "  ret, frame = cap.read()\n",
    "  if ret == False:\n",
    "    break\n",
    "  cv.imshow('frame',frame)\n",
    "  key = cv.waitKey(20)\n",
    "  if key & 0xFF == ord('q'):\n",
    "    break\n",
    "\n",
    "cap.release()\n",
    "\n",
    "cv.destroyAllWindows()"
   ]
  },
  {
   "cell_type": "code",
   "execution_count": null,
   "id": "c5955934",
   "metadata": {},
   "outputs": [],
   "source": []
  }
 ],
 "metadata": {
  "kernelspec": {
   "display_name": "gvenv",
   "language": "python",
   "name": "python3"
  },
  "language_info": {
   "codemirror_mode": {
    "name": "ipython",
    "version": 3
   },
   "file_extension": ".py",
   "mimetype": "text/x-python",
   "name": "python",
   "nbconvert_exporter": "python",
   "pygments_lexer": "ipython3",
   "version": "3.12.2"
  }
 },
 "nbformat": 4,
 "nbformat_minor": 5
}
