{
  "cells": [
    {
      "cell_type": "code",
      "execution_count": 1,
      "metadata": {
        "colab": {
          "base_uri": "https://localhost:8080/"
        },
        "id": "9jwwwCp533zG",
        "outputId": "58f111fb-1296-4d41-df48-8ca5fd69719c"
      },
      "outputs": [],
      "source": [
        "import nltk\n",
        "from nltk.corpus import names\n",
        "from nltk.probability import ConditionalFreqDist"
      ]
    },
    {
      "cell_type": "markdown",
      "metadata": {},
      "source": [
        "Qn. 1"
      ]
    },
    {
      "cell_type": "code",
      "execution_count": 4,
      "metadata": {
        "id": "9jqK_hX46VUC"
      },
      "outputs": [],
      "source": [
        "labeled_names = (\n",
        "    [(name, 'male') for name in names.words('male.txt')] +\n",
        "    [(name, 'female') for name in names.words('female.txt')]\n",
        ")\n",
        "\n",
        "# Create a Conditional Frequency Distribution: gender → initial letter count\n",
        "cfd = ConditionalFreqDist(\n",
        "    (gender, name[0].lower())  # lowercase initial letter\n",
        "    for name, gender in labeled_names\n",
        ")"
      ]
    },
    {
      "cell_type": "code",
      "execution_count": 6,
      "metadata": {
        "colab": {
          "base_uri": "https://localhost:8080/"
        },
        "id": "lnU12SyH8m7Y",
        "outputId": "1d201ce5-91ce-49bd-b55d-2c8f58e2aa06"
      },
      "outputs": [
        {
          "name": "stdout",
          "output_type": "stream",
          "text": [
            "Top 5 Initial Letters for Male Names:\n",
            "[('s', 238), ('a', 213), ('m', 200), ('r', 200), ('t', 188), ('b', 173), ('c', 166), ('h', 163), ('g', 156), ('w', 151)]\n",
            "\n",
            "Top 5 Initial Letters for Female Names:\n",
            "[('m', 484), ('c', 469), ('a', 443), ('l', 332), ('s', 309), ('d', 308), ('j', 293), ('k', 276), ('e', 251), ('r', 247)]\n"
          ]
        }
      ],
      "source": [
        "print(\"Top 5 Initial Letters for Male Names:\")\n",
        "print(cfd['male'].most_common(10))\n",
        "\n",
        "print(\"\\nTop 5 Initial Letters for Female Names:\")\n",
        "print(cfd['female'].most_common(10))"
      ]
    },
    {
      "cell_type": "markdown",
      "metadata": {},
      "source": [
        "Qn. 2"
      ]
    },
    {
      "cell_type": "code",
      "execution_count": null,
      "metadata": {
        "colab": {
          "base_uri": "https://localhost:8080/"
        },
        "id": "2AgKQ8P0C3wG",
        "outputId": "b4c8ae63-01fb-4757-ad32-c0f118c0cc7f"
      },
      "outputs": [
        {
          "name": "stdout",
          "output_type": "stream",
          "text": [
            "Top 50 most frequent non-stopwords:\n",
            "upon: 427\n",
            "could: 218\n",
            "would: 193\n",
            "one: 164\n",
            "way: 151\n",
            "men: 144\n",
            "us: 143\n",
            "thurid: 125\n",
            "toward: 119\n",
            "great: 114\n",
            "helium: 107\n",
            "might: 104\n",
            "man: 102\n",
            "first: 101\n",
            "dejah: 99\n",
            "thoris: 99\n",
            "matai: 97\n",
            "shang: 97\n",
            "saw: 95\n",
            "two: 95\n",
            "within: 92\n",
            "came: 90\n",
            "back: 88\n",
            "jeddak: 86\n",
            "though: 84\n",
            "must: 83\n",
            "turned: 82\n",
            "woola: 79\n",
            "yellow: 78\n",
            "time: 78\n",
            "chamber: 78\n",
            "last: 77\n",
            "warriors: 77\n",
            "salensus: 77\n",
            "oll: 77\n",
            "eyes: 76\n",
            "moment: 74\n",
            "come: 72\n",
            "city: 72\n",
            "side: 71\n",
            "red: 70\n",
            "even: 69\n",
            "said: 69\n",
            "see: 69\n",
            "hand: 68\n",
            "beneath: 67\n",
            "beyond: 66\n",
            "palace: 66\n",
            "far: 65\n",
            "end: 65\n"
          ]
        },
        {
          "name": "stderr",
          "output_type": "stream",
          "text": [
            "[nltk_data] Downloading package stopwords to /home/toybot/nltk_data...\n",
            "[nltk_data]   Package stopwords is already up-to-date!\n"
          ]
        }
      ],
      "source": [
        "import nltk\n",
        "nltk.download('stopwords')\n",
        "\n",
        "from nltk.corpus import stopwords\n",
        "from nltk.tokenize import word_tokenize\n",
        "from nltk.probability import FreqDist\n",
        "\n",
        "def get_top_50():\n",
        "  with open(\"warlordofmars.txt\", \"r\") as file:\n",
        "      text = file.read()\n",
        "\n",
        "  tokens = word_tokenize(text)\n",
        "  words = [word.lower() for word in tokens if word.isalpha()]\n",
        "\n",
        "  #remove stop words\n",
        "  stop_words = set(stopwords.words(\"english\"))\n",
        "  filtered_words = [word for word in words if word not in stop_words]\n",
        "\n",
        "  fdist=FreqDist(filtered_words)\n",
        "\n",
        "  print(\"Top 50 most frequent non-stopwords:\")\n",
        "  for word, freq in fdist.most_common(50):\n",
        "    print(f\"{word}: {freq}\")\n",
        "  # Return both fdist and filtered_words\n",
        "  return fdist, filtered_words\n",
        "\n",
        "\n",
        "fdist, filtered_words = get_top_50()"
      ]
    },
    {
      "cell_type": "markdown",
      "metadata": {},
      "source": [
        "Qn. 2b"
      ]
    },
    {
      "cell_type": "code",
      "execution_count": 23,
      "metadata": {
        "colab": {
          "base_uri": "https://localhost:8080/"
        },
        "id": "e6MOsWxlgr96",
        "outputId": "6a466845-fa3c-465b-c27f-acbb76ce9077"
      },
      "outputs": [
        {
          "name": "stdout",
          "output_type": "stream",
          "text": [
            "\n",
            "Top 50 frequent bigrams (excluding stopwords):\n",
            "('dejah', 'thoris'): 99\n",
            "('matai', 'shang'): 97\n",
            "('salensus', 'oll'): 77\n",
            "('john', 'carter'): 60\n",
            "('kulan', 'tith'): 59\n",
            "('thuvan', 'dihn'): 53\n",
            "('prince', 'helium'): 39\n",
            "('yellow', 'men'): 30\n",
            "('first', 'born'): 30\n",
            "('red', 'men'): 26\n",
            "('tardos', 'mors'): 26\n",
            "('father', 'therns'): 25\n",
            "('could', 'see'): 24\n",
            "('carter', 'prince'): 23\n",
            "('princess', 'helium'): 22\n",
            "('jeddak', 'jeddaks'): 21\n",
            "('thuvia', 'ptarth'): 19\n",
            "('moment', 'later'): 19\n",
            "('upon', 'barsoom'): 19\n",
            "('black', 'dator'): 18\n",
            "('holy', 'therns'): 17\n",
            "('valley', 'dor'): 15\n",
            "('red', 'man'): 14\n",
            "('mors', 'kajak'): 13\n",
            "('let', 'us'): 13\n",
            "('yellow', 'man'): 13\n",
            "('hand', 'upon'): 12\n",
            "('outer', 'world'): 12\n",
            "('upon', 'us'): 12\n",
            "('tars', 'tarkas'): 11\n",
            "('golden', 'cliffs'): 11\n",
            "('shang', 'thurid'): 11\n",
            "('green', 'men'): 11\n",
            "('audience', 'chamber'): 11\n",
            "('temple', 'sun'): 10\n",
            "('sea', 'bottoms'): 10\n",
            "('thurid', 'matai'): 10\n",
            "('thurid', 'black'): 10\n",
            "('upon', 'right'): 10\n",
            "('fell', 'upon'): 10\n",
            "('jeddak', 'kaol'): 10\n",
            "('carrion', 'caves'): 9\n",
            "('green', 'warriors'): 9\n",
            "('two', 'men'): 9\n",
            "('dead', 'sea'): 9\n",
            "('upon', 'one'): 9\n",
            "('city', 'kaol'): 9\n",
            "('jeddak', 'ptarth'): 9\n",
            "('yellow', 'warriors'): 9\n",
            "('old', 'man'): 9\n"
          ]
        }
      ],
      "source": [
        "#Question 2b\n",
        "from nltk.util import bigrams\n",
        "from collections import Counter\n",
        "from nltk.corpus import stopwords\n",
        "stop_words = set(stopwords.words(\"english\"))\n",
        "\n",
        "# Create bigrams and filter out those with stopwords\n",
        "bigram_list = list(bigrams(filtered_words))\n",
        "filtered_bigrams = [bg for bg in bigram_list if bg[0] not in stop_words and bg[1] not in stop_words]\n",
        "\n",
        "# Count and print top 50 bigrams\n",
        "bigram_freq = Counter(filtered_bigrams).most_common(50)\n",
        "print(\"\\nTop 50 frequent bigrams (excluding stopwords):\")\n",
        "for pair, freq in bigram_freq:\n",
        "    print(f\"{pair}: {freq}\")\n"
      ]
    },
    {
      "cell_type": "markdown",
      "metadata": {},
      "source": [
        "Qn. 2c"
      ]
    },
    {
      "cell_type": "code",
      "execution_count": null,
      "metadata": {
        "colab": {
          "base_uri": "https://localhost:8080/"
        },
        "id": "3qSUIZYfOBjZ",
        "outputId": "e0c30f63-677f-4469-b7cc-b64e1af85ab3"
      },
      "outputs": [
        {
          "name": "stdout",
          "output_type": "stream",
          "text": [
            "\n",
            "Randomly selected word: palace\n"
          ]
        }
      ],
      "source": [
        "import random\n",
        "\n",
        "word_most_common = fdist.most_common(50)\n",
        "\n",
        "top_words = [word for word, freq in word_most_common]\n",
        "random_word = random.choice(top_words)\n",
        "print(f\"\\nRandomly selected word: {random_word}\")"
      ]
    },
    {
      "cell_type": "markdown",
      "metadata": {},
      "source": [
        "Qn. 2d"
      ]
    },
    {
      "cell_type": "code",
      "execution_count": null,
      "metadata": {
        "colab": {
          "base_uri": "https://localhost:8080/"
        },
        "id": "O06t5AVOR7Nx",
        "outputId": "6a1d7614-cd42-4be1-f9e7-96aae91a23bc"
      },
      "outputs": [
        {
          "name": "stdout",
          "output_type": "stream",
          "text": [
            "\n",
            "Generated text:\n",
            "\n",
            "Emma was not\n"
          ]
        }
      ],
      "source": [
        "from nltk import trigrams, ngrams, ConditionalFreqDist\n",
        "\n",
        "# Build trigram model\n",
        "Four_grammodel = ngrams(filtered_words, 4)\n",
        "trigrams_list = list(trigrams(filtered_words))\n",
        "model = ConditionalFreqDist(((w1, w2, w3), w4) for w1, w2, w3, w4 in Four_grammodel)\n",
        "\n",
        "# Generate random text\n",
        "def generate_text(cfdist, start_tuple, num_words=50):\n",
        "    w1, w2, w3 = start_tuple\n",
        "    output = [w1, w2, w3]\n",
        "\n",
        "    for _ in range(num_words):\n",
        "        context = (w1, w2, w3)\n",
        "        if context in cfdist:\n",
        "            w4 = random.choice(list(cfdist[context].keys()))\n",
        "            output.append(w4)\n",
        "            w1, w2, w3 = w2, w3, w4\n",
        "        else:\n",
        "            break\n",
        "    return ' '.join(output)\n",
        "\n",
        "print(\"\\nGenerated text:\\n\")\n",
        "generated = generate_text(cfd, (\"Emma\", \"was\", \"not\"), 100)\n",
        "print(generated)\n",
        "\n",
        "\"\"\"\n",
        "Strengths:\n",
        "It can have more context than bigrams and trigrams\n",
        "It can generate more realistic sentences.\n",
        "\n",
        "Weakness:\n",
        "It depends heavily on starting words.\n",
        "It breaks when unseen 3 word pattern arises.\n",
        "\n",
        "\"\"\""
      ]
    }
  ],
  "metadata": {
    "colab": {
      "provenance": []
    },
    "kernelspec": {
      "display_name": "gvenv",
      "language": "python",
      "name": "python3"
    },
    "language_info": {
      "codemirror_mode": {
        "name": "ipython",
        "version": 3
      },
      "file_extension": ".py",
      "mimetype": "text/x-python",
      "name": "python",
      "nbconvert_exporter": "python",
      "pygments_lexer": "ipython3",
      "version": "3.12.9"
    }
  },
  "nbformat": 4,
  "nbformat_minor": 0
}
