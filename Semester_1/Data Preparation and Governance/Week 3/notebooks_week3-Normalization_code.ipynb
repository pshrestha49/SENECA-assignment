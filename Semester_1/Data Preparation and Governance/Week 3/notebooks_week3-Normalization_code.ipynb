{
  "metadata": {
    "language_info": {
      "codemirror_mode": {
        "name": "python",
        "version": 3
      },
      "file_extension": ".py",
      "mimetype": "text/x-python",
      "name": "python",
      "nbconvert_exporter": "python",
      "pygments_lexer": "ipython3",
      "version": "3.8"
    },
    "kernelspec": {
      "name": "python",
      "display_name": "Python (Pyodide)",
      "language": "python"
    }
  },
  "nbformat_minor": 4,
  "nbformat": 4,
  "cells": [
    {
      "cell_type": "code",
      "source": "# AIG150 Winter 2024\n# Week 3 Sample Code \n# Asma M Paracha\n# Data Normalization\n",
      "metadata": {
        "trusted": true
      },
      "execution_count": null,
      "outputs": []
    },
    {
      "cell_type": "code",
      "source": "import pandas as pd\n# read the data from billboard.csv, the data is not tidy \nbillboard = pd.read_csv('billboard.csv')\nbillboard_long = billboard.melt(id_vars=[\"year\", \"artist\", \"track\", \"time\", \"date.entered\"],  var_name=\"week\",  value_name=\"rating\",)\nprint(billboard_long)",
      "metadata": {
        "trusted": true
      },
      "execution_count": 1,
      "outputs": [
        {
          "name": "stdout",
          "text": "       year            artist                    track  time date.entered  \\\n0      2000             2 Pac  Baby Don't Cry (Keep...  4:22   2000-02-26   \n1      2000           2Ge+her  The Hardest Part Of ...  3:15   2000-09-02   \n2      2000      3 Doors Down               Kryptonite  3:53   2000-04-08   \n3      2000      3 Doors Down                    Loser  4:24   2000-10-21   \n4      2000          504 Boyz            Wobble Wobble  3:35   2000-04-15   \n...     ...               ...                      ...   ...          ...   \n24087  2000       Yankee Grey     Another Nine Minutes  3:10   2000-04-29   \n24088  2000  Yearwood, Trisha          Real Live Woman  3:55   2000-04-01   \n24089  2000   Ying Yang Twins  Whistle While You Tw...  4:19   2000-03-18   \n24090  2000     Zombie Nation            Kernkraft 400  3:30   2000-09-02   \n24091  2000   matchbox twenty                     Bent  4:12   2000-04-29   \n\n       week  rating  \n0       wk1    87.0  \n1       wk1    91.0  \n2       wk1    81.0  \n3       wk1    76.0  \n4       wk1    57.0  \n...     ...     ...  \n24087  wk76     NaN  \n24088  wk76     NaN  \n24089  wk76     NaN  \n24090  wk76     NaN  \n24091  wk76     NaN  \n\n[24092 rows x 7 columns]\n",
          "output_type": "stream"
        }
      ]
    },
    {
      "cell_type": "code",
      "source": "# we have tidy up the data but it has a lot of repetition (year,artisit,track and time)\nprint(billboard_long.loc[billboard_long.track == 'Loser'])",
      "metadata": {
        "trusted": true
      },
      "execution_count": 2,
      "outputs": [
        {
          "name": "stdout",
          "text": "       year        artist  track  time date.entered  week  rating\n3      2000  3 Doors Down  Loser  4:24   2000-10-21   wk1    76.0\n320    2000  3 Doors Down  Loser  4:24   2000-10-21   wk2    76.0\n637    2000  3 Doors Down  Loser  4:24   2000-10-21   wk3    72.0\n954    2000  3 Doors Down  Loser  4:24   2000-10-21   wk4    69.0\n1271   2000  3 Doors Down  Loser  4:24   2000-10-21   wk5    67.0\n...     ...           ...    ...   ...          ...   ...     ...\n22510  2000  3 Doors Down  Loser  4:24   2000-10-21  wk72     NaN\n22827  2000  3 Doors Down  Loser  4:24   2000-10-21  wk73     NaN\n23144  2000  3 Doors Down  Loser  4:24   2000-10-21  wk74     NaN\n23461  2000  3 Doors Down  Loser  4:24   2000-10-21  wk75     NaN\n23778  2000  3 Doors Down  Loser  4:24   2000-10-21  wk76     NaN\n\n[76 rows x 7 columns]\n",
          "output_type": "stream"
        }
      ]
    },
    {
      "cell_type": "code",
      "source": "#Let's split the data to normalize it\nbillboard_songs = billboard_long[[\"year\", \"artist\", \"track\", \"time\"]]\nprint(billboard_songs.shape)",
      "metadata": {
        "trusted": true
      },
      "execution_count": 3,
      "outputs": [
        {
          "name": "stdout",
          "text": "(24092, 4)\n",
          "output_type": "stream"
        }
      ]
    },
    {
      "cell_type": "code",
      "source": "# remove the duplicate\nbillboard_songs = billboard_songs.drop_duplicates()\nprint(billboard_songs.shape)",
      "metadata": {
        "trusted": true
      },
      "execution_count": 4,
      "outputs": [
        {
          "name": "stdout",
          "text": "(317, 4)\n",
          "output_type": "stream"
        }
      ]
    },
    {
      "cell_type": "code",
      "source": "# Adding an index to merge the data back in one\nbillboard_songs['id'] = billboard_songs.index + 1\nprint(billboard_songs)",
      "metadata": {
        "trusted": true
      },
      "execution_count": 5,
      "outputs": [
        {
          "name": "stdout",
          "text": "     year            artist                    track  time   id\n0    2000             2 Pac  Baby Don't Cry (Keep...  4:22    1\n1    2000           2Ge+her  The Hardest Part Of ...  3:15    2\n2    2000      3 Doors Down               Kryptonite  3:53    3\n3    2000      3 Doors Down                    Loser  4:24    4\n4    2000          504 Boyz            Wobble Wobble  3:35    5\n..    ...               ...                      ...   ...  ...\n312  2000       Yankee Grey     Another Nine Minutes  3:10  313\n313  2000  Yearwood, Trisha          Real Live Woman  3:55  314\n314  2000   Ying Yang Twins  Whistle While You Tw...  4:19  315\n315  2000     Zombie Nation            Kernkraft 400  3:30  316\n316  2000   matchbox twenty                     Bent  4:12  317\n\n[317 rows x 5 columns]\n",
          "output_type": "stream"
        }
      ]
    },
    {
      "cell_type": "code",
      "source": "# Merge the song dataframe to the original data set\nbillboard_ratings = billboard_long.merge(billboard_songs, on=[\"year\", \"artist\", \"track\", \"time\"])\nprint(billboard_ratings.shape)",
      "metadata": {
        "trusted": true
      },
      "execution_count": 6,
      "outputs": [
        {
          "name": "stdout",
          "text": "(24092, 8)\n",
          "output_type": "stream"
        }
      ]
    },
    {
      "cell_type": "code",
      "source": "print(billboard_ratings)",
      "metadata": {
        "trusted": true
      },
      "execution_count": 7,
      "outputs": [
        {
          "name": "stdout",
          "text": "       year           artist                    track  time date.entered  \\\n0      2000            2 Pac  Baby Don't Cry (Keep...  4:22   2000-02-26   \n1      2000            2 Pac  Baby Don't Cry (Keep...  4:22   2000-02-26   \n2      2000            2 Pac  Baby Don't Cry (Keep...  4:22   2000-02-26   \n3      2000            2 Pac  Baby Don't Cry (Keep...  4:22   2000-02-26   \n4      2000            2 Pac  Baby Don't Cry (Keep...  4:22   2000-02-26   \n...     ...              ...                      ...   ...          ...   \n24087  2000  matchbox twenty                     Bent  4:12   2000-04-29   \n24088  2000  matchbox twenty                     Bent  4:12   2000-04-29   \n24089  2000  matchbox twenty                     Bent  4:12   2000-04-29   \n24090  2000  matchbox twenty                     Bent  4:12   2000-04-29   \n24091  2000  matchbox twenty                     Bent  4:12   2000-04-29   \n\n       week  rating   id  \n0       wk1    87.0    1  \n1       wk2    82.0    1  \n2       wk3    72.0    1  \n3       wk4    77.0    1  \n4       wk5    87.0    1  \n...     ...     ...  ...  \n24087  wk72     NaN  317  \n24088  wk73     NaN  317  \n24089  wk74     NaN  317  \n24090  wk75     NaN  317  \n24091  wk76     NaN  317  \n\n[24092 rows x 8 columns]\n",
          "output_type": "stream"
        }
      ]
    },
    {
      "cell_type": "code",
      "source": "",
      "metadata": {},
      "execution_count": null,
      "outputs": []
    }
  ]
}