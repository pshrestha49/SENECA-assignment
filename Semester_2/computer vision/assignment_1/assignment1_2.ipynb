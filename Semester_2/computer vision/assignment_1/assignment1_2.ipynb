{
 "cells": [
  {
   "cell_type": "markdown",
   "id": "2e450e16",
   "metadata": {},
   "source": [
    "#### Qn. 1"
   ]
  },
  {
   "cell_type": "code",
   "execution_count": 1,
   "id": "f8933d3d",
   "metadata": {},
   "outputs": [],
   "source": [
    "import cv2 as cv\n",
    "\n",
    "color_img = cv.imread('image01.jpg')\n",
    "\n",
    "if color_img is None:\n",
    "    print(\"Error: 'image01.jpg' not found or failed to load.\")\n",
    "else:\n",
    "    cv.imshow(\"Color Image\", color_img)\n",
    "    cv.waitKey(0)  # Wait for 25 milliseconds\n",
    "    cv.destroyAllWindows()\n"
   ]
  },
  {
   "cell_type": "markdown",
   "id": "28cb1346",
   "metadata": {},
   "source": [
    "#### Qn. 2"
   ]
  },
  {
   "cell_type": "code",
   "execution_count": 4,
   "id": "153d0a5e",
   "metadata": {},
   "outputs": [],
   "source": [
    "hsv_img = cv.cvtColor(color_img, cv.COLOR_BGR2HSV)\n",
    "cv.imshow('BGR Image', color_img)\n",
    "cv.imshow('BGR Image', hsv_img)\n",
    "cv.waitKey(0)\n",
    "cv.destroyAllWindows()"
   ]
  },
  {
   "cell_type": "markdown",
   "id": "b691bc06",
   "metadata": {},
   "source": [
    "#### Qn. 3"
   ]
  },
  {
   "cell_type": "code",
   "execution_count": 7,
   "id": "647bd83b",
   "metadata": {},
   "outputs": [],
   "source": [
    "hsv_img[:, :, 0] = 90\n",
    "modified_hsv_img = cv.cvtColor(hsv_img, cv.COLOR_HSV2BGR)\n",
    "cv.imshow('modified hsv', modified_hsv_img)\n",
    "cv.waitKey(0)\n",
    "cv.destroyAllWindows()"
   ]
  },
  {
   "cell_type": "code",
   "execution_count": null,
   "id": "cb5cff60",
   "metadata": {},
   "outputs": [],
   "source": []
  }
 ],
 "metadata": {
  "kernelspec": {
   "display_name": "gvenv",
   "language": "python",
   "name": "python3"
  },
  "language_info": {
   "codemirror_mode": {
    "name": "ipython",
    "version": 3
   },
   "file_extension": ".py",
   "mimetype": "text/x-python",
   "name": "python",
   "nbconvert_exporter": "python",
   "pygments_lexer": "ipython3",
   "version": "3.12.2"
  }
 },
 "nbformat": 4,
 "nbformat_minor": 5
}
