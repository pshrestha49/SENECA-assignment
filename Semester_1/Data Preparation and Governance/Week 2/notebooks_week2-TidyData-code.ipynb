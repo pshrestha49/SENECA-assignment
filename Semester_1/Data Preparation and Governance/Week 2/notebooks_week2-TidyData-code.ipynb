{
  "cells": [
    {
      "cell_type": "code",
      "execution_count": 1,
      "metadata": {
        "trusted": true
      },
      "outputs": [],
      "source": [
        "# AIG150 Winter 2024\n",
        "# Week 2 Sample Code for Tidy Data\n",
        "# Asma M Paracha"
      ]
    },
    {
      "cell_type": "code",
      "execution_count": 1,
      "metadata": {
        "trusted": true
      },
      "outputs": [],
      "source": [
        "# read teh csv file\n",
        "import pandas as pd\n",
        "pew = pd.read_csv('pew.csv')\n"
      ]
    },
    {
      "cell_type": "code",
      "execution_count": 2,
      "metadata": {
        "trusted": true
      },
      "outputs": [
        {
          "name": "stdout",
          "output_type": "stream",
          "text": [
            "(18, 11)\n"
          ]
        }
      ],
      "source": [
        "# print the no of cols and rows\n",
        "print(pew.shape)"
      ]
    },
    {
      "cell_type": "code",
      "execution_count": 3,
      "metadata": {
        "trusted": true
      },
      "outputs": [
        {
          "name": "stdout",
          "output_type": "stream",
          "text": [
            "                   religion  <$10k  $10-20k  $20-30k  $30-40k\n",
            "0                  Agnostic     27       34       60       81\n",
            "1                   Atheist     12       27       37       52\n",
            "2                  Buddhist     27       21       30       34\n",
            "3                  Catholic    418      617      732      670\n",
            "4        Don’t know/refused     15       14       15       11\n",
            "5          Evangelical Prot    575      869     1064      982\n",
            "6                     Hindu      1        9        7        9\n",
            "7   Historically Black Prot    228      244      236      238\n",
            "8         Jehovah's Witness     20       27       24       24\n",
            "9                    Jewish     19       19       25       25\n",
            "10            Mainline Prot    289      495      619      655\n",
            "11                   Mormon     29       40       48       51\n",
            "12                   Muslim      6        7        9       10\n",
            "13                 Orthodox     13       17       23       32\n",
            "14          Other Christian      9        7       11       13\n",
            "15             Other Faiths     20       33       40       46\n",
            "16    Other World Religions      5        2        3        4\n",
            "17             Unaffiliated    217      299      374      365\n"
          ]
        }
      ],
      "source": [
        "# print only the first few columns to get an idea\n",
        "print(pew.iloc[:,0:5])"
      ]
    },
    {
      "cell_type": "code",
      "execution_count": 4,
      "metadata": {
        "trusted": true
      },
      "outputs": [
        {
          "data": {
            "text/html": [
              "<div>\n",
              "<style scoped>\n",
              "    .dataframe tbody tr th:only-of-type {\n",
              "        vertical-align: middle;\n",
              "    }\n",
              "\n",
              "    .dataframe tbody tr th {\n",
              "        vertical-align: top;\n",
              "    }\n",
              "\n",
              "    .dataframe thead th {\n",
              "        text-align: right;\n",
              "    }\n",
              "</style>\n",
              "<table border=\"1\" class=\"dataframe\">\n",
              "  <thead>\n",
              "    <tr style=\"text-align: right;\">\n",
              "      <th></th>\n",
              "      <th>religion</th>\n",
              "      <th>variable</th>\n",
              "      <th>value</th>\n",
              "    </tr>\n",
              "  </thead>\n",
              "  <tbody>\n",
              "    <tr>\n",
              "      <th>0</th>\n",
              "      <td>Agnostic</td>\n",
              "      <td>&lt;$10k</td>\n",
              "      <td>27</td>\n",
              "    </tr>\n",
              "    <tr>\n",
              "      <th>1</th>\n",
              "      <td>Atheist</td>\n",
              "      <td>&lt;$10k</td>\n",
              "      <td>12</td>\n",
              "    </tr>\n",
              "    <tr>\n",
              "      <th>2</th>\n",
              "      <td>Buddhist</td>\n",
              "      <td>&lt;$10k</td>\n",
              "      <td>27</td>\n",
              "    </tr>\n",
              "    <tr>\n",
              "      <th>3</th>\n",
              "      <td>Catholic</td>\n",
              "      <td>&lt;$10k</td>\n",
              "      <td>418</td>\n",
              "    </tr>\n",
              "    <tr>\n",
              "      <th>4</th>\n",
              "      <td>Don’t know/refused</td>\n",
              "      <td>&lt;$10k</td>\n",
              "      <td>15</td>\n",
              "    </tr>\n",
              "    <tr>\n",
              "      <th>...</th>\n",
              "      <td>...</td>\n",
              "      <td>...</td>\n",
              "      <td>...</td>\n",
              "    </tr>\n",
              "    <tr>\n",
              "      <th>175</th>\n",
              "      <td>Orthodox</td>\n",
              "      <td>Don't know/refused</td>\n",
              "      <td>73</td>\n",
              "    </tr>\n",
              "    <tr>\n",
              "      <th>176</th>\n",
              "      <td>Other Christian</td>\n",
              "      <td>Don't know/refused</td>\n",
              "      <td>18</td>\n",
              "    </tr>\n",
              "    <tr>\n",
              "      <th>177</th>\n",
              "      <td>Other Faiths</td>\n",
              "      <td>Don't know/refused</td>\n",
              "      <td>71</td>\n",
              "    </tr>\n",
              "    <tr>\n",
              "      <th>178</th>\n",
              "      <td>Other World Religions</td>\n",
              "      <td>Don't know/refused</td>\n",
              "      <td>8</td>\n",
              "    </tr>\n",
              "    <tr>\n",
              "      <th>179</th>\n",
              "      <td>Unaffiliated</td>\n",
              "      <td>Don't know/refused</td>\n",
              "      <td>597</td>\n",
              "    </tr>\n",
              "  </tbody>\n",
              "</table>\n",
              "<p>180 rows × 3 columns</p>\n",
              "</div>"
            ],
            "text/plain": [
              "                  religion            variable  value\n",
              "0                 Agnostic               <$10k     27\n",
              "1                  Atheist               <$10k     12\n",
              "2                 Buddhist               <$10k     27\n",
              "3                 Catholic               <$10k    418\n",
              "4       Don’t know/refused               <$10k     15\n",
              "..                     ...                 ...    ...\n",
              "175               Orthodox  Don't know/refused     73\n",
              "176        Other Christian  Don't know/refused     18\n",
              "177           Other Faiths  Don't know/refused     71\n",
              "178  Other World Religions  Don't know/refused      8\n",
              "179           Unaffiliated  Don't know/refused    597\n",
              "\n",
              "[180 rows x 3 columns]"
            ]
          },
          "execution_count": 4,
          "metadata": {},
          "output_type": "execute_result"
        }
      ],
      "source": [
        "# Tidy the data\n",
        "# all columns will be melt down except for religion variable will be the columns  and value is the count \n",
        "pew_long = pew.melt(id_vars='religion')\n",
        "pew_long"
      ]
    },
    {
      "cell_type": "code",
      "execution_count": 5,
      "metadata": {
        "trusted": true
      },
      "outputs": [
        {
          "data": {
            "text/html": [
              "<div>\n",
              "<style scoped>\n",
              "    .dataframe tbody tr th:only-of-type {\n",
              "        vertical-align: middle;\n",
              "    }\n",
              "\n",
              "    .dataframe tbody tr th {\n",
              "        vertical-align: top;\n",
              "    }\n",
              "\n",
              "    .dataframe thead th {\n",
              "        text-align: right;\n",
              "    }\n",
              "</style>\n",
              "<table border=\"1\" class=\"dataframe\">\n",
              "  <thead>\n",
              "    <tr style=\"text-align: right;\">\n",
              "      <th></th>\n",
              "      <th>religion</th>\n",
              "      <th>income</th>\n",
              "      <th>count</th>\n",
              "    </tr>\n",
              "  </thead>\n",
              "  <tbody>\n",
              "    <tr>\n",
              "      <th>0</th>\n",
              "      <td>Agnostic</td>\n",
              "      <td>&lt;$10k</td>\n",
              "      <td>27</td>\n",
              "    </tr>\n",
              "    <tr>\n",
              "      <th>1</th>\n",
              "      <td>Atheist</td>\n",
              "      <td>&lt;$10k</td>\n",
              "      <td>12</td>\n",
              "    </tr>\n",
              "    <tr>\n",
              "      <th>2</th>\n",
              "      <td>Buddhist</td>\n",
              "      <td>&lt;$10k</td>\n",
              "      <td>27</td>\n",
              "    </tr>\n",
              "    <tr>\n",
              "      <th>3</th>\n",
              "      <td>Catholic</td>\n",
              "      <td>&lt;$10k</td>\n",
              "      <td>418</td>\n",
              "    </tr>\n",
              "    <tr>\n",
              "      <th>4</th>\n",
              "      <td>Don’t know/refused</td>\n",
              "      <td>&lt;$10k</td>\n",
              "      <td>15</td>\n",
              "    </tr>\n",
              "    <tr>\n",
              "      <th>...</th>\n",
              "      <td>...</td>\n",
              "      <td>...</td>\n",
              "      <td>...</td>\n",
              "    </tr>\n",
              "    <tr>\n",
              "      <th>175</th>\n",
              "      <td>Orthodox</td>\n",
              "      <td>Don't know/refused</td>\n",
              "      <td>73</td>\n",
              "    </tr>\n",
              "    <tr>\n",
              "      <th>176</th>\n",
              "      <td>Other Christian</td>\n",
              "      <td>Don't know/refused</td>\n",
              "      <td>18</td>\n",
              "    </tr>\n",
              "    <tr>\n",
              "      <th>177</th>\n",
              "      <td>Other Faiths</td>\n",
              "      <td>Don't know/refused</td>\n",
              "      <td>71</td>\n",
              "    </tr>\n",
              "    <tr>\n",
              "      <th>178</th>\n",
              "      <td>Other World Religions</td>\n",
              "      <td>Don't know/refused</td>\n",
              "      <td>8</td>\n",
              "    </tr>\n",
              "    <tr>\n",
              "      <th>179</th>\n",
              "      <td>Unaffiliated</td>\n",
              "      <td>Don't know/refused</td>\n",
              "      <td>597</td>\n",
              "    </tr>\n",
              "  </tbody>\n",
              "</table>\n",
              "<p>180 rows × 3 columns</p>\n",
              "</div>"
            ],
            "text/plain": [
              "                  religion              income  count\n",
              "0                 Agnostic               <$10k     27\n",
              "1                  Atheist               <$10k     12\n",
              "2                 Buddhist               <$10k     27\n",
              "3                 Catholic               <$10k    418\n",
              "4       Don’t know/refused               <$10k     15\n",
              "..                     ...                 ...    ...\n",
              "175               Orthodox  Don't know/refused     73\n",
              "176        Other Christian  Don't know/refused     18\n",
              "177           Other Faiths  Don't know/refused     71\n",
              "178  Other World Religions  Don't know/refused      8\n",
              "179           Unaffiliated  Don't know/refused    597\n",
              "\n",
              "[180 rows x 3 columns]"
            ]
          },
          "execution_count": 5,
          "metadata": {},
          "output_type": "execute_result"
        }
      ],
      "source": [
        "# You can give name to the generated columns\n",
        "pew_long = pew.melt(id_vars='religion',var_name=\"income\", value_name=\"count\")\n",
        "pew_long"
      ]
    },
    {
      "cell_type": "code",
      "execution_count": null,
      "metadata": {},
      "outputs": [],
      "source": [
        "# Sometimes you have more than one column to hold still"
      ]
    },
    {
      "cell_type": "code",
      "execution_count": null,
      "metadata": {},
      "outputs": [],
      "source": [
        "# You need to use pivot with melt if a column of data actually holds two variables instead of one, see the example below:"
      ]
    },
    {
      "cell_type": "code",
      "execution_count": 10,
      "metadata": {
        "trusted": true
      },
      "outputs": [
        {
          "name": "stdout",
          "output_type": "stream",
          "text": [
            "        id  year  month element  d1    d2    d3  d4    d5  d6  d7\n",
            "0  MX17004  2010      1    tmax NaN   NaN   NaN NaN   NaN NaN NaN\n",
            "1  MX17004  2010      1    tmin NaN   NaN   NaN NaN   NaN NaN NaN\n",
            "2  MX17004  2010      2    tmax NaN  27.3  24.1 NaN   NaN NaN NaN\n",
            "3  MX17004  2010      2    tmin NaN  14.4  14.4 NaN   NaN NaN NaN\n",
            "4  MX17004  2010      3    tmax NaN   NaN   NaN NaN  32.1 NaN NaN\n"
          ]
        }
      ],
      "source": [
        "weather=pd.read_csv('weather.csv')\n",
        "print(weather.iloc[:5,:11])"
      ]
    },
    {
      "cell_type": "code",
      "execution_count": 15,
      "metadata": {
        "trusted": true
      },
      "outputs": [
        {
          "name": "stdout",
          "output_type": "stream",
          "text": [
            "          id  year  month element  day  temp\n",
            "0    MX17004  2010      1    tmax   d1   NaN\n",
            "1    MX17004  2010      1    tmin   d1   NaN\n",
            "2    MX17004  2010      2    tmax   d1   NaN\n",
            "3    MX17004  2010      2    tmin   d1   NaN\n",
            "4    MX17004  2010      3    tmax   d1   NaN\n",
            "..       ...   ...    ...     ...  ...   ...\n",
            "677  MX17004  2010     10    tmin  d31   NaN\n",
            "678  MX17004  2010     11    tmax  d31   NaN\n",
            "679  MX17004  2010     11    tmin  d31   NaN\n",
            "680  MX17004  2010     12    tmax  d31   NaN\n",
            "681  MX17004  2010     12    tmin  d31   NaN\n",
            "\n",
            "[682 rows x 6 columns]\n"
          ]
        }
      ],
      "source": [
        "# Convert the long data into wide form\n",
        "weather_melt = weather.melt(id_vars=[\"id\", \"year\", \"month\", \"element\"],  var_name=\"day\",  value_name=\"temp\")\n",
        "print(weather_melt)"
      ]
    },
    {
      "cell_type": "code",
      "execution_count": null,
      "metadata": {},
      "outputs": [],
      "source": [
        "# Element column contains the min and max temp\\day, we need to pivot that column"
      ]
    },
    {
      "cell_type": "code",
      "execution_count": 18,
      "metadata": {
        "trusted": true
      },
      "outputs": [
        {
          "name": "stdout",
          "output_type": "stream",
          "text": [
            "element                 tmax  tmin\n",
            "id      year month day            \n",
            "MX17004 2010 1     d30  27.8  14.5\n",
            "             2     d11  29.7  13.4\n",
            "                   d2   27.3  14.4\n",
            "                   d23  29.9  10.7\n",
            "                   d3   24.1  14.4\n",
            "             3     d10  34.5  16.8\n",
            "                   d16  31.1  17.6\n",
            "                   d5   32.1  14.2\n",
            "             4     d27  36.3  16.7\n",
            "             5     d27  33.2  18.2\n",
            "             6     d17  28.0  17.5\n",
            "                   d29  30.1  18.0\n",
            "             7     d3   28.6  17.5\n",
            "                   d14  29.9  16.5\n",
            "             8     d23  26.4  15.0\n",
            "                   d5   29.6  15.8\n",
            "                   d29  28.0  15.3\n",
            "                   d13  29.8  16.5\n",
            "                   d25  29.7  15.6\n",
            "                   d31  25.4  15.4\n",
            "                   d8   29.0  17.3\n",
            "             10    d5   27.0  14.0\n",
            "                   d14  29.5  13.0\n",
            "                   d15  28.7  10.5\n",
            "                   d28  31.2  15.0\n",
            "                   d7   28.1  12.9\n",
            "             11    d2   31.3  16.3\n",
            "                   d5   26.3   7.9\n",
            "                   d27  27.7  14.2\n",
            "                   d26  28.1  12.1\n",
            "                   d4   27.2  12.0\n",
            "             12    d1   29.9  13.8\n",
            "                   d6   27.8  10.5\n"
          ]
        }
      ],
      "source": [
        "weather_tidy = weather_melt.pivot_table(index=['id', 'year', 'month', 'day'],columns='element',values='temp')\n",
        "print(weather_tidy)"
      ]
    },
    {
      "cell_type": "code",
      "execution_count": 19,
      "metadata": {
        "trusted": true
      },
      "outputs": [
        {
          "name": "stdout",
          "output_type": "stream",
          "text": [
            "element       id  year  month  day  tmax  tmin\n",
            "0        MX17004  2010      1  d30  27.8  14.5\n",
            "1        MX17004  2010      2  d11  29.7  13.4\n",
            "2        MX17004  2010      2   d2  27.3  14.4\n",
            "3        MX17004  2010      2  d23  29.9  10.7\n",
            "4        MX17004  2010      2   d3  24.1  14.4\n",
            "5        MX17004  2010      3  d10  34.5  16.8\n",
            "6        MX17004  2010      3  d16  31.1  17.6\n",
            "7        MX17004  2010      3   d5  32.1  14.2\n",
            "8        MX17004  2010      4  d27  36.3  16.7\n",
            "9        MX17004  2010      5  d27  33.2  18.2\n",
            "10       MX17004  2010      6  d17  28.0  17.5\n",
            "11       MX17004  2010      6  d29  30.1  18.0\n",
            "12       MX17004  2010      7   d3  28.6  17.5\n",
            "13       MX17004  2010      7  d14  29.9  16.5\n",
            "14       MX17004  2010      8  d23  26.4  15.0\n",
            "15       MX17004  2010      8   d5  29.6  15.8\n",
            "16       MX17004  2010      8  d29  28.0  15.3\n",
            "17       MX17004  2010      8  d13  29.8  16.5\n",
            "18       MX17004  2010      8  d25  29.7  15.6\n",
            "19       MX17004  2010      8  d31  25.4  15.4\n",
            "20       MX17004  2010      8   d8  29.0  17.3\n",
            "21       MX17004  2010     10   d5  27.0  14.0\n",
            "22       MX17004  2010     10  d14  29.5  13.0\n",
            "23       MX17004  2010     10  d15  28.7  10.5\n",
            "24       MX17004  2010     10  d28  31.2  15.0\n",
            "25       MX17004  2010     10   d7  28.1  12.9\n",
            "26       MX17004  2010     11   d2  31.3  16.3\n",
            "27       MX17004  2010     11   d5  26.3   7.9\n",
            "28       MX17004  2010     11  d27  27.7  14.2\n",
            "29       MX17004  2010     11  d26  28.1  12.1\n",
            "30       MX17004  2010     11   d4  27.2  12.0\n",
            "31       MX17004  2010     12   d1  29.9  13.8\n",
            "32       MX17004  2010     12   d6  27.8  10.5\n"
          ]
        }
      ],
      "source": [
        "# the data is tidy but still have some hirerachical columns structure that can be removed\n",
        "weather_tidy_flat = weather_tidy.reset_index()\n",
        "print(weather_tidy_flat)\n",
        "# The data is tidy enough to work with"
      ]
    },
    {
      "cell_type": "code",
      "execution_count": null,
      "metadata": {},
      "outputs": [],
      "source": []
    }
  ],
  "metadata": {
    "kernelspec": {
      "display_name": "myenv",
      "language": "python",
      "name": "python3"
    },
    "language_info": {
      "codemirror_mode": {
        "name": "ipython",
        "version": 3
      },
      "file_extension": ".py",
      "mimetype": "text/x-python",
      "name": "python",
      "nbconvert_exporter": "python",
      "pygments_lexer": "ipython3",
      "version": "3.12.8"
    }
  },
  "nbformat": 4,
  "nbformat_minor": 4
}
