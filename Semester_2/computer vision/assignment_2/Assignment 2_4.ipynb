{
 "cells": [
  {
   "cell_type": "code",
   "execution_count": null,
   "id": "24173095",
   "metadata": {},
   "outputs": [],
   "source": [
    "import cv2\n",
    "import numpy as np\n",
    "# 1\n",
    "\n",
    "# Load the image\n",
    "img = cv2.imread('umbrella.jpg')\n",
    "\n",
    "cv2.imshow(\"image\",img)\n",
    "cv2.waitKey(0)\n",
    "cv2.destroyAllWindows()"
   ]
  },
  {
   "cell_type": "code",
   "execution_count": null,
   "id": "ffc5bb91",
   "metadata": {},
   "outputs": [],
   "source": [
    "# 2,3\n",
    "def add_salt_pepper_noise(image, prob):\n",
    "    noisy = np.copy(image)\n",
    "    total_pixels = image.shape[0] * image.shape[1]\n",
    "    num_noisy = int(total_pixels * prob)\n",
    "\n",
    "    # Random coordinates for noise\n",
    "    coords = [np.random.randint(0, i - 1, num_noisy) for i in image.shape[:2]]\n",
    "\n",
    "    # Randomly assign black or white at those coords\n",
    "    for y, x in zip(coords[0], coords[1]):\n",
    "        noisy[y, x] = [0, 0, 0] if np.random.rand() < 0.5 else [255, 255, 255]\n",
    "\n",
    "    return noisy\n",
    "\n",
    "p = float(input(\"Enter salt & pepper noise probability (0 to 1): \"))\n",
    "assert 0 <= p <= 1, \"Probability must be between 0 and 1.\"\n",
    "\n",
    "salt_peppernoise = add_salt_pepper_noise(img, p)\n",
    "\n",
    "# Display\n",
    "cv2.imshow(\"salt and pepper\", salt_peppernoise)\n",
    "cv2.waitKey(0)\n",
    "cv2.destroyAllWindows()"
   ]
  },
  {
   "cell_type": "code",
   "execution_count": 20,
   "id": "fa5a2f7d",
   "metadata": {},
   "outputs": [],
   "source": [
    "# 4. Apply 3x3 Box Filter\n",
    "box_filtered = cv2.blur(img, (3, 3))\n",
    "\n",
    "# 5. Apply 3x3 Median Filter\n",
    "median_filtered = cv2.medianBlur(img, 3)\n",
    "\n",
    "# 6. Apply 3x3 Bilinear Filter via resize (downscale then upscale)\n",
    "h, w = img.shape[:2]\n",
    "bilinear_filtered = cv2.resize(\n",
    "    cv2.resize(img, (w//2, h//2), interpolation=cv2.INTER_LINEAR),\n",
    "    (w, h), interpolation=cv2.INTER_LINEAR\n",
    ")\n",
    "\n",
    "# Show results\n",
    "cv2.imshow(\"Box Filter\", box_filtered)\n",
    "cv2.imshow(\"Median Filter\", median_filtered)\n",
    "cv2.imshow(\"Bilinear Filter\", bilinear_filtered)\n",
    "cv2.waitKey(0)\n",
    "cv2.destroyAllWindows()"
   ]
  },
  {
   "cell_type": "markdown",
   "id": "0b64e388",
   "metadata": {},
   "source": [
    "A 11X11 Box Filter was used to process the noisy image. \n",
    "For every pixel, the filter averages nearby pixels and assigns that result to the original pixel.\n",
    "It reduces the noise but also makes the edges appear blurry."
   ]
  },
  {
   "cell_type": "code",
   "execution_count": 16,
   "id": "f93347a6",
   "metadata": {},
   "outputs": [],
   "source": [
    "# 4. Apply 11X11 Box Filter\n",
    "box_filtered = cv2.blur(img, (11, 11))\n",
    "\n",
    "# 5. Apply 11X11 Median Filter\n",
    "median_filtered = cv2.medianBlur(img, 11)\n",
    "\n",
    "\n",
    "# Show results\n",
    "cv2.imshow(\"Box Filter\", box_filtered)\n",
    "cv2.imshow(\"Median Filter\", median_filtered)\n",
    "cv2.waitKey(0)\n",
    "cv2.destroyAllWindows()"
   ]
  },
  {
   "cell_type": "markdown",
   "id": "61abc5e2",
   "metadata": {},
   "source": [
    "A Median Filter with a 25X25 kernel was used to process the noisy image.\n",
    "(p=0.10)\n",
    "rIt helps reduce Salt & Pepper noise because it uses the median of surrounding points to replace each pixel, while keeping edges clear."
   ]
  },
  {
   "cell_type": "code",
   "execution_count": 18,
   "id": "3ff1a572",
   "metadata": {},
   "outputs": [],
   "source": [
    "# 4. Apply 25X25 Box Filter\n",
    "box_filtered = cv2.blur(img, (25, 25))\n",
    "\n",
    "# 5. Apply 25X25 Median Filter\n",
    "median_filtered = cv2.medianBlur(img, 25)\n",
    "\n",
    "\n",
    "# Show results\n",
    "cv2.imshow(\"Box Filter\", box_filtered)\n",
    "cv2.imshow(\"Median Filter\", median_filtered)\n",
    "cv2.waitKey(0)\n",
    "cv2.destroyAllWindows()"
   ]
  },
  {
   "cell_type": "code",
   "execution_count": null,
   "id": "71a26e5b",
   "metadata": {},
   "outputs": [],
   "source": [
    "import torch\n",
    "torch.cuda.empty_cache()\n"
   ]
  },
  {
   "cell_type": "code",
   "execution_count": null,
   "id": "e6664b2f",
   "metadata": {},
   "outputs": [],
   "source": []
  }
 ],
 "metadata": {
  "kernelspec": {
   "display_name": "gvenv",
   "language": "python",
   "name": "python3"
  },
  "language_info": {
   "codemirror_mode": {
    "name": "ipython",
    "version": 3
   },
   "file_extension": ".py",
   "mimetype": "text/x-python",
   "name": "python",
   "nbconvert_exporter": "python",
   "pygments_lexer": "ipython3",
   "version": "3.10.18"
  }
 },
 "nbformat": 4,
 "nbformat_minor": 5
}
