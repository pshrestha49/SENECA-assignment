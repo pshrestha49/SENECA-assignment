{
  "metadata": {
    "language_info": {
      "codemirror_mode": {
        "name": "python",
        "version": 3
      },
      "file_extension": ".py",
      "mimetype": "text/x-python",
      "name": "python",
      "nbconvert_exporter": "python",
      "pygments_lexer": "ipython3",
      "version": "3.8"
    },
    "kernelspec": {
      "name": "python",
      "display_name": "Python (Pyodide)",
      "language": "python"
    }
  },
  "nbformat_minor": 4,
  "nbformat": 4,
  "cells": [
    {
      "cell_type": "code",
      "source": "# AIG150 Winter 2024\n# Week 2 Sample Code for Merging Data\n# Asma M Paracha",
      "metadata": {},
      "execution_count": null,
      "outputs": []
    },
    {
      "cell_type": "code",
      "source": "import pandas as pd\n\ndf1 = pd.read_csv('concat_1.csv')\ndf2 = pd.read_csv('concat_2.csv')\ndf3 = pd.read_csv('concat_3.csv')\n",
      "metadata": {
        "trusted": true
      },
      "execution_count": 1,
      "outputs": []
    },
    {
      "cell_type": "code",
      "source": "print(df1)",
      "metadata": {
        "trusted": true
      },
      "execution_count": 2,
      "outputs": [
        {
          "name": "stdout",
          "text": "    A   B   C   D\n0  a0  b0  c0  d0\n1  a1  b1  c1  d1\n2  a2  b2  c2  d2\n3  a3  b3  c3  d3\n",
          "output_type": "stream"
        }
      ]
    },
    {
      "cell_type": "code",
      "source": "print(df2)",
      "metadata": {
        "trusted": true
      },
      "execution_count": 3,
      "outputs": [
        {
          "name": "stdout",
          "text": "    A   B   C   D\n0  a4  b4  c4  d4\n1  a5  b5  c5  d5\n2  a6  b6  c6  d6\n3  a7  b7  c7  d7\n",
          "output_type": "stream"
        }
      ]
    },
    {
      "cell_type": "code",
      "source": "print(df3)",
      "metadata": {
        "trusted": true
      },
      "execution_count": 4,
      "outputs": [
        {
          "name": "stdout",
          "text": "     A    B    C    D\n0   a8   b8   c8   d8\n1   a9   b9   c9   d9\n2  a10  b10  c10  d10\n3  a11  b11  c11  d11\n",
          "output_type": "stream"
        }
      ]
    },
    {
      "cell_type": "code",
      "source": "# combine all the 3 dataframe into one dataframe object, data will be added as rows\nrow_concat = pd.concat([df1, df2, df3])\nprint(row_concat)",
      "metadata": {
        "trusted": true
      },
      "execution_count": 5,
      "outputs": [
        {
          "name": "stdout",
          "text": "     A    B    C    D\n0   a0   b0   c0   d0\n1   a1   b1   c1   d1\n2   a2   b2   c2   d2\n3   a3   b3   c3   d3\n0   a4   b4   c4   d4\n1   a5   b5   c5   d5\n2   a6   b6   c6   d6\n3   a7   b7   c7   d7\n0   a8   b8   c8   d8\n1   a9   b9   c9   d9\n2  a10  b10  c10  d10\n3  a11  b11  c11  d11\n",
          "output_type": "stream"
        }
      ]
    },
    {
      "cell_type": "code",
      "source": "# you can concatenate only 2 dataframe objects. Series cannot be properly concatenated to a dataframe.\n# For merging a series, first convert it to Dataframe and then call the concat method",
      "metadata": {},
      "execution_count": null,
      "outputs": []
    }
  ]
}